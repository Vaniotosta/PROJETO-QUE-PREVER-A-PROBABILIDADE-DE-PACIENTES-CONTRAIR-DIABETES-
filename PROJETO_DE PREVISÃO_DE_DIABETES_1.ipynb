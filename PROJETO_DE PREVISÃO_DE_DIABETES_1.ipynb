{
 "cells": [
  {
   "cell_type": "markdown",
   "id": "44cd8eab",
   "metadata": {},
   "source": [
    "# PROJETO QUE PREVER A PROBABILIDADE DE PACIENTES  CONTRAIR DIABETES"
   ]
  },
  {
   "cell_type": "markdown",
   "id": "39ed487d",
   "metadata": {},
   "source": [
    "## INTRODUÇÃO\n",
    "Em todo o planeta, o diabetes afeta cerca de 537 milhões de pessoas. Para chamar à atenção de toda a população e de profissionais de saúde sobre a importância da prevenção, do diagnóstico precoce e do controle adequado da doença que este trabalho se faz importante haja visto que a diabetes pode ser encarado como questão de saúde pública.\n",
    "O diabetes atinge 10,2% da população brasileira, conforme dados da pesquisa Vigitel Brasil 2023 (Vigilância de Fatores de Risco e Proteção para Doenças Crônicas por Inquérito Telefônico). Índice representa aumento com relação a 2021, quando era 9,1%.Sendo assim, prevenir a doença através dos dados históricos de pacientes com análises de dados e modelagem preditiva se faz fundamental na luta e na redução de custos atrelado ao alto índices dos diagnósticos positivos. "
   ]
  },
  {
   "cell_type": "markdown",
   "id": "b54008d3",
   "metadata": {},
   "source": [
    "## Desafio proposto:\n",
    "\n",
    "Dado o aumento de casos de diabetes no Brasil, um plano de saúde deseja fornecer opções de medicina preventiva para seus clientes.\n",
    "\n",
    "Utilizando o histórico médico de alguns pacientes eles gostariam de saber quais são os com a maior **probabilidade de desenvolver diabetes**.\n",
    "\n",
    "A ideia é que os médicos desenvolvam planos de ação para esses pacientes, para que o hospital possa reduzir seus custos em longo prazo já que prevenir a doença é mais barato do que seu tratamento e suas complicações, além de melhorar o bem estar de seus clientes."
   ]
  },
  {
   "cell_type": "code",
   "execution_count": 212,
   "id": "e3d9b097",
   "metadata": {},
   "outputs": [],
   "source": [
    "# IMPORTANDO A PRINCIPAIS BIBLIOTECAS\n",
    "\n",
    "import pandas as pd\n",
    "import numpy as np\n",
    "import matplotlib.pyplot as plt"
   ]
  },
  {
   "cell_type": "code",
   "execution_count": 213,
   "id": "74c36f5e",
   "metadata": {},
   "outputs": [
    {
     "data": {
      "text/plain": [
       "(952, 18)"
      ]
     },
     "execution_count": 213,
     "metadata": {},
     "output_type": "execute_result"
    }
   ],
   "source": [
    "# Lendo arquivo\n",
    "df=pd.read_csv(\"medical_dataset.csv\")\n",
    "# observando qtdades de linhas e colunas\n",
    "df.head()\n",
    "df.shape"
   ]
  },
  {
   "cell_type": "code",
   "execution_count": 214,
   "id": "ccce1782",
   "metadata": {},
   "outputs": [
    {
     "data": {
      "text/html": [
       "<div>\n",
       "<style scoped>\n",
       "    .dataframe tbody tr th:only-of-type {\n",
       "        vertical-align: middle;\n",
       "    }\n",
       "\n",
       "    .dataframe tbody tr th {\n",
       "        vertical-align: top;\n",
       "    }\n",
       "\n",
       "    .dataframe thead th {\n",
       "        text-align: right;\n",
       "    }\n",
       "</style>\n",
       "<table border=\"1\" class=\"dataframe\">\n",
       "  <thead>\n",
       "    <tr style=\"text-align: right;\">\n",
       "      <th></th>\n",
       "      <th>Age</th>\n",
       "      <th>Gender</th>\n",
       "      <th>Family_Diabetes</th>\n",
       "      <th>highBP</th>\n",
       "      <th>PhysicallyActive</th>\n",
       "      <th>BMI</th>\n",
       "      <th>Smoking</th>\n",
       "      <th>Alcohol</th>\n",
       "      <th>Sleep</th>\n",
       "      <th>SoundSleep</th>\n",
       "      <th>RegularMedicine</th>\n",
       "      <th>JunkFood</th>\n",
       "      <th>Stress</th>\n",
       "      <th>BPLevel</th>\n",
       "      <th>Pregancies</th>\n",
       "      <th>Pdiabetes</th>\n",
       "      <th>UriationFreq</th>\n",
       "      <th>Diabetic</th>\n",
       "    </tr>\n",
       "  </thead>\n",
       "  <tbody>\n",
       "    <tr>\n",
       "      <th>0</th>\n",
       "      <td>50-59</td>\n",
       "      <td>Male</td>\n",
       "      <td>no</td>\n",
       "      <td>yes</td>\n",
       "      <td>one hr or more</td>\n",
       "      <td>39.0</td>\n",
       "      <td>no</td>\n",
       "      <td>no</td>\n",
       "      <td>8</td>\n",
       "      <td>6</td>\n",
       "      <td>no</td>\n",
       "      <td>occasionally</td>\n",
       "      <td>sometimes</td>\n",
       "      <td>high</td>\n",
       "      <td>0.0</td>\n",
       "      <td>0</td>\n",
       "      <td>not much</td>\n",
       "      <td>no</td>\n",
       "    </tr>\n",
       "    <tr>\n",
       "      <th>1</th>\n",
       "      <td>50-59</td>\n",
       "      <td>Male</td>\n",
       "      <td>no</td>\n",
       "      <td>yes</td>\n",
       "      <td>less than half an hr</td>\n",
       "      <td>28.0</td>\n",
       "      <td>no</td>\n",
       "      <td>no</td>\n",
       "      <td>8</td>\n",
       "      <td>6</td>\n",
       "      <td>yes</td>\n",
       "      <td>very often</td>\n",
       "      <td>sometimes</td>\n",
       "      <td>normal</td>\n",
       "      <td>0.0</td>\n",
       "      <td>0</td>\n",
       "      <td>not much</td>\n",
       "      <td>no</td>\n",
       "    </tr>\n",
       "    <tr>\n",
       "      <th>2</th>\n",
       "      <td>40-49</td>\n",
       "      <td>Male</td>\n",
       "      <td>no</td>\n",
       "      <td>no</td>\n",
       "      <td>one hr or more</td>\n",
       "      <td>24.0</td>\n",
       "      <td>no</td>\n",
       "      <td>no</td>\n",
       "      <td>6</td>\n",
       "      <td>6</td>\n",
       "      <td>no</td>\n",
       "      <td>occasionally</td>\n",
       "      <td>sometimes</td>\n",
       "      <td>normal</td>\n",
       "      <td>0.0</td>\n",
       "      <td>0</td>\n",
       "      <td>not much</td>\n",
       "      <td>no</td>\n",
       "    </tr>\n",
       "    <tr>\n",
       "      <th>3</th>\n",
       "      <td>50-59</td>\n",
       "      <td>Male</td>\n",
       "      <td>no</td>\n",
       "      <td>no</td>\n",
       "      <td>one hr or more</td>\n",
       "      <td>23.0</td>\n",
       "      <td>no</td>\n",
       "      <td>no</td>\n",
       "      <td>8</td>\n",
       "      <td>6</td>\n",
       "      <td>no</td>\n",
       "      <td>occasionally</td>\n",
       "      <td>sometimes</td>\n",
       "      <td>normal</td>\n",
       "      <td>0.0</td>\n",
       "      <td>0</td>\n",
       "      <td>not much</td>\n",
       "      <td>no</td>\n",
       "    </tr>\n",
       "    <tr>\n",
       "      <th>4</th>\n",
       "      <td>40-49</td>\n",
       "      <td>Male</td>\n",
       "      <td>no</td>\n",
       "      <td>no</td>\n",
       "      <td>less than half an hr</td>\n",
       "      <td>27.0</td>\n",
       "      <td>no</td>\n",
       "      <td>no</td>\n",
       "      <td>8</td>\n",
       "      <td>8</td>\n",
       "      <td>no</td>\n",
       "      <td>occasionally</td>\n",
       "      <td>sometimes</td>\n",
       "      <td>normal</td>\n",
       "      <td>0.0</td>\n",
       "      <td>0</td>\n",
       "      <td>not much</td>\n",
       "      <td>no</td>\n",
       "    </tr>\n",
       "  </tbody>\n",
       "</table>\n",
       "</div>"
      ],
      "text/plain": [
       "     Age Gender Family_Diabetes highBP      PhysicallyActive   BMI Smoking  \\\n",
       "0  50-59   Male              no    yes        one hr or more  39.0      no   \n",
       "1  50-59   Male              no    yes  less than half an hr  28.0      no   \n",
       "2  40-49   Male              no     no        one hr or more  24.0      no   \n",
       "3  50-59   Male              no     no        one hr or more  23.0      no   \n",
       "4  40-49   Male              no     no  less than half an hr  27.0      no   \n",
       "\n",
       "  Alcohol  Sleep  SoundSleep RegularMedicine      JunkFood     Stress BPLevel  \\\n",
       "0      no      8           6              no  occasionally  sometimes    high   \n",
       "1      no      8           6             yes    very often  sometimes  normal   \n",
       "2      no      6           6              no  occasionally  sometimes  normal   \n",
       "3      no      8           6              no  occasionally  sometimes  normal   \n",
       "4      no      8           8              no  occasionally  sometimes  normal   \n",
       "\n",
       "   Pregancies Pdiabetes UriationFreq Diabetic  \n",
       "0         0.0         0     not much       no  \n",
       "1         0.0         0     not much       no  \n",
       "2         0.0         0     not much       no  \n",
       "3         0.0         0     not much       no  \n",
       "4         0.0         0     not much       no  "
      ]
     },
     "execution_count": 214,
     "metadata": {},
     "output_type": "execute_result"
    }
   ],
   "source": [
    "df.head()"
   ]
  },
  {
   "cell_type": "markdown",
   "id": "a131e4c9",
   "metadata": {},
   "source": [
    "## Características da base\n",
    "\n",
    " - Cada linha são dados referentes a uma pessoa\n",
    " - Nós temos uma marcação das pessoas que são diabéticas\n",
    " - Alguns dos dados categóricos já foram agrupados previamente, por exemplo _Age_ e _PhysicallyActive_ já estão divididas em alguns grupos\n",
    " - Observando os nomes das colunas também temos indícios que os dados selecionados previamente parecem  ser conhecidos como influentes no desenvolvimento da doença (provavelmente nessa etapa teríamos que buscar a informações mais relevantes para o nosso problema em parceria com um médico por exemplo)"
   ]
  },
  {
   "cell_type": "code",
   "execution_count": 215,
   "id": "e33845d8",
   "metadata": {},
   "outputs": [
    {
     "data": {
      "text/plain": [
       "no     684\n",
       "yes    266\n",
       " no      1\n",
       "NaN      1\n",
       "Name: Diabetic, dtype: int64"
      ]
     },
     "execution_count": 215,
     "metadata": {},
     "output_type": "execute_result"
    }
   ],
   "source": [
    "# verificando a target\n",
    "df['Diabetic'].value_counts(dropna=False)"
   ]
  },
  {
   "cell_type": "markdown",
   "id": "72451a41",
   "metadata": {},
   "source": [
    "A target possui problemas de digitação e variáveis nulas, resolvendo logo isso\n"
   ]
  },
  {
   "cell_type": "code",
   "execution_count": 216,
   "id": "fc5ff16f",
   "metadata": {},
   "outputs": [],
   "source": [
    "# dropando os valores nulos\n",
    "df.dropna(subset=['Diabetic'], inplace=True)\n"
   ]
  },
  {
   "cell_type": "code",
   "execution_count": 217,
   "id": "9171b438",
   "metadata": {},
   "outputs": [],
   "source": [
    "# renomeando a target\n",
    "df['Diabetic'] = df.Diabetic.replace({' no': 'no'})"
   ]
  },
  {
   "cell_type": "markdown",
   "id": "6e79346c",
   "metadata": {},
   "source": [
    "### Precisamos transformar a target  em binários '0' e '1' para modelagem"
   ]
  },
  {
   "cell_type": "code",
   "execution_count": 218,
   "id": "0556095a",
   "metadata": {},
   "outputs": [],
   "source": [
    "# Transformando em 0 e 1\n",
    "df.Diabetic.replace(\n",
    "    {\n",
    "        'no' : 0,\n",
    "        'yes' : 1\n",
    "    },\n",
    "    inplace=True\n",
    ")"
   ]
  },
  {
   "cell_type": "markdown",
   "id": "c816b161",
   "metadata": {},
   "source": [
    "### Foi feito uma análise preliminar  das distribuições das variáveis e sua relação com a target"
   ]
  },
  {
   "cell_type": "markdown",
   "id": "e9042cd9",
   "metadata": {},
   "source": [
    "Foi observado as variáveis e suas relações , agora iniciaremos os preprocessamentos"
   ]
  },
  {
   "cell_type": "code",
   "execution_count": 219,
   "id": "1a41b0c4",
   "metadata": {},
   "outputs": [],
   "source": [
    "\n",
    "\n",
    "#!pip install sweetviz\n",
    "\n",
    "#import sweetviz as sv\n",
    "#report = sv.analyze(df, target_feat='Diabetic')\n",
    "\n",
    "#report.show_html('diabtes.html')\n",
    "                                        \n",
    "    \n",
    "\n"
   ]
  },
  {
   "cell_type": "code",
   "execution_count": 220,
   "id": "b8edaccb",
   "metadata": {},
   "outputs": [
    {
     "data": {
      "text/plain": [
       "0    685\n",
       "1    266\n",
       "Name: Diabetic, dtype: int64"
      ]
     },
     "metadata": {},
     "output_type": "display_data"
    },
    {
     "data": {
      "text/plain": [
       "(951, 18)"
      ]
     },
     "metadata": {},
     "output_type": "display_data"
    }
   ],
   "source": [
    "# verificando a target\n",
    "display(df['Diabetic'].value_counts(dropna=False))\n",
    "display(df.shape)"
   ]
  },
  {
   "cell_type": "markdown",
   "id": "6d78753f",
   "metadata": {},
   "source": [
    "### Baseados na informação sobre se a pessoa está ou não diabética, vamos tentar analisar quais os valores possíveis para os outros dados"
   ]
  },
  {
   "cell_type": "code",
   "execution_count": 221,
   "id": "340826f7",
   "metadata": {},
   "outputs": [
    {
     "name": "stdout",
     "output_type": "stream",
     "text": [
      "Age                           \t['50-59' '40-49' 'less than 40' '60 or older']\n",
      "Gender                        \t['Male' 'Female']\n",
      "Family_Diabetes               \t['no' 'yes']\n",
      "highBP                        \t['yes' 'no']\n",
      "PhysicallyActive              \t['one hr or more' 'less than half an hr' 'none' 'more than half an hr']\n",
      "BMI                           \t[39. 28. 24. 23. 27. 21. 20. 26. 22. 15. 34. 30. 29. 18. 32. 31. 36. 38.\n",
      " 40. 35. 19. 33. 17. 25. nan 42. 45.]\n",
      "Smoking                       \t['no' 'yes']\n",
      "Alcohol                       \t['no' 'yes']\n",
      "Sleep                         \t[ 8  6 10  7 11  9  4  5]\n",
      "SoundSleep                    \t[ 6  8 10  7 11  4  9  5  3  2  1  0]\n",
      "RegularMedicine               \t['no' 'yes' 'o']\n",
      "JunkFood                      \t['occasionally' 'very often' 'often' 'always']\n",
      "Stress                        \t['sometimes' 'not at all' 'very often' 'always']\n",
      "BPLevel                       \t['high' 'normal' 'low' 'Low' 'High' 'normal ']\n",
      "Pregancies                    \t[ 0.  1.  2.  3.  4. nan]\n",
      "Pdiabetes                     \t['0' 'yes' nan 'no']\n",
      "UriationFreq                  \t['not much' 'quite often']\n",
      "Diabetic                      \t[0 1]\n"
     ]
    }
   ],
   "source": [
    "# imprimindo valore único e verificando as variavéis\n",
    "for col in df.columns:\n",
    "    print(f'{col:30s}\\t{df[col].unique()}')"
   ]
  },
  {
   "cell_type": "markdown",
   "id": "166db254",
   "metadata": {},
   "source": [
    "#### Observações\n",
    "\n",
    "Existem outros dados com valores faltantes e que estão despadronizados. Precisamos nos lembrar de padronizar a forma como eles aparecem."
   ]
  },
  {
   "cell_type": "markdown",
   "id": "2f814cc4",
   "metadata": {},
   "source": [
    "#### Note que\n",
    "\n",
    "Em alguns casos, a padronização se deve , <u>aparentemente</u> erros de digitação, como na variável `Diabetic` temos os valores `'no'` e `' no'` (um espaço à esquerda).\n",
    "\n",
    "Em outros, isso não é algo tão obvio assim, como por exemplo no campo `Pdiabetes` (histórico de diabete gestacional) possui valor `'0'` e `'no'`. O `'0'` significa que o indivíduo <u>não teve</u> diabetes gestacional, ou significa que <u>não sabemos</u>, ou seja, equivalente a um *valor faltante*?\n",
    "\n",
    "Esse mesmo exemplo aparece no campo `BPLevel` com os valores `'Low'` e `'low'`. O variação na letra maiúscula é um erro de digitação, ou é, de fato, uma escala para indicar \"muito baixo\" e \"baixo\"?\n",
    "\n",
    "<br/>\n",
    "<div style=\"border-style: solid; border-width:1px; border-color: black; text-align:center; padding: 10px; padding-bottom:20px;\">\n",
    "    <h3>Por isso é sempre <u>fundamental</u> ter contato próximo com a área de negócio para entender o que significam os possíveis valores dos dados!</h3>\n",
    "</div>"
   ]
  },
  {
   "cell_type": "markdown",
   "id": "2406b0c2",
   "metadata": {},
   "source": [
    "## Estratégia\n",
    "\n",
    "\n",
    "\n",
    "- Na descrição do problema foi dito que **eles querem uma probabilidade** (podemos validar com o negócio se isso de fato é necessário)\n",
    "- Assim, podemos usar um modelo que <u>retorne uma probabilidade de fato</u> ou transformar os escores em probabilidades no final (calibração de modelos)\n",
    "  - Seguindo a estratégia de <u>começar pelo mais simples</u> para que não precisemos realizar a etapa de calibração, vamos começar com um modelo de **Regressão Logística**\n",
    "  - Note que praticamente todas variáveis são **categóricas**: Isso facilita nossa prepração para a Regressão Logística!\n",
    "- Apesar de não ter sido solicitado, nesse caso <u>pode ser interessante que possamos **interpretar**</u> as decisões do modelo, assim podemos validar e avaliar se as categorias estão fazendo sentido"
   ]
  },
  {
   "cell_type": "code",
   "execution_count": 222,
   "id": "d68986f5",
   "metadata": {},
   "outputs": [
    {
     "data": {
      "text/plain": [
       "Age                 0.000000\n",
       "Gender              0.000000\n",
       "Family_Diabetes     0.000000\n",
       "highBP              0.000000\n",
       "PhysicallyActive    0.000000\n",
       "BMI                 0.003155\n",
       "Smoking             0.000000\n",
       "Alcohol             0.000000\n",
       "Sleep               0.000000\n",
       "SoundSleep          0.000000\n",
       "RegularMedicine     0.000000\n",
       "JunkFood            0.000000\n",
       "Stress              0.000000\n",
       "BPLevel             0.000000\n",
       "Pregancies          0.044164\n",
       "Pdiabetes           0.001052\n",
       "UriationFreq        0.000000\n",
       "Diabetic            0.000000\n",
       "dtype: float64"
      ]
     },
     "execution_count": 222,
     "metadata": {},
     "output_type": "execute_result"
    }
   ],
   "source": [
    "# verificando as médias dados nulos \n",
    "df.isnull().mean()"
   ]
  },
  {
   "cell_type": "markdown",
   "id": "505891cc",
   "metadata": {},
   "source": [
    "temos pouco dados nulos , mas iremos investigar"
   ]
  },
  {
   "cell_type": "markdown",
   "id": "09c08cfb",
   "metadata": {},
   "source": [
    "## Vamos analisar como fica e quais são os valores possíveis das variáveis com missings e que apresentaram diferentes padrões"
   ]
  },
  {
   "cell_type": "code",
   "execution_count": 223,
   "id": "82c99b2a",
   "metadata": {},
   "outputs": [
    {
     "name": "stdout",
     "output_type": "stream",
     "text": [
      "Pregancies \n",
      " 0.0    0.791798\n",
      "2.0    0.067298\n",
      "3.0    0.063091\n",
      "NaN    0.044164\n",
      "1.0    0.029443\n",
      "4.0    0.004206\n",
      "Name: Pregancies, dtype: float64 \n",
      " _________________________________________________\n",
      "Pdiabetes \n",
      " 0      0.983176\n",
      "yes    0.014721\n",
      "NaN    0.001052\n",
      "no     0.001052\n",
      "Name: Pdiabetes, dtype: float64 \n",
      " _________________________________________________\n",
      "BMI \n",
      " 24.0    0.116719\n",
      "21.0    0.092534\n",
      "23.0    0.079916\n",
      "28.0    0.074658\n",
      "26.0    0.069401\n",
      "33.0    0.067298\n",
      "27.0    0.066246\n",
      "22.0    0.060988\n",
      "20.0    0.050473\n",
      "19.0    0.037855\n",
      "25.0    0.035752\n",
      "30.0    0.034700\n",
      "18.0    0.033649\n",
      "29.0    0.029443\n",
      "38.0    0.029443\n",
      "36.0    0.021030\n",
      "17.0    0.016824\n",
      "32.0    0.016824\n",
      "31.0    0.016824\n",
      "34.0    0.012618\n",
      "35.0    0.012618\n",
      "15.0    0.008412\n",
      "39.0    0.004206\n",
      "40.0    0.004206\n",
      "NaN     0.003155\n",
      "42.0    0.003155\n",
      "45.0    0.001052\n",
      "Name: BMI, dtype: float64 \n",
      " _________________________________________________\n",
      "PhysicallyActive \n",
      " less than half an hr    0.353312\n",
      "more than half an hr    0.284963\n",
      "one hr or more          0.222923\n",
      "none                    0.138801\n",
      "Name: PhysicallyActive, dtype: float64 \n",
      " _________________________________________________\n",
      "RegularMedicine \n",
      " no     0.645636\n",
      "yes    0.353312\n",
      "o      0.001052\n",
      "Name: RegularMedicine, dtype: float64 \n",
      " _________________________________________________\n",
      "BPLevel \n",
      " normal     0.742376\n",
      "high       0.221872\n",
      "low        0.026288\n",
      "High       0.005258\n",
      "Low        0.003155\n",
      "normal     0.001052\n",
      "Name: BPLevel, dtype: float64 \n",
      " _________________________________________________\n"
     ]
    }
   ],
   "source": [
    "#verificando as variáveis que fazem sentido ao problema\n",
    "\n",
    "colunas= ['Pregancies', 'Pdiabetes','BMI','PhysicallyActive','RegularMedicine','BPLevel']\n",
    "\n",
    "for col in colunas:\n",
    "    \n",
    "    print(col,\n",
    "          '\\n',\n",
    "          df[col].value_counts(normalize=True, dropna=False),\n",
    "          '\\n',\n",
    "          '_________________________________________________'\n",
    "          \n",
    "    \n",
    "    \n",
    "    \n",
    "    )"
   ]
  },
  {
   "cell_type": "code",
   "execution_count": 224,
   "id": "fa088374",
   "metadata": {},
   "outputs": [
    {
     "data": {
      "text/plain": [
       "0    0.720294\n",
       "1    0.279706\n",
       "Name: Diabetic, dtype: float64"
      ]
     },
     "execution_count": 224,
     "metadata": {},
     "output_type": "execute_result"
    }
   ],
   "source": [
    "# analizando a target\n",
    "df['Diabetic'].value_counts(normalize=True,dropna=False,)"
   ]
  },
  {
   "cell_type": "markdown",
   "id": "4c60b1e9",
   "metadata": {},
   "source": [
    "## PADRONIZANDO AS VARIÁVEIS"
   ]
  },
  {
   "cell_type": "code",
   "execution_count": 225,
   "id": "62416591",
   "metadata": {},
   "outputs": [],
   "source": [
    "# tirando espaços desnecessários\n",
    "df.Pregancies.replace({' 0.0': '0.0'}, inplace=True,)"
   ]
  },
  {
   "cell_type": "code",
   "execution_count": 226,
   "id": "98f2c959",
   "metadata": {},
   "outputs": [
    {
     "data": {
      "text/plain": [
       "0.0    753\n",
       "2.0     64\n",
       "3.0     60\n",
       "NaN     42\n",
       "1.0     28\n",
       "4.0      4\n",
       "Name: Pregancies, dtype: int64"
      ]
     },
     "execution_count": 226,
     "metadata": {},
     "output_type": "execute_result"
    }
   ],
   "source": [
    "df.Pregancies.value_counts(dropna=False)"
   ]
  },
  {
   "cell_type": "code",
   "execution_count": 227,
   "id": "e3708436",
   "metadata": {},
   "outputs": [
    {
     "data": {
      "text/plain": [
       "unknown    0.984227\n",
       "yes        0.014721\n",
       "no         0.001052\n",
       "Name: Pdiabetes, dtype: float64"
      ]
     },
     "execution_count": 227,
     "metadata": {},
     "output_type": "execute_result"
    }
   ],
   "source": [
    "# chamando os \"0\" de desconhecidos\n",
    "df.Pdiabetes.replace({'0':'unknown'}, inplace=True)\n",
    "\n",
    "# ubstitui os ausentes por desconhecidos\n",
    "df.Pdiabetes.fillna('unknown', inplace= True)\n",
    "\n",
    "# contagem dos valores\n",
    "df.Pdiabetes.value_counts(dropna=True, normalize= True)"
   ]
  },
  {
   "cell_type": "code",
   "execution_count": 228,
   "id": "34c0301c",
   "metadata": {},
   "outputs": [],
   "source": [
    "#renomeando erros de digitação\n",
    "df.BPLevel.replace(\n",
    "    {\n",
    "        'High' : 'high',\n",
    "        'Low' : 'low',\n",
    "        ' normal' : 'normal',\n",
    "        'normal ' : 'normal',\n",
    "    },\n",
    "    inplace=True\n",
    ")"
   ]
  },
  {
   "cell_type": "code",
   "execution_count": 229,
   "id": "3cceae05",
   "metadata": {},
   "outputs": [
    {
     "data": {
      "text/plain": [
       "normal    0.743428\n",
       "high      0.227129\n",
       "low       0.029443\n",
       "Name: BPLevel, dtype: float64"
      ]
     },
     "execution_count": 229,
     "metadata": {},
     "output_type": "execute_result"
    }
   ],
   "source": [
    "# fazendo as contagens\n",
    "df.BPLevel.value_counts(normalize=True, dropna=False)"
   ]
  },
  {
   "cell_type": "code",
   "execution_count": 230,
   "id": "64fe9a2b",
   "metadata": {},
   "outputs": [],
   "source": [
    "df.RegularMedicine.replace(\n",
    "    {'o': 'no',\n",
    "    ' no': 'no',\n",
    "    },\n",
    "    inplace=True)"
   ]
  },
  {
   "cell_type": "code",
   "execution_count": 231,
   "id": "0b39f41e",
   "metadata": {},
   "outputs": [
    {
     "data": {
      "text/plain": [
       "no     0.646688\n",
       "yes    0.353312\n",
       "Name: RegularMedicine, dtype: float64"
      ]
     },
     "execution_count": 231,
     "metadata": {},
     "output_type": "execute_result"
    }
   ],
   "source": [
    "# fazendo as contagens\n",
    "df.RegularMedicine.value_counts(normalize=True, dropna=False)"
   ]
  },
  {
   "cell_type": "markdown",
   "id": "d50743cb",
   "metadata": {},
   "source": [
    "## Já foi analisado as variáveis , mas irei observar com mais rigor  o comportamento das variáveis numéricas"
   ]
  },
  {
   "cell_type": "code",
   "execution_count": 232,
   "id": "b78dc4be",
   "metadata": {},
   "outputs": [
    {
     "data": {
      "text/html": [
       "<div>\n",
       "<style scoped>\n",
       "    .dataframe tbody tr th:only-of-type {\n",
       "        vertical-align: middle;\n",
       "    }\n",
       "\n",
       "    .dataframe tbody tr th {\n",
       "        vertical-align: top;\n",
       "    }\n",
       "\n",
       "    .dataframe thead th {\n",
       "        text-align: right;\n",
       "    }\n",
       "</style>\n",
       "<table border=\"1\" class=\"dataframe\">\n",
       "  <thead>\n",
       "    <tr style=\"text-align: right;\">\n",
       "      <th></th>\n",
       "      <th>Age</th>\n",
       "      <th>Gender</th>\n",
       "      <th>Family_Diabetes</th>\n",
       "      <th>highBP</th>\n",
       "      <th>PhysicallyActive</th>\n",
       "      <th>BMI</th>\n",
       "      <th>Smoking</th>\n",
       "      <th>Alcohol</th>\n",
       "      <th>Sleep</th>\n",
       "      <th>SoundSleep</th>\n",
       "      <th>RegularMedicine</th>\n",
       "      <th>JunkFood</th>\n",
       "      <th>Stress</th>\n",
       "      <th>BPLevel</th>\n",
       "      <th>Pregancies</th>\n",
       "      <th>Pdiabetes</th>\n",
       "      <th>UriationFreq</th>\n",
       "      <th>Diabetic</th>\n",
       "    </tr>\n",
       "  </thead>\n",
       "  <tbody>\n",
       "    <tr>\n",
       "      <th>0</th>\n",
       "      <td>50-59</td>\n",
       "      <td>Male</td>\n",
       "      <td>no</td>\n",
       "      <td>yes</td>\n",
       "      <td>one hr or more</td>\n",
       "      <td>39.0</td>\n",
       "      <td>no</td>\n",
       "      <td>no</td>\n",
       "      <td>8</td>\n",
       "      <td>6</td>\n",
       "      <td>no</td>\n",
       "      <td>occasionally</td>\n",
       "      <td>sometimes</td>\n",
       "      <td>high</td>\n",
       "      <td>0.0</td>\n",
       "      <td>unknown</td>\n",
       "      <td>not much</td>\n",
       "      <td>0</td>\n",
       "    </tr>\n",
       "    <tr>\n",
       "      <th>1</th>\n",
       "      <td>50-59</td>\n",
       "      <td>Male</td>\n",
       "      <td>no</td>\n",
       "      <td>yes</td>\n",
       "      <td>less than half an hr</td>\n",
       "      <td>28.0</td>\n",
       "      <td>no</td>\n",
       "      <td>no</td>\n",
       "      <td>8</td>\n",
       "      <td>6</td>\n",
       "      <td>yes</td>\n",
       "      <td>very often</td>\n",
       "      <td>sometimes</td>\n",
       "      <td>normal</td>\n",
       "      <td>0.0</td>\n",
       "      <td>unknown</td>\n",
       "      <td>not much</td>\n",
       "      <td>0</td>\n",
       "    </tr>\n",
       "    <tr>\n",
       "      <th>2</th>\n",
       "      <td>40-49</td>\n",
       "      <td>Male</td>\n",
       "      <td>no</td>\n",
       "      <td>no</td>\n",
       "      <td>one hr or more</td>\n",
       "      <td>24.0</td>\n",
       "      <td>no</td>\n",
       "      <td>no</td>\n",
       "      <td>6</td>\n",
       "      <td>6</td>\n",
       "      <td>no</td>\n",
       "      <td>occasionally</td>\n",
       "      <td>sometimes</td>\n",
       "      <td>normal</td>\n",
       "      <td>0.0</td>\n",
       "      <td>unknown</td>\n",
       "      <td>not much</td>\n",
       "      <td>0</td>\n",
       "    </tr>\n",
       "  </tbody>\n",
       "</table>\n",
       "</div>"
      ],
      "text/plain": [
       "     Age Gender Family_Diabetes highBP      PhysicallyActive   BMI Smoking  \\\n",
       "0  50-59   Male              no    yes        one hr or more  39.0      no   \n",
       "1  50-59   Male              no    yes  less than half an hr  28.0      no   \n",
       "2  40-49   Male              no     no        one hr or more  24.0      no   \n",
       "\n",
       "  Alcohol  Sleep  SoundSleep RegularMedicine      JunkFood     Stress BPLevel  \\\n",
       "0      no      8           6              no  occasionally  sometimes    high   \n",
       "1      no      8           6             yes    very often  sometimes  normal   \n",
       "2      no      6           6              no  occasionally  sometimes  normal   \n",
       "\n",
       "   Pregancies Pdiabetes UriationFreq  Diabetic  \n",
       "0         0.0   unknown     not much         0  \n",
       "1         0.0   unknown     not much         0  \n",
       "2         0.0   unknown     not much         0  "
      ]
     },
     "execution_count": 232,
     "metadata": {},
     "output_type": "execute_result"
    }
   ],
   "source": [
    "#lendo arquivo\n",
    "df.head(3)"
   ]
  },
  {
   "cell_type": "code",
   "execution_count": 233,
   "id": "5a2a3658",
   "metadata": {
    "scrolled": true
   },
   "outputs": [
    {
     "data": {
      "text/plain": [
       "Age                  object\n",
       "Gender               object\n",
       "Family_Diabetes      object\n",
       "highBP               object\n",
       "PhysicallyActive     object\n",
       "BMI                 float64\n",
       "Smoking              object\n",
       "Alcohol              object\n",
       "Sleep                 int64\n",
       "SoundSleep            int64\n",
       "RegularMedicine      object\n",
       "JunkFood             object\n",
       "Stress               object\n",
       "BPLevel              object\n",
       "Pregancies          float64\n",
       "Pdiabetes            object\n",
       "UriationFreq         object\n",
       "Diabetic              int64\n",
       "dtype: object"
      ]
     },
     "execution_count": 233,
     "metadata": {},
     "output_type": "execute_result"
    }
   ],
   "source": [
    "#observando os tipos de variáveis\n",
    "df.dtypes"
   ]
  },
  {
   "cell_type": "markdown",
   "id": "3bdda308",
   "metadata": {},
   "source": [
    "### Vamos analisar rapidamente as numéricas"
   ]
  },
  {
   "cell_type": "markdown",
   "id": "6253319d",
   "metadata": {},
   "source": [
    "## BMI"
   ]
  },
  {
   "cell_type": "code",
   "execution_count": 234,
   "id": "12c4a6ae",
   "metadata": {},
   "outputs": [
    {
     "data": {
      "image/png": "[encoded data removed]",
      "text/plain": [
       "<Figure size 640x480 with 1 Axes>"
      ]
     },
     "metadata": {},
     "output_type": "display_data"
    }
   ],
   "source": [
    "# Criando histograma BMI\n",
    "df.BMI.hist(bins=15, rwidth=.8);\n"
   ]
  },
  {
   "cell_type": "markdown",
   "id": "bfc4c38b",
   "metadata": {},
   "source": [
    "Existem uma concentração entre 20 e 25 anos"
   ]
  },
  {
   "cell_type": "markdown",
   "id": "547d2bde",
   "metadata": {},
   "source": [
    "### Vamos observar o BMI em relação ao diabéticos e não diabéticos"
   ]
  },
  {
   "cell_type": "code",
   "execution_count": 235,
   "id": "ac6424a8",
   "metadata": {},
   "outputs": [
    {
     "data": {
      "text/plain": [
       "Text(0, 0.5, 'Frequência')"
      ]
     },
     "execution_count": 235,
     "metadata": {},
     "output_type": "execute_result"
    },
    {
     "data": {
      "image/png": "[encoded data removed]",
      "text/plain": [
       "<Figure size 640x480 with 1 Axes>"
      ]
     },
     "metadata": {},
     "output_type": "display_data"
    }
   ],
   "source": [
    "# relação do bmi e dibeticos e não diabéticos\n",
    "\n",
    "df.loc[df.Diabetic==1]['BMI'].hist(bins=np.arange(15,45.1,2.5), rwidth=.8, color='r', alpha=.3,  density=True, label='Diabético')\n",
    "df.loc[df.Diabetic==0]['BMI'].hist(bins=np.arange(15,45.1,2.5), rwidth=.8, color='b', alpha=.3, density=True, label='Não Diabético')\n",
    "plt.legend()\n",
    "plt.xlabel('BMI')\n",
    "plt.ylabel('Frequência')"
   ]
  },
  {
   "cell_type": "markdown",
   "id": "cea9f458",
   "metadata": {},
   "source": [
    "Parece que o BMI é um dado interessante a investigar os casos de dibéticos"
   ]
  },
  {
   "cell_type": "markdown",
   "id": "df41479a",
   "metadata": {},
   "source": [
    "## SoundSleep"
   ]
  },
  {
   "cell_type": "code",
   "execution_count": 236,
   "id": "42406860",
   "metadata": {},
   "outputs": [
    {
     "data": {
      "text/plain": [
       "<Axes: >"
      ]
     },
     "execution_count": 236,
     "metadata": {},
     "output_type": "execute_result"
    },
    {
     "data": {
      "image/png": "[encoded data removed]",
      "text/plain": [
       "<Figure size 640x480 with 1 Axes>"
      ]
     },
     "metadata": {},
     "output_type": "display_data"
    }
   ],
   "source": [
    "# Observando a distrbuição da variavel qualidade do sono\n",
    "df['SoundSleep'].hist(bins=10, rwidth=.8)"
   ]
  },
  {
   "cell_type": "markdown",
   "id": "683a921c",
   "metadata": {},
   "source": [
    "Concentração de sono tranquilo entre 4 e 6 horas"
   ]
  },
  {
   "cell_type": "code",
   "execution_count": 237,
   "id": "c48dadcd",
   "metadata": {},
   "outputs": [
    {
     "data": {
      "text/plain": [
       "Text(0, 0.5, 'frequencia')"
      ]
     },
     "execution_count": 237,
     "metadata": {},
     "output_type": "execute_result"
    },
    {
     "data": {
      "image/png": "[encoded data removed]",
      "text/plain": [
       "<Figure size 640x480 with 1 Axes>"
      ]
     },
     "metadata": {},
     "output_type": "display_data"
    }
   ],
   "source": [
    "# observando a qualidade do sono nos casos diabético e não diabéticos\n",
    "df.loc[df['Diabetic']==1]['SoundSleep'].hist(bins=np.arange(0, 11.5,2), rwidth=.8, color='r', alpha=.3,  density=True, label='Diabético')\n",
    "df.loc[df['Diabetic']==0]['SoundSleep'].hist(bins=np.arange(0, 11.5,2), rwidth=.8, color='b', alpha=.3,  density=True, label='não Diabético')\n",
    "plt.legend()\n",
    "plt.xlabel('SoundSleep')\n",
    "plt.ylabel('frequencia')"
   ]
  },
  {
   "cell_type": "markdown",
   "id": "5170c977",
   "metadata": {},
   "source": [
    "Parece que as horas de sono profundo não intefere no quadro de diabetes"
   ]
  },
  {
   "cell_type": "markdown",
   "id": "223527cd",
   "metadata": {},
   "source": [
    "## Pregancies"
   ]
  },
  {
   "cell_type": "code",
   "execution_count": 238,
   "id": "df7580b7",
   "metadata": {},
   "outputs": [
    {
     "data": {
      "text/plain": [
       "<Axes: >"
      ]
     },
     "execution_count": 238,
     "metadata": {},
     "output_type": "execute_result"
    },
    {
     "data": {
      "image/png": "[encoded data removed]",
      "text/plain": [
       "<Figure size 640x480 with 1 Axes>"
      ]
     },
     "metadata": {},
     "output_type": "display_data"
    }
   ],
   "source": [
    "# Verificando a distribuição das gestão\n",
    "df['Pregancies'].hist(bins=4, rwidth=.8)"
   ]
  },
  {
   "cell_type": "markdown",
   "id": "e2113bc9",
   "metadata": {},
   "source": [
    "Esse número elevado de zero possa ser  sexo masculino, é preciso analisar por gênero feminino"
   ]
  },
  {
   "cell_type": "markdown",
   "id": "4d553f56",
   "metadata": {},
   "source": [
    "## Vamos observar a gestão apenas nos gênero feminino"
   ]
  },
  {
   "cell_type": "markdown",
   "id": "6b6f9cec",
   "metadata": {},
   "source": [
    "Observando apenas os femininos houve diminuição dos número de zeros"
   ]
  },
  {
   "cell_type": "code",
   "execution_count": 239,
   "id": "419cbfaa",
   "metadata": {},
   "outputs": [
    {
     "data": {
      "text/plain": [
       "<Axes: >"
      ]
     },
     "execution_count": 239,
     "metadata": {},
     "output_type": "execute_result"
    },
    {
     "data": {
      "image/png": "[encoded data removed]",
      "text/plain": [
       "<Figure size 640x480 with 1 Axes>"
      ]
     },
     "metadata": {},
     "output_type": "display_data"
    }
   ],
   "source": [
    "# Verificando o sexo feminino\n",
    "df.loc[df.Gender=='Female']['Pregancies'].hist(bins=np.arange(0,4.1,1), rwidth=.8)"
   ]
  },
  {
   "cell_type": "markdown",
   "id": "dd7a4599",
   "metadata": {},
   "source": [
    "###  Vamos analisar as gestações nos caso de diabetes?"
   ]
  },
  {
   "cell_type": "code",
   "execution_count": 240,
   "id": "36b55e46",
   "metadata": {},
   "outputs": [
    {
     "data": {
      "text/plain": [
       "Text(0, 0.5, 'frequencia')"
      ]
     },
     "execution_count": 240,
     "metadata": {},
     "output_type": "execute_result"
    },
    {
     "data": {
      "image/png": "[encoded data removed]",
      "text/plain": [
       "<Figure size 640x480 with 1 Axes>"
      ]
     },
     "metadata": {},
     "output_type": "display_data"
    }
   ],
   "source": [
    "# Numero de diabeticos e não dibeticos por gestação\n",
    "df.loc[df.Diabetic==1]['Pregancies'].hist(bins=np.arange(0, 4.1,1), rwidth=.8, color='r', alpha=.3,  density=True, label='Diabético')\n",
    "df.loc[df.Diabetic==0]['Pregancies'].hist(bins=np.arange(0, 4.1,1), rwidth=.8, color='b', alpha=.3,  density=True, label='Não Diabético')\n",
    "plt.legend()\n",
    "plt.xlabel('Pregancies')\n",
    "plt.ylabel('frequencia')"
   ]
  },
  {
   "cell_type": "markdown",
   "id": "c6e77009",
   "metadata": {},
   "source": [
    "Aqui percebe-se que mulheres acima de 2 gestação tem mais incidência à diabétes,mas é preciso verificar apenas o publico feminino"
   ]
  },
  {
   "cell_type": "markdown",
   "id": "c94cc32d",
   "metadata": {},
   "source": [
    "### Aqui existem umm problema, temos que observar apenas gestão nos grupo feminino"
   ]
  },
  {
   "cell_type": "code",
   "execution_count": 241,
   "id": "dd767758",
   "metadata": {},
   "outputs": [
    {
     "data": {
      "text/plain": [
       "Text(0, 0.5, 'frequencia')"
      ]
     },
     "execution_count": 241,
     "metadata": {},
     "output_type": "execute_result"
    },
    {
     "data": {
      "image/png": "[encoded data removed]",
      "text/plain": [
       "<Figure size 640x480 with 1 Axes>"
      ]
     },
     "metadata": {},
     "output_type": "display_data"
    }
   ],
   "source": [
    "# Observando as gestão apenas no grupo feminino\n",
    "df.loc[(df.Diabetic==1) & (df.Gender=='Female')]['Pregancies'].hist(bins=np.arange(0, 11.1,2), rwidth=.8, color='r', alpha=.3,  density=True, label='Diabético')\n",
    "df.loc[(df.Diabetic==0) & (df.Gender=='Female')]['Pregancies'].hist(bins=np.arange(0, 11.1,2), rwidth=.8, color='b', alpha=.3,  density=True, label='Nao Diabético')\n",
    "plt.legend()\n",
    "plt.xlabel('Pregancies')\n",
    "plt.ylabel('frequencia')"
   ]
  },
  {
   "cell_type": "markdown",
   "id": "51378493",
   "metadata": {},
   "source": [
    "Hipótese confirmada quanto maior o número de gestação, maior o risco de diabétes, pode ser uma diabetes gestacional"
   ]
  },
  {
   "cell_type": "code",
   "execution_count": 242,
   "id": "9d489bca",
   "metadata": {},
   "outputs": [
    {
     "data": {
      "text/plain": [
       "<Axes: >"
      ]
     },
     "execution_count": 242,
     "metadata": {},
     "output_type": "execute_result"
    },
    {
     "data": {
      "image/png": "[encoded data removed]",
      "text/plain": [
       "<Figure size 640x480 with 1 Axes>"
      ]
     },
     "metadata": {},
     "output_type": "display_data"
    }
   ],
   "source": [
    "# Verificando o sono\n",
    "df['Sleep'].hist(bins=8, rwidth=.8)"
   ]
  },
  {
   "cell_type": "markdown",
   "id": "21ac9fee",
   "metadata": {},
   "source": [
    "De 6 a 8 horas de sono"
   ]
  },
  {
   "cell_type": "code",
   "execution_count": 243,
   "id": "011515d4",
   "metadata": {},
   "outputs": [
    {
     "data": {
      "text/plain": [
       "Text(0, 0.5, 'frequencia')"
      ]
     },
     "execution_count": 243,
     "metadata": {},
     "output_type": "execute_result"
    },
    {
     "data": {
      "image/png": "[encoded data removed]",
      "text/plain": [
       "<Figure size 640x480 with 1 Axes>"
      ]
     },
     "metadata": {},
     "output_type": "display_data"
    }
   ],
   "source": [
    "# Verificando o sono nos casos de diabéticos e não diabéticos\n",
    "df.loc[df.Diabetic==1]['Sleep'].hist(bins=np.arange(4,11.1,1), rwidth=.8, color='r', alpha=.3, density=True,label='Diabeticos')\n",
    "df.loc[df.Diabetic==0]['Sleep'].hist(bins=np.arange(4,11.1,1), rwidth=.8, color='b', alpha=.3, density=True,label='Não Diabeticos')\n",
    "plt.legend()\n",
    "plt.xlabel('Sleep')\n",
    "plt.ylabel('frequencia')"
   ]
  },
  {
   "cell_type": "markdown",
   "id": "9b7429b4",
   "metadata": {},
   "source": [
    "Parece que  o sono tem relação com o quadro de diabetes"
   ]
  },
  {
   "cell_type": "code",
   "execution_count": 244,
   "id": "97d0f23e",
   "metadata": {
    "scrolled": true
   },
   "outputs": [
    {
     "data": {
      "text/plain": [
       "Age                 False\n",
       "Gender              False\n",
       "Family_Diabetes     False\n",
       "highBP              False\n",
       "PhysicallyActive    False\n",
       "BMI                  True\n",
       "Smoking             False\n",
       "Alcohol             False\n",
       "Sleep               False\n",
       "SoundSleep          False\n",
       "RegularMedicine     False\n",
       "JunkFood            False\n",
       "Stress              False\n",
       "BPLevel             False\n",
       "Pregancies           True\n",
       "Pdiabetes           False\n",
       "UriationFreq        False\n",
       "Diabetic            False\n",
       "dtype: bool"
      ]
     },
     "execution_count": 244,
     "metadata": {},
     "output_type": "execute_result"
    }
   ],
   "source": [
    "# verificando os nulos \n",
    "df.isna().any()"
   ]
  },
  {
   "cell_type": "code",
   "execution_count": 245,
   "id": "c948bac8",
   "metadata": {},
   "outputs": [
    {
     "data": {
      "text/html": [
       "<div>\n",
       "<style scoped>\n",
       "    .dataframe tbody tr th:only-of-type {\n",
       "        vertical-align: middle;\n",
       "    }\n",
       "\n",
       "    .dataframe tbody tr th {\n",
       "        vertical-align: top;\n",
       "    }\n",
       "\n",
       "    .dataframe thead th {\n",
       "        text-align: right;\n",
       "    }\n",
       "</style>\n",
       "<table border=\"1\" class=\"dataframe\">\n",
       "  <thead>\n",
       "    <tr style=\"text-align: right;\">\n",
       "      <th></th>\n",
       "      <th>Age</th>\n",
       "      <th>Gender</th>\n",
       "      <th>Family_Diabetes</th>\n",
       "      <th>highBP</th>\n",
       "      <th>PhysicallyActive</th>\n",
       "      <th>BMI</th>\n",
       "      <th>Smoking</th>\n",
       "      <th>Alcohol</th>\n",
       "      <th>Sleep</th>\n",
       "      <th>SoundSleep</th>\n",
       "      <th>RegularMedicine</th>\n",
       "      <th>JunkFood</th>\n",
       "      <th>Stress</th>\n",
       "      <th>BPLevel</th>\n",
       "      <th>Pregancies</th>\n",
       "      <th>Pdiabetes</th>\n",
       "      <th>UriationFreq</th>\n",
       "      <th>Diabetic</th>\n",
       "    </tr>\n",
       "  </thead>\n",
       "  <tbody>\n",
       "    <tr>\n",
       "      <th>0</th>\n",
       "      <td>50-59</td>\n",
       "      <td>Male</td>\n",
       "      <td>no</td>\n",
       "      <td>yes</td>\n",
       "      <td>one hr or more</td>\n",
       "      <td>39.0</td>\n",
       "      <td>no</td>\n",
       "      <td>no</td>\n",
       "      <td>8</td>\n",
       "      <td>6</td>\n",
       "      <td>no</td>\n",
       "      <td>occasionally</td>\n",
       "      <td>sometimes</td>\n",
       "      <td>high</td>\n",
       "      <td>0.0</td>\n",
       "      <td>unknown</td>\n",
       "      <td>not much</td>\n",
       "      <td>0</td>\n",
       "    </tr>\n",
       "    <tr>\n",
       "      <th>1</th>\n",
       "      <td>50-59</td>\n",
       "      <td>Male</td>\n",
       "      <td>no</td>\n",
       "      <td>yes</td>\n",
       "      <td>less than half an hr</td>\n",
       "      <td>28.0</td>\n",
       "      <td>no</td>\n",
       "      <td>no</td>\n",
       "      <td>8</td>\n",
       "      <td>6</td>\n",
       "      <td>yes</td>\n",
       "      <td>very often</td>\n",
       "      <td>sometimes</td>\n",
       "      <td>normal</td>\n",
       "      <td>0.0</td>\n",
       "      <td>unknown</td>\n",
       "      <td>not much</td>\n",
       "      <td>0</td>\n",
       "    </tr>\n",
       "  </tbody>\n",
       "</table>\n",
       "</div>"
      ],
      "text/plain": [
       "     Age Gender Family_Diabetes highBP      PhysicallyActive   BMI Smoking  \\\n",
       "0  50-59   Male              no    yes        one hr or more  39.0      no   \n",
       "1  50-59   Male              no    yes  less than half an hr  28.0      no   \n",
       "\n",
       "  Alcohol  Sleep  SoundSleep RegularMedicine      JunkFood     Stress BPLevel  \\\n",
       "0      no      8           6              no  occasionally  sometimes    high   \n",
       "1      no      8           6             yes    very often  sometimes  normal   \n",
       "\n",
       "   Pregancies Pdiabetes UriationFreq  Diabetic  \n",
       "0         0.0   unknown     not much         0  \n",
       "1         0.0   unknown     not much         0  "
      ]
     },
     "execution_count": 245,
     "metadata": {},
     "output_type": "execute_result"
    }
   ],
   "source": [
    "# observando o dataset novamente\n",
    "df.head(2)"
   ]
  },
  {
   "cell_type": "markdown",
   "id": "9a48f8b2",
   "metadata": {},
   "source": [
    "## Vamos dividir em treino e teste"
   ]
  },
  {
   "cell_type": "code",
   "execution_count": 246,
   "id": "faa0fa53",
   "metadata": {},
   "outputs": [],
   "source": [
    "# dividindo em treino e teste\n",
    "\n",
    "from sklearn.model_selection import train_test_split\n",
    "\n",
    "X = df.drop('Diabetic', axis=1)\n",
    "y = df['Diabetic']\n",
    "\n",
    "X_tr, X_ts, y_tr, y_ts = train_test_split(X,y, test_size=0.3, random_state=13, )"
   ]
  },
  {
   "cell_type": "code",
   "execution_count": 247,
   "id": "9c4f50fc",
   "metadata": {},
   "outputs": [
    {
     "name": "stdout",
     "output_type": "stream",
     "text": [
      " X_treino é (665, 17)\n",
      " X_teste é (286, 17)\n",
      "Y_teste é (286,)\n",
      "Y_treino é (665,)\n"
     ]
    }
   ],
   "source": [
    "print(f' X_treino é', X_tr.shape)\n",
    "print(f' X_teste é', X_ts.shape)\n",
    "print(f'Y_teste é',y_ts .shape)\n",
    "print(f'Y_treino é', y_tr.shape)"
   ]
  },
  {
   "cell_type": "markdown",
   "id": "8fd6432b",
   "metadata": {},
   "source": [
    "# Preenchimento de valores missing"
   ]
  },
  {
   "cell_type": "markdown",
   "id": "8cf59f16",
   "metadata": {},
   "source": [
    "Lembrando que os valores do conjunto teste simulam os dados do mundo real em que o modelo nunca viu onde será aplicado, ou seja, dados que eu não teria no momento de preencher/analisar as informações dos valores faltantes. Isso é importante para termos uma noção da performance do modelo nos dados reais.\n",
    "\n",
    "Assim, o mais correto é sempre analisarmos e utilizarmos (por exemplo para o cálculo das médias, medianas, moda e etc...) para preenchimento de missings os __dados de treino__ e usar essa informação para preenchimento de valores faltantes __no treino e no teste__, isso evitará vazamento de dados"
   ]
  },
  {
   "cell_type": "markdown",
   "id": "fa779557",
   "metadata": {},
   "source": [
    "#### Começando com a variável BMI (Índice de Massa Corporal - IMC)"
   ]
  },
  {
   "cell_type": "code",
   "execution_count": 248,
   "id": "76757b7b",
   "metadata": {},
   "outputs": [
    {
     "data": {
      "text/plain": [
       "<matplotlib.legend.Legend at 0x237fa9a3ad0>"
      ]
     },
     "execution_count": 248,
     "metadata": {},
     "output_type": "execute_result"
    },
    {
     "data": {
      "image/png": "[encoded data removed]",
      "text/plain": [
       "<Figure size 640x480 with 1 Axes>"
      ]
     },
     "metadata": {},
     "output_type": "display_data"
    },
    {
     "data": {
      "image/png": "[encoded data removed]",
      "text/plain": [
       "<Figure size 640x480 with 1 Axes>"
      ]
     },
     "metadata": {},
     "output_type": "display_data"
    }
   ],
   "source": [
    "# plotando gráfico da distribuição das médias e mediana \n",
    "bins = np.linspace(X_tr.BMI.min(),X_tr.BMI.max(),14)\n",
    "\n",
    "# dados de treino\n",
    "plt.figure()\n",
    "plt.title('Histograma do BMI - Dados de Treinamento')\n",
    "X_tr.BMI.hist(bins=bins, rwidth=.8)\n",
    "mean_value = X_tr.BMI.mean()\n",
    "median_value = X_tr.BMI.median()\n",
    "plt.axvline(mean_value, color='r', label=f'Média: {mean_value:.2f}')\n",
    "plt.axvline(median_value, color='k', label=f'Mediana: {median_value:.2f}')\n",
    "plt.legend()\n",
    "\n",
    "\n",
    "# dados teste\n",
    "plt.figure()\n",
    "plt.title('Histograma do BMI - Dados de Teste')\n",
    "X_ts.BMI.hist(bins=bins, rwidth=.8)\n",
    "mean_value = X_tr.BMI.mean()\n",
    "median_value = X_tr.BMI.median()\n",
    "plt.axvline(mean_value, color='r', label=f'Média: {mean_value:.2f}')\n",
    "plt.axvline(median_value, color='k', label=f'Mediana: {median_value:.2f}')\n",
    "plt.legend()"
   ]
  },
  {
   "cell_type": "markdown",
   "id": "fffb0077",
   "metadata": {},
   "source": [
    "Aqui percebemos que a média e a mediana, estão muito parecidas tanto nos dados de teste quanto de treino, então tanto faz escolher a média ou a mediana"
   ]
  },
  {
   "cell_type": "markdown",
   "id": "2573f205",
   "metadata": {},
   "source": [
    "#### Assim, para BMI escolhemos utilizar a mediana no preenchimento de NaN"
   ]
  },
  {
   "cell_type": "code",
   "execution_count": 249,
   "id": "7f56eb26",
   "metadata": {},
   "outputs": [],
   "source": [
    "# imputando a mediana nos dados de treino e teste\n",
    "X_tr.BMI.fillna(X_tr.BMI.median(), inplace=True, )\n",
    "X_ts.BMI.fillna(X_tr.BMI.median(), inplace=True, )"
   ]
  },
  {
   "cell_type": "code",
   "execution_count": 250,
   "id": "b696d95a",
   "metadata": {},
   "outputs": [
    {
     "data": {
      "text/plain": [
       "<Axes: >"
      ]
     },
     "execution_count": 250,
     "metadata": {},
     "output_type": "execute_result"
    },
    {
     "data": {
      "image/png": "[encoded data removed]",
      "text/plain": [
       "<Figure size 640x480 with 1 Axes>"
      ]
     },
     "metadata": {},
     "output_type": "display_data"
    },
    {
     "data": {
      "image/png": "[encoded data removed]",
      "text/plain": [
       "<Figure size 640x480 with 1 Axes>"
      ]
     },
     "metadata": {},
     "output_type": "display_data"
    }
   ],
   "source": [
    "# Observando as distribuição depois da imputação\n",
    "bins = np.linspace(X_tr.BMI.min(),X_tr.BMI.max(),14)\n",
    "# dados treino\n",
    "plt.figure()\n",
    "X_tr.BMI.hist(bins=bins, rwidth=.8)\n",
    "#dados teste\n",
    "plt.figure()\n",
    "X_ts.BMI.hist(bins=bins, rwidth=.8)"
   ]
  },
  {
   "cell_type": "code",
   "execution_count": 251,
   "id": "75183cb8",
   "metadata": {},
   "outputs": [
    {
     "data": {
      "text/plain": [
       "24.0    81\n",
       "21.0    63\n",
       "23.0    49\n",
       "26.0    47\n",
       "28.0    45\n",
       "33.0    44\n",
       "27.0    43\n",
       "22.0    41\n",
       "20.0    31\n",
       "30.0    24\n",
       "25.0    24\n",
       "29.0    24\n",
       "19.0    23\n",
       "38.0    20\n",
       "18.0    20\n",
       "32.0    14\n",
       "17.0    14\n",
       "36.0    13\n",
       "31.0    12\n",
       "34.0    10\n",
       "35.0    10\n",
       "40.0     4\n",
       "15.0     4\n",
       "42.0     2\n",
       "39.0     2\n",
       "45.0     1\n",
       "Name: BMI, dtype: int64"
      ]
     },
     "execution_count": 251,
     "metadata": {},
     "output_type": "execute_result"
    }
   ],
   "source": [
    "#obsevando dados de treino\n",
    "X_tr.BMI.value_counts(dropna=False)"
   ]
  },
  {
   "cell_type": "code",
   "execution_count": 252,
   "id": "23746fb6",
   "metadata": {},
   "outputs": [
    {
     "data": {
      "text/plain": [
       "24.0    30\n",
       "23.0    27\n",
       "28.0    26\n",
       "21.0    25\n",
       "33.0    20\n",
       "27.0    20\n",
       "26.0    19\n",
       "22.0    17\n",
       "20.0    17\n",
       "19.0    13\n",
       "25.0    13\n",
       "18.0    12\n",
       "30.0     9\n",
       "38.0     8\n",
       "36.0     7\n",
       "31.0     4\n",
       "29.0     4\n",
       "15.0     4\n",
       "17.0     2\n",
       "35.0     2\n",
       "32.0     2\n",
       "34.0     2\n",
       "39.0     2\n",
       "42.0     1\n",
       "Name: BMI, dtype: int64"
      ]
     },
     "execution_count": 252,
     "metadata": {},
     "output_type": "execute_result"
    }
   ],
   "source": [
    "# Observando dados de teste\n",
    "X_ts.BMI.value_counts(dropna=False)"
   ]
  },
  {
   "cell_type": "markdown",
   "id": "04b9fb5a",
   "metadata": {},
   "source": [
    "### Ao observar a variável PREGANCIES, A maioria dos valores são de '0', então usaremos a estratégia de imputação por MODA, ou seja, valores mais frequentes"
   ]
  },
  {
   "cell_type": "code",
   "execution_count": 253,
   "id": "d8f168be",
   "metadata": {},
   "outputs": [
    {
     "data": {
      "text/plain": [
       "0.0    0.780451\n",
       "2.0    0.072180\n",
       "3.0    0.066165\n",
       "NaN    0.043609\n",
       "1.0    0.033083\n",
       "4.0    0.004511\n",
       "Name: Pregancies, dtype: float64"
      ]
     },
     "execution_count": 253,
     "metadata": {},
     "output_type": "execute_result"
    }
   ],
   "source": [
    "# Observando a variavel gestação no treino\n",
    "X_tr.Pregancies.value_counts(dropna=False, normalize=True)"
   ]
  },
  {
   "cell_type": "code",
   "execution_count": 254,
   "id": "b451de2e",
   "metadata": {},
   "outputs": [
    {
     "data": {
      "text/plain": [
       "0.0    0.818182\n",
       "3.0    0.055944\n",
       "2.0    0.055944\n",
       "NaN    0.045455\n",
       "1.0    0.020979\n",
       "4.0    0.003497\n",
       "Name: Pregancies, dtype: float64"
      ]
     },
     "execution_count": 254,
     "metadata": {},
     "output_type": "execute_result"
    }
   ],
   "source": [
    "# observando a variavel gestação no teste\n",
    "X_ts.Pregancies.value_counts(dropna=False, normalize=True)"
   ]
  },
  {
   "cell_type": "code",
   "execution_count": 255,
   "id": "9b6a85bc",
   "metadata": {},
   "outputs": [
    {
     "name": "stdout",
     "output_type": "stream",
     "text": [
      "Moda: 0.0\n"
     ]
    }
   ],
   "source": [
    "# calculandoa moda\n",
    "moda = X_tr.Pregancies.mode().values[0]\n",
    "print('Moda:', moda)"
   ]
  },
  {
   "cell_type": "code",
   "execution_count": 256,
   "id": "b5132408",
   "metadata": {},
   "outputs": [],
   "source": [
    "# imputando a moda nos dados de treino e teste\n",
    "X_tr.Pregancies.fillna(0, inplace=True,)\n",
    "X_ts.Pregancies.fillna(0, inplace=True,)"
   ]
  },
  {
   "cell_type": "code",
   "execution_count": 257,
   "id": "860eb5f1",
   "metadata": {},
   "outputs": [
    {
     "data": {
      "text/plain": [
       "0.0    0.824060\n",
       "2.0    0.072180\n",
       "3.0    0.066165\n",
       "1.0    0.033083\n",
       "4.0    0.004511\n",
       "Name: Pregancies, dtype: float64"
      ]
     },
     "execution_count": 257,
     "metadata": {},
     "output_type": "execute_result"
    }
   ],
   "source": [
    "X_tr.Pregancies.value_counts(dropna=False, normalize=True)"
   ]
  },
  {
   "cell_type": "markdown",
   "id": "e08ca127",
   "metadata": {},
   "source": [
    " valores missing imputados na proporção nos dados de teste e treino"
   ]
  },
  {
   "cell_type": "code",
   "execution_count": 258,
   "id": "03ab03b2",
   "metadata": {},
   "outputs": [
    {
     "data": {
      "text/plain": [
       "0.0    0.863636\n",
       "3.0    0.055944\n",
       "2.0    0.055944\n",
       "1.0    0.020979\n",
       "4.0    0.003497\n",
       "Name: Pregancies, dtype: float64"
      ]
     },
     "execution_count": 258,
     "metadata": {},
     "output_type": "execute_result"
    }
   ],
   "source": [
    "X_ts.Pregancies.value_counts(dropna=False, normalize=True)"
   ]
  },
  {
   "cell_type": "markdown",
   "id": "f2dbe71c",
   "metadata": {},
   "source": [
    "### Ao observar a variável PDIABETES, verifiquei que existem um \"NO\" nos dados de testes, e uma única vez, irei tratar como desconhecidos"
   ]
  },
  {
   "cell_type": "code",
   "execution_count": 259,
   "id": "957c7324",
   "metadata": {},
   "outputs": [
    {
     "data": {
      "text/plain": [
       "unknown    656\n",
       "yes          9\n",
       "Name: Pdiabetes, dtype: int64"
      ]
     },
     "execution_count": 259,
     "metadata": {},
     "output_type": "execute_result"
    }
   ],
   "source": [
    "# verificando dados de treino\n",
    "X_tr.Pdiabetes.value_counts(dropna=False)"
   ]
  },
  {
   "cell_type": "code",
   "execution_count": 260,
   "id": "5b35cf96",
   "metadata": {},
   "outputs": [
    {
     "data": {
      "text/plain": [
       "unknown    280\n",
       "yes          5\n",
       "no           1\n",
       "Name: Pdiabetes, dtype: int64"
      ]
     },
     "execution_count": 260,
     "metadata": {},
     "output_type": "execute_result"
    }
   ],
   "source": [
    "# dados de teste\n",
    "X_ts.Pdiabetes.value_counts(dropna=False)"
   ]
  },
  {
   "cell_type": "code",
   "execution_count": 261,
   "id": "e9d72b67",
   "metadata": {},
   "outputs": [],
   "source": [
    "# transformando 'no' em desconhecidos\n",
    "X_ts.Pdiabetes.replace('no','unknown', inplace=True)"
   ]
  },
  {
   "cell_type": "code",
   "execution_count": 262,
   "id": "56372bab",
   "metadata": {},
   "outputs": [
    {
     "data": {
      "text/plain": [
       "unknown    281\n",
       "yes          5\n",
       "Name: Pdiabetes, dtype: int64"
      ]
     },
     "execution_count": 262,
     "metadata": {},
     "output_type": "execute_result"
    }
   ],
   "source": [
    "# dados de teste\n",
    "X_ts.Pdiabetes.value_counts(dropna=False)"
   ]
  },
  {
   "cell_type": "markdown",
   "id": "287bb39f",
   "metadata": {},
   "source": [
    "Observe que conseguimos tratar de forma correta a variável Pdiabetes nos dados de treino"
   ]
  },
  {
   "cell_type": "markdown",
   "id": "1819ed3e",
   "metadata": {},
   "source": [
    "### Vamos checar se sobraram valores faltantes nos dados tanto de treino como de teste!"
   ]
  },
  {
   "cell_type": "code",
   "execution_count": 263,
   "id": "86ae0273",
   "metadata": {},
   "outputs": [
    {
     "data": {
      "text/plain": [
       "Age                 0.0\n",
       "Gender              0.0\n",
       "Family_Diabetes     0.0\n",
       "highBP              0.0\n",
       "PhysicallyActive    0.0\n",
       "BMI                 0.0\n",
       "Smoking             0.0\n",
       "Alcohol             0.0\n",
       "Sleep               0.0\n",
       "SoundSleep          0.0\n",
       "RegularMedicine     0.0\n",
       "JunkFood            0.0\n",
       "Stress              0.0\n",
       "BPLevel             0.0\n",
       "Pregancies          0.0\n",
       "Pdiabetes           0.0\n",
       "UriationFreq        0.0\n",
       "dtype: float64"
      ]
     },
     "execution_count": 263,
     "metadata": {},
     "output_type": "execute_result"
    }
   ],
   "source": [
    "# Observando nuos no teste\n",
    "X_ts.isnull().mean()"
   ]
  },
  {
   "cell_type": "code",
   "execution_count": 264,
   "id": "1bddacca",
   "metadata": {},
   "outputs": [
    {
     "data": {
      "text/plain": [
       "Age                 0.0\n",
       "Gender              0.0\n",
       "Family_Diabetes     0.0\n",
       "highBP              0.0\n",
       "PhysicallyActive    0.0\n",
       "BMI                 0.0\n",
       "Smoking             0.0\n",
       "Alcohol             0.0\n",
       "Sleep               0.0\n",
       "SoundSleep          0.0\n",
       "RegularMedicine     0.0\n",
       "JunkFood            0.0\n",
       "Stress              0.0\n",
       "BPLevel             0.0\n",
       "Pregancies          0.0\n",
       "Pdiabetes           0.0\n",
       "UriationFreq        0.0\n",
       "dtype: float64"
      ]
     },
     "execution_count": 264,
     "metadata": {},
     "output_type": "execute_result"
    }
   ],
   "source": [
    "#Observando nuos no treino \n",
    "X_tr.isnull().mean()"
   ]
  },
  {
   "cell_type": "markdown",
   "id": "0b64b9db",
   "metadata": {},
   "source": [
    "Os dados faltantes foram devidamente tratados"
   ]
  },
  {
   "cell_type": "code",
   "execution_count": 265,
   "id": "ad883c4d",
   "metadata": {},
   "outputs": [
    {
     "data": {
      "text/html": [
       "<div>\n",
       "<style scoped>\n",
       "    .dataframe tbody tr th:only-of-type {\n",
       "        vertical-align: middle;\n",
       "    }\n",
       "\n",
       "    .dataframe tbody tr th {\n",
       "        vertical-align: top;\n",
       "    }\n",
       "\n",
       "    .dataframe thead th {\n",
       "        text-align: right;\n",
       "    }\n",
       "</style>\n",
       "<table border=\"1\" class=\"dataframe\">\n",
       "  <thead>\n",
       "    <tr style=\"text-align: right;\">\n",
       "      <th></th>\n",
       "      <th>Age</th>\n",
       "      <th>Gender</th>\n",
       "      <th>Family_Diabetes</th>\n",
       "      <th>highBP</th>\n",
       "      <th>PhysicallyActive</th>\n",
       "      <th>BMI</th>\n",
       "      <th>Smoking</th>\n",
       "      <th>Alcohol</th>\n",
       "      <th>Sleep</th>\n",
       "      <th>SoundSleep</th>\n",
       "      <th>RegularMedicine</th>\n",
       "      <th>JunkFood</th>\n",
       "      <th>Stress</th>\n",
       "      <th>BPLevel</th>\n",
       "      <th>Pregancies</th>\n",
       "      <th>Pdiabetes</th>\n",
       "      <th>UriationFreq</th>\n",
       "      <th>Diabetic</th>\n",
       "    </tr>\n",
       "  </thead>\n",
       "  <tbody>\n",
       "    <tr>\n",
       "      <th>0</th>\n",
       "      <td>50-59</td>\n",
       "      <td>Male</td>\n",
       "      <td>no</td>\n",
       "      <td>yes</td>\n",
       "      <td>one hr or more</td>\n",
       "      <td>39.0</td>\n",
       "      <td>no</td>\n",
       "      <td>no</td>\n",
       "      <td>8</td>\n",
       "      <td>6</td>\n",
       "      <td>no</td>\n",
       "      <td>occasionally</td>\n",
       "      <td>sometimes</td>\n",
       "      <td>high</td>\n",
       "      <td>0.0</td>\n",
       "      <td>unknown</td>\n",
       "      <td>not much</td>\n",
       "      <td>0</td>\n",
       "    </tr>\n",
       "    <tr>\n",
       "      <th>1</th>\n",
       "      <td>50-59</td>\n",
       "      <td>Male</td>\n",
       "      <td>no</td>\n",
       "      <td>yes</td>\n",
       "      <td>less than half an hr</td>\n",
       "      <td>28.0</td>\n",
       "      <td>no</td>\n",
       "      <td>no</td>\n",
       "      <td>8</td>\n",
       "      <td>6</td>\n",
       "      <td>yes</td>\n",
       "      <td>very often</td>\n",
       "      <td>sometimes</td>\n",
       "      <td>normal</td>\n",
       "      <td>0.0</td>\n",
       "      <td>unknown</td>\n",
       "      <td>not much</td>\n",
       "      <td>0</td>\n",
       "    </tr>\n",
       "    <tr>\n",
       "      <th>2</th>\n",
       "      <td>40-49</td>\n",
       "      <td>Male</td>\n",
       "      <td>no</td>\n",
       "      <td>no</td>\n",
       "      <td>one hr or more</td>\n",
       "      <td>24.0</td>\n",
       "      <td>no</td>\n",
       "      <td>no</td>\n",
       "      <td>6</td>\n",
       "      <td>6</td>\n",
       "      <td>no</td>\n",
       "      <td>occasionally</td>\n",
       "      <td>sometimes</td>\n",
       "      <td>normal</td>\n",
       "      <td>0.0</td>\n",
       "      <td>unknown</td>\n",
       "      <td>not much</td>\n",
       "      <td>0</td>\n",
       "    </tr>\n",
       "    <tr>\n",
       "      <th>3</th>\n",
       "      <td>50-59</td>\n",
       "      <td>Male</td>\n",
       "      <td>no</td>\n",
       "      <td>no</td>\n",
       "      <td>one hr or more</td>\n",
       "      <td>23.0</td>\n",
       "      <td>no</td>\n",
       "      <td>no</td>\n",
       "      <td>8</td>\n",
       "      <td>6</td>\n",
       "      <td>no</td>\n",
       "      <td>occasionally</td>\n",
       "      <td>sometimes</td>\n",
       "      <td>normal</td>\n",
       "      <td>0.0</td>\n",
       "      <td>unknown</td>\n",
       "      <td>not much</td>\n",
       "      <td>0</td>\n",
       "    </tr>\n",
       "  </tbody>\n",
       "</table>\n",
       "</div>"
      ],
      "text/plain": [
       "     Age Gender Family_Diabetes highBP      PhysicallyActive   BMI Smoking  \\\n",
       "0  50-59   Male              no    yes        one hr or more  39.0      no   \n",
       "1  50-59   Male              no    yes  less than half an hr  28.0      no   \n",
       "2  40-49   Male              no     no        one hr or more  24.0      no   \n",
       "3  50-59   Male              no     no        one hr or more  23.0      no   \n",
       "\n",
       "  Alcohol  Sleep  SoundSleep RegularMedicine      JunkFood     Stress BPLevel  \\\n",
       "0      no      8           6              no  occasionally  sometimes    high   \n",
       "1      no      8           6             yes    very often  sometimes  normal   \n",
       "2      no      6           6              no  occasionally  sometimes  normal   \n",
       "3      no      8           6              no  occasionally  sometimes  normal   \n",
       "\n",
       "   Pregancies Pdiabetes UriationFreq  Diabetic  \n",
       "0         0.0   unknown     not much         0  \n",
       "1         0.0   unknown     not much         0  \n",
       "2         0.0   unknown     not much         0  \n",
       "3         0.0   unknown     not much         0  "
      ]
     },
     "execution_count": 265,
     "metadata": {},
     "output_type": "execute_result"
    }
   ],
   "source": [
    "# verificando dataset \n",
    "df.head(4)"
   ]
  },
  {
   "cell_type": "code",
   "execution_count": 266,
   "id": "31477573",
   "metadata": {},
   "outputs": [
    {
     "data": {
      "text/plain": [
       "Age                  object\n",
       "Gender               object\n",
       "Family_Diabetes      object\n",
       "highBP               object\n",
       "PhysicallyActive     object\n",
       "BMI                 float64\n",
       "Smoking              object\n",
       "Alcohol              object\n",
       "Sleep                 int64\n",
       "SoundSleep            int64\n",
       "RegularMedicine      object\n",
       "JunkFood             object\n",
       "Stress               object\n",
       "BPLevel              object\n",
       "Pregancies          float64\n",
       "Pdiabetes            object\n",
       "UriationFreq         object\n",
       "Diabetic              int64\n",
       "dtype: object"
      ]
     },
     "execution_count": 266,
     "metadata": {},
     "output_type": "execute_result"
    }
   ],
   "source": [
    "# Observando os tipos das variáveis\n",
    "df.dtypes"
   ]
  },
  {
   "cell_type": "markdown",
   "id": "7f7d6b9a",
   "metadata": {},
   "source": [
    "## Encoding de variaveis categóricas\n",
    "\n",
    "Como vimos, muitos de nossas variáveis são categóricas. Dessa forma precisamos fazer um encoding  para que o modelo possa entender e trabalhar com esses dados. "
   ]
  },
  {
   "cell_type": "code",
   "execution_count": 267,
   "id": "9fa9aa19",
   "metadata": {},
   "outputs": [
    {
     "name": "stdout",
     "output_type": "stream",
     "text": [
      "Age : 4\n",
      "Gender : 2\n",
      "Family_Diabetes : 2\n",
      "highBP : 2\n",
      "PhysicallyActive : 4\n",
      "Smoking : 2\n",
      "Alcohol : 2\n",
      "RegularMedicine : 2\n",
      "JunkFood : 4\n",
      "Stress : 4\n",
      "BPLevel : 3\n",
      "Pdiabetes : 3\n",
      "UriationFreq : 2\n"
     ]
    }
   ],
   "source": [
    "# selecionando as variáveis categóricas\n",
    "features_one_hot = X_tr.select_dtypes(include=['object'])\n",
    "\n",
    "#features_one_hot = ['Age', 'Gender', 'Family_Diabetes', 'PhysicallyActive', 'highBP', 'Smoking', 'Alcohol', 'RegularMedicine', 'JunkFood', 'Stress', 'Pdiabetes', 'BPLevel', 'UriationFreq']\n",
    "\n",
    "for f in features_one_hot:\n",
    "    print(f,\":\", df[f].nunique())"
   ]
  },
  {
   "cell_type": "markdown",
   "id": "c52f9e74",
   "metadata": {},
   "source": [
    "Como as variáveis categoricas têm categorias pequenas entre 4 e 6 número máximo, podemos usar o onehotencoding, caso contrário, caso tivessemos muitas quantidades de  categorias, poderiamos usar outro tipo de encoding"
   ]
  },
  {
   "cell_type": "markdown",
   "id": "e7542d04",
   "metadata": {},
   "source": [
    "#### Note que\n",
    "\n",
    "Como vamos usar como modelo uma **Regressão Logística**, transformar as colunas categóricas via OneHotEncoding permite que saibamos o <u>impacto de cada categoria no score</u>, pela análise dos $\\beta$"
   ]
  },
  {
   "cell_type": "code",
   "execution_count": 268,
   "id": "f0380e9b",
   "metadata": {},
   "outputs": [],
   "source": [
    "# Buscando variáveis numéricas\n",
    "numerical_features=list(set(X_tr.columns)-set(features_one_hot))\n",
    "numerical_features = numerical_features"
   ]
  },
  {
   "cell_type": "code",
   "execution_count": 269,
   "id": "59a85acc",
   "metadata": {},
   "outputs": [
    {
     "data": {
      "text/plain": [
       "['Sleep', 'SoundSleep', 'BMI', 'Pregancies']"
      ]
     },
     "execution_count": 269,
     "metadata": {},
     "output_type": "execute_result"
    }
   ],
   "source": [
    "numerical_features"
   ]
  },
  {
   "cell_type": "markdown",
   "id": "62491c10",
   "metadata": {},
   "source": [
    "#### Nota:\n",
    "\n",
    "Lembre-se que a **Regressão Logística** possui problemas com **multicolinearidade**, isto é, com uma variável que é gerada a partir das outras por uma simples combinação de constantes.\n",
    "\n",
    "Assim, ao fazer o OneHotEncoding, **precisamos descartar uma das colunas**.\n",
    "\n",
    "Fazemos isso com o parâmetro `drop='first`"
   ]
  },
  {
   "cell_type": "code",
   "execution_count": 270,
   "id": "5be8187a",
   "metadata": {},
   "outputs": [],
   "source": [
    "from sklearn.preprocessing import OneHotEncoder\n",
    "\n",
    "encoders = {}\n",
    "dropped = {}\n",
    "X_tr_encoded = X_tr.copy()\n",
    "X_ts_encoded = X_ts.copy()\n",
    "for col in features_one_hot:\n",
    "    encoders[col] = OneHotEncoder(sparse_output=False, drop='first')\n",
    "    encoders[col].fit(X_tr[[col]])\n",
    "    \n",
    "    dropped[col] = encoders[col].categories_[0][0]\n",
    "    new_cols = [f'{col}_{cat}' for cat in encoders[col].categories_[0][1:]]\n",
    "    \n",
    "    X_tr_loc = pd.DataFrame(encoders[col].transform(X_tr[[col]]), index=X_tr.index, columns=new_cols)\n",
    "    X_tr_encoded = X_tr_encoded.drop(col,axis=1)\n",
    "    X_tr_encoded = X_tr_encoded.join(X_tr_loc)\n",
    "    \n",
    "    X_ts_loc = pd.DataFrame(encoders[col].transform(X_ts[[col]]), index=X_ts.index, columns=new_cols)\n",
    "    X_ts_encoded = X_ts_encoded.drop(col,axis=1)\n",
    "    X_ts_encoded = X_ts_encoded.join(X_ts_loc)"
   ]
  },
  {
   "cell_type": "markdown",
   "id": "07c2f830",
   "metadata": {},
   "source": [
    "### Aqui são as variáveis dropadas com o parâmetro drop='first, "
   ]
  },
  {
   "cell_type": "code",
   "execution_count": 271,
   "id": "e98b75e7",
   "metadata": {},
   "outputs": [
    {
     "data": {
      "text/plain": [
       "{'Age': '40-49',\n",
       " 'Gender': 'Female',\n",
       " 'Family_Diabetes': 'no',\n",
       " 'highBP': 'no',\n",
       " 'PhysicallyActive': 'less than half an hr',\n",
       " 'Smoking': 'no',\n",
       " 'Alcohol': 'no',\n",
       " 'RegularMedicine': 'no',\n",
       " 'JunkFood': 'always',\n",
       " 'Stress': 'always',\n",
       " 'BPLevel': 'high',\n",
       " 'Pdiabetes': 'unknown',\n",
       " 'UriationFreq': 'not much'}"
      ]
     },
     "execution_count": 271,
     "metadata": {},
     "output_type": "execute_result"
    }
   ],
   "source": [
    "# colunas dropada\n",
    "dropped"
   ]
  },
  {
   "cell_type": "markdown",
   "id": "c6ee4687",
   "metadata": {},
   "source": [
    "## Aqui são os dados de treino e de teste com o encoding"
   ]
  },
  {
   "cell_type": "code",
   "execution_count": 272,
   "id": "703f9ddc",
   "metadata": {},
   "outputs": [
    {
     "data": {
      "text/html": [
       "<div>\n",
       "<style scoped>\n",
       "    .dataframe tbody tr th:only-of-type {\n",
       "        vertical-align: middle;\n",
       "    }\n",
       "\n",
       "    .dataframe tbody tr th {\n",
       "        vertical-align: top;\n",
       "    }\n",
       "\n",
       "    .dataframe thead th {\n",
       "        text-align: right;\n",
       "    }\n",
       "</style>\n",
       "<table border=\"1\" class=\"dataframe\">\n",
       "  <thead>\n",
       "    <tr style=\"text-align: right;\">\n",
       "      <th></th>\n",
       "      <th>BMI</th>\n",
       "      <th>Sleep</th>\n",
       "      <th>SoundSleep</th>\n",
       "      <th>Pregancies</th>\n",
       "      <th>Age_50-59</th>\n",
       "      <th>Age_60 or older</th>\n",
       "      <th>Age_less than 40</th>\n",
       "      <th>Gender_Male</th>\n",
       "      <th>Family_Diabetes_yes</th>\n",
       "      <th>highBP_yes</th>\n",
       "      <th>...</th>\n",
       "      <th>JunkFood_occasionally</th>\n",
       "      <th>JunkFood_often</th>\n",
       "      <th>JunkFood_very often</th>\n",
       "      <th>Stress_not at all</th>\n",
       "      <th>Stress_sometimes</th>\n",
       "      <th>Stress_very often</th>\n",
       "      <th>BPLevel_low</th>\n",
       "      <th>BPLevel_normal</th>\n",
       "      <th>Pdiabetes_yes</th>\n",
       "      <th>UriationFreq_quite often</th>\n",
       "    </tr>\n",
       "  </thead>\n",
       "  <tbody>\n",
       "    <tr>\n",
       "      <th>260</th>\n",
       "      <td>24.0</td>\n",
       "      <td>4</td>\n",
       "      <td>4</td>\n",
       "      <td>3.0</td>\n",
       "      <td>0.0</td>\n",
       "      <td>0.0</td>\n",
       "      <td>1.0</td>\n",
       "      <td>0.0</td>\n",
       "      <td>1.0</td>\n",
       "      <td>0.0</td>\n",
       "      <td>...</td>\n",
       "      <td>0.0</td>\n",
       "      <td>1.0</td>\n",
       "      <td>0.0</td>\n",
       "      <td>0.0</td>\n",
       "      <td>0.0</td>\n",
       "      <td>0.0</td>\n",
       "      <td>0.0</td>\n",
       "      <td>1.0</td>\n",
       "      <td>0.0</td>\n",
       "      <td>0.0</td>\n",
       "    </tr>\n",
       "    <tr>\n",
       "      <th>643</th>\n",
       "      <td>33.0</td>\n",
       "      <td>7</td>\n",
       "      <td>4</td>\n",
       "      <td>0.0</td>\n",
       "      <td>0.0</td>\n",
       "      <td>0.0</td>\n",
       "      <td>1.0</td>\n",
       "      <td>0.0</td>\n",
       "      <td>0.0</td>\n",
       "      <td>0.0</td>\n",
       "      <td>...</td>\n",
       "      <td>0.0</td>\n",
       "      <td>1.0</td>\n",
       "      <td>0.0</td>\n",
       "      <td>1.0</td>\n",
       "      <td>0.0</td>\n",
       "      <td>0.0</td>\n",
       "      <td>0.0</td>\n",
       "      <td>1.0</td>\n",
       "      <td>0.0</td>\n",
       "      <td>1.0</td>\n",
       "    </tr>\n",
       "    <tr>\n",
       "      <th>97</th>\n",
       "      <td>24.0</td>\n",
       "      <td>8</td>\n",
       "      <td>5</td>\n",
       "      <td>0.0</td>\n",
       "      <td>0.0</td>\n",
       "      <td>0.0</td>\n",
       "      <td>1.0</td>\n",
       "      <td>1.0</td>\n",
       "      <td>0.0</td>\n",
       "      <td>0.0</td>\n",
       "      <td>...</td>\n",
       "      <td>0.0</td>\n",
       "      <td>1.0</td>\n",
       "      <td>0.0</td>\n",
       "      <td>1.0</td>\n",
       "      <td>0.0</td>\n",
       "      <td>0.0</td>\n",
       "      <td>0.0</td>\n",
       "      <td>1.0</td>\n",
       "      <td>0.0</td>\n",
       "      <td>0.0</td>\n",
       "    </tr>\n",
       "    <tr>\n",
       "      <th>392</th>\n",
       "      <td>33.0</td>\n",
       "      <td>7</td>\n",
       "      <td>5</td>\n",
       "      <td>0.0</td>\n",
       "      <td>1.0</td>\n",
       "      <td>0.0</td>\n",
       "      <td>0.0</td>\n",
       "      <td>0.0</td>\n",
       "      <td>0.0</td>\n",
       "      <td>0.0</td>\n",
       "      <td>...</td>\n",
       "      <td>1.0</td>\n",
       "      <td>0.0</td>\n",
       "      <td>0.0</td>\n",
       "      <td>0.0</td>\n",
       "      <td>1.0</td>\n",
       "      <td>0.0</td>\n",
       "      <td>0.0</td>\n",
       "      <td>1.0</td>\n",
       "      <td>0.0</td>\n",
       "      <td>1.0</td>\n",
       "    </tr>\n",
       "    <tr>\n",
       "      <th>258</th>\n",
       "      <td>30.0</td>\n",
       "      <td>9</td>\n",
       "      <td>8</td>\n",
       "      <td>0.0</td>\n",
       "      <td>0.0</td>\n",
       "      <td>0.0</td>\n",
       "      <td>1.0</td>\n",
       "      <td>1.0</td>\n",
       "      <td>1.0</td>\n",
       "      <td>0.0</td>\n",
       "      <td>...</td>\n",
       "      <td>1.0</td>\n",
       "      <td>0.0</td>\n",
       "      <td>0.0</td>\n",
       "      <td>0.0</td>\n",
       "      <td>1.0</td>\n",
       "      <td>0.0</td>\n",
       "      <td>0.0</td>\n",
       "      <td>1.0</td>\n",
       "      <td>0.0</td>\n",
       "      <td>0.0</td>\n",
       "    </tr>\n",
       "    <tr>\n",
       "      <th>...</th>\n",
       "      <td>...</td>\n",
       "      <td>...</td>\n",
       "      <td>...</td>\n",
       "      <td>...</td>\n",
       "      <td>...</td>\n",
       "      <td>...</td>\n",
       "      <td>...</td>\n",
       "      <td>...</td>\n",
       "      <td>...</td>\n",
       "      <td>...</td>\n",
       "      <td>...</td>\n",
       "      <td>...</td>\n",
       "      <td>...</td>\n",
       "      <td>...</td>\n",
       "      <td>...</td>\n",
       "      <td>...</td>\n",
       "      <td>...</td>\n",
       "      <td>...</td>\n",
       "      <td>...</td>\n",
       "      <td>...</td>\n",
       "      <td>...</td>\n",
       "    </tr>\n",
       "    <tr>\n",
       "      <th>743</th>\n",
       "      <td>18.0</td>\n",
       "      <td>6</td>\n",
       "      <td>6</td>\n",
       "      <td>3.0</td>\n",
       "      <td>0.0</td>\n",
       "      <td>1.0</td>\n",
       "      <td>0.0</td>\n",
       "      <td>0.0</td>\n",
       "      <td>0.0</td>\n",
       "      <td>0.0</td>\n",
       "      <td>...</td>\n",
       "      <td>1.0</td>\n",
       "      <td>0.0</td>\n",
       "      <td>0.0</td>\n",
       "      <td>0.0</td>\n",
       "      <td>1.0</td>\n",
       "      <td>0.0</td>\n",
       "      <td>0.0</td>\n",
       "      <td>1.0</td>\n",
       "      <td>0.0</td>\n",
       "      <td>1.0</td>\n",
       "    </tr>\n",
       "    <tr>\n",
       "      <th>529</th>\n",
       "      <td>26.0</td>\n",
       "      <td>8</td>\n",
       "      <td>6</td>\n",
       "      <td>0.0</td>\n",
       "      <td>0.0</td>\n",
       "      <td>0.0</td>\n",
       "      <td>1.0</td>\n",
       "      <td>1.0</td>\n",
       "      <td>0.0</td>\n",
       "      <td>0.0</td>\n",
       "      <td>...</td>\n",
       "      <td>1.0</td>\n",
       "      <td>0.0</td>\n",
       "      <td>0.0</td>\n",
       "      <td>0.0</td>\n",
       "      <td>1.0</td>\n",
       "      <td>0.0</td>\n",
       "      <td>0.0</td>\n",
       "      <td>1.0</td>\n",
       "      <td>0.0</td>\n",
       "      <td>0.0</td>\n",
       "    </tr>\n",
       "    <tr>\n",
       "      <th>74</th>\n",
       "      <td>31.0</td>\n",
       "      <td>7</td>\n",
       "      <td>6</td>\n",
       "      <td>0.0</td>\n",
       "      <td>1.0</td>\n",
       "      <td>0.0</td>\n",
       "      <td>0.0</td>\n",
       "      <td>1.0</td>\n",
       "      <td>1.0</td>\n",
       "      <td>1.0</td>\n",
       "      <td>...</td>\n",
       "      <td>1.0</td>\n",
       "      <td>0.0</td>\n",
       "      <td>0.0</td>\n",
       "      <td>0.0</td>\n",
       "      <td>0.0</td>\n",
       "      <td>0.0</td>\n",
       "      <td>0.0</td>\n",
       "      <td>0.0</td>\n",
       "      <td>0.0</td>\n",
       "      <td>0.0</td>\n",
       "    </tr>\n",
       "    <tr>\n",
       "      <th>177</th>\n",
       "      <td>33.0</td>\n",
       "      <td>8</td>\n",
       "      <td>3</td>\n",
       "      <td>0.0</td>\n",
       "      <td>0.0</td>\n",
       "      <td>0.0</td>\n",
       "      <td>1.0</td>\n",
       "      <td>1.0</td>\n",
       "      <td>0.0</td>\n",
       "      <td>0.0</td>\n",
       "      <td>...</td>\n",
       "      <td>0.0</td>\n",
       "      <td>1.0</td>\n",
       "      <td>0.0</td>\n",
       "      <td>0.0</td>\n",
       "      <td>1.0</td>\n",
       "      <td>0.0</td>\n",
       "      <td>0.0</td>\n",
       "      <td>1.0</td>\n",
       "      <td>0.0</td>\n",
       "      <td>1.0</td>\n",
       "    </tr>\n",
       "    <tr>\n",
       "      <th>339</th>\n",
       "      <td>26.0</td>\n",
       "      <td>8</td>\n",
       "      <td>6</td>\n",
       "      <td>0.0</td>\n",
       "      <td>0.0</td>\n",
       "      <td>0.0</td>\n",
       "      <td>1.0</td>\n",
       "      <td>0.0</td>\n",
       "      <td>0.0</td>\n",
       "      <td>0.0</td>\n",
       "      <td>...</td>\n",
       "      <td>1.0</td>\n",
       "      <td>0.0</td>\n",
       "      <td>0.0</td>\n",
       "      <td>0.0</td>\n",
       "      <td>1.0</td>\n",
       "      <td>0.0</td>\n",
       "      <td>1.0</td>\n",
       "      <td>0.0</td>\n",
       "      <td>0.0</td>\n",
       "      <td>0.0</td>\n",
       "    </tr>\n",
       "  </tbody>\n",
       "</table>\n",
       "<p>665 rows × 26 columns</p>\n",
       "</div>"
      ],
      "text/plain": [
       "      BMI  Sleep  SoundSleep  Pregancies  Age_50-59  Age_60 or older  \\\n",
       "260  24.0      4           4         3.0        0.0              0.0   \n",
       "643  33.0      7           4         0.0        0.0              0.0   \n",
       "97   24.0      8           5         0.0        0.0              0.0   \n",
       "392  33.0      7           5         0.0        1.0              0.0   \n",
       "258  30.0      9           8         0.0        0.0              0.0   \n",
       "..    ...    ...         ...         ...        ...              ...   \n",
       "743  18.0      6           6         3.0        0.0              1.0   \n",
       "529  26.0      8           6         0.0        0.0              0.0   \n",
       "74   31.0      7           6         0.0        1.0              0.0   \n",
       "177  33.0      8           3         0.0        0.0              0.0   \n",
       "339  26.0      8           6         0.0        0.0              0.0   \n",
       "\n",
       "     Age_less than 40  Gender_Male  Family_Diabetes_yes  highBP_yes  ...  \\\n",
       "260               1.0          0.0                  1.0         0.0  ...   \n",
       "643               1.0          0.0                  0.0         0.0  ...   \n",
       "97                1.0          1.0                  0.0         0.0  ...   \n",
       "392               0.0          0.0                  0.0         0.0  ...   \n",
       "258               1.0          1.0                  1.0         0.0  ...   \n",
       "..                ...          ...                  ...         ...  ...   \n",
       "743               0.0          0.0                  0.0         0.0  ...   \n",
       "529               1.0          1.0                  0.0         0.0  ...   \n",
       "74                0.0          1.0                  1.0         1.0  ...   \n",
       "177               1.0          1.0                  0.0         0.0  ...   \n",
       "339               1.0          0.0                  0.0         0.0  ...   \n",
       "\n",
       "     JunkFood_occasionally  JunkFood_often  JunkFood_very often  \\\n",
       "260                    0.0             1.0                  0.0   \n",
       "643                    0.0             1.0                  0.0   \n",
       "97                     0.0             1.0                  0.0   \n",
       "392                    1.0             0.0                  0.0   \n",
       "258                    1.0             0.0                  0.0   \n",
       "..                     ...             ...                  ...   \n",
       "743                    1.0             0.0                  0.0   \n",
       "529                    1.0             0.0                  0.0   \n",
       "74                     1.0             0.0                  0.0   \n",
       "177                    0.0             1.0                  0.0   \n",
       "339                    1.0             0.0                  0.0   \n",
       "\n",
       "     Stress_not at all  Stress_sometimes  Stress_very often  BPLevel_low  \\\n",
       "260                0.0               0.0                0.0          0.0   \n",
       "643                1.0               0.0                0.0          0.0   \n",
       "97                 1.0               0.0                0.0          0.0   \n",
       "392                0.0               1.0                0.0          0.0   \n",
       "258                0.0               1.0                0.0          0.0   \n",
       "..                 ...               ...                ...          ...   \n",
       "743                0.0               1.0                0.0          0.0   \n",
       "529                0.0               1.0                0.0          0.0   \n",
       "74                 0.0               0.0                0.0          0.0   \n",
       "177                0.0               1.0                0.0          0.0   \n",
       "339                0.0               1.0                0.0          1.0   \n",
       "\n",
       "     BPLevel_normal  Pdiabetes_yes  UriationFreq_quite often  \n",
       "260             1.0            0.0                       0.0  \n",
       "643             1.0            0.0                       1.0  \n",
       "97              1.0            0.0                       0.0  \n",
       "392             1.0            0.0                       1.0  \n",
       "258             1.0            0.0                       0.0  \n",
       "..              ...            ...                       ...  \n",
       "743             1.0            0.0                       1.0  \n",
       "529             1.0            0.0                       0.0  \n",
       "74              0.0            0.0                       0.0  \n",
       "177             1.0            0.0                       1.0  \n",
       "339             0.0            0.0                       0.0  \n",
       "\n",
       "[665 rows x 26 columns]"
      ]
     },
     "execution_count": 272,
     "metadata": {},
     "output_type": "execute_result"
    }
   ],
   "source": [
    "# dados de treino com encodig\n",
    "X_tr_encoded"
   ]
  },
  {
   "cell_type": "code",
   "execution_count": 273,
   "id": "3d9d6211",
   "metadata": {},
   "outputs": [
    {
     "data": {
      "text/html": [
       "<div>\n",
       "<style scoped>\n",
       "    .dataframe tbody tr th:only-of-type {\n",
       "        vertical-align: middle;\n",
       "    }\n",
       "\n",
       "    .dataframe tbody tr th {\n",
       "        vertical-align: top;\n",
       "    }\n",
       "\n",
       "    .dataframe thead th {\n",
       "        text-align: right;\n",
       "    }\n",
       "</style>\n",
       "<table border=\"1\" class=\"dataframe\">\n",
       "  <thead>\n",
       "    <tr style=\"text-align: right;\">\n",
       "      <th></th>\n",
       "      <th>BMI</th>\n",
       "      <th>Sleep</th>\n",
       "      <th>SoundSleep</th>\n",
       "      <th>Pregancies</th>\n",
       "      <th>Age_50-59</th>\n",
       "      <th>Age_60 or older</th>\n",
       "      <th>Age_less than 40</th>\n",
       "      <th>Gender_Male</th>\n",
       "      <th>Family_Diabetes_yes</th>\n",
       "      <th>highBP_yes</th>\n",
       "      <th>...</th>\n",
       "      <th>JunkFood_occasionally</th>\n",
       "      <th>JunkFood_often</th>\n",
       "      <th>JunkFood_very often</th>\n",
       "      <th>Stress_not at all</th>\n",
       "      <th>Stress_sometimes</th>\n",
       "      <th>Stress_very often</th>\n",
       "      <th>BPLevel_low</th>\n",
       "      <th>BPLevel_normal</th>\n",
       "      <th>Pdiabetes_yes</th>\n",
       "      <th>UriationFreq_quite often</th>\n",
       "    </tr>\n",
       "  </thead>\n",
       "  <tbody>\n",
       "    <tr>\n",
       "      <th>334</th>\n",
       "      <td>20.0</td>\n",
       "      <td>6</td>\n",
       "      <td>6</td>\n",
       "      <td>0.0</td>\n",
       "      <td>1.0</td>\n",
       "      <td>0.0</td>\n",
       "      <td>0.0</td>\n",
       "      <td>1.0</td>\n",
       "      <td>0.0</td>\n",
       "      <td>1.0</td>\n",
       "      <td>...</td>\n",
       "      <td>1.0</td>\n",
       "      <td>0.0</td>\n",
       "      <td>0.0</td>\n",
       "      <td>0.0</td>\n",
       "      <td>0.0</td>\n",
       "      <td>1.0</td>\n",
       "      <td>0.0</td>\n",
       "      <td>0.0</td>\n",
       "      <td>0.0</td>\n",
       "      <td>1.0</td>\n",
       "    </tr>\n",
       "    <tr>\n",
       "      <th>434</th>\n",
       "      <td>24.0</td>\n",
       "      <td>6</td>\n",
       "      <td>5</td>\n",
       "      <td>0.0</td>\n",
       "      <td>0.0</td>\n",
       "      <td>0.0</td>\n",
       "      <td>1.0</td>\n",
       "      <td>1.0</td>\n",
       "      <td>1.0</td>\n",
       "      <td>0.0</td>\n",
       "      <td>...</td>\n",
       "      <td>1.0</td>\n",
       "      <td>0.0</td>\n",
       "      <td>0.0</td>\n",
       "      <td>0.0</td>\n",
       "      <td>1.0</td>\n",
       "      <td>0.0</td>\n",
       "      <td>0.0</td>\n",
       "      <td>1.0</td>\n",
       "      <td>0.0</td>\n",
       "      <td>0.0</td>\n",
       "    </tr>\n",
       "    <tr>\n",
       "      <th>461</th>\n",
       "      <td>33.0</td>\n",
       "      <td>7</td>\n",
       "      <td>2</td>\n",
       "      <td>0.0</td>\n",
       "      <td>0.0</td>\n",
       "      <td>0.0</td>\n",
       "      <td>0.0</td>\n",
       "      <td>0.0</td>\n",
       "      <td>1.0</td>\n",
       "      <td>1.0</td>\n",
       "      <td>...</td>\n",
       "      <td>1.0</td>\n",
       "      <td>0.0</td>\n",
       "      <td>0.0</td>\n",
       "      <td>0.0</td>\n",
       "      <td>1.0</td>\n",
       "      <td>0.0</td>\n",
       "      <td>0.0</td>\n",
       "      <td>0.0</td>\n",
       "      <td>0.0</td>\n",
       "      <td>1.0</td>\n",
       "    </tr>\n",
       "    <tr>\n",
       "      <th>375</th>\n",
       "      <td>26.0</td>\n",
       "      <td>7</td>\n",
       "      <td>5</td>\n",
       "      <td>0.0</td>\n",
       "      <td>0.0</td>\n",
       "      <td>0.0</td>\n",
       "      <td>1.0</td>\n",
       "      <td>0.0</td>\n",
       "      <td>1.0</td>\n",
       "      <td>0.0</td>\n",
       "      <td>...</td>\n",
       "      <td>0.0</td>\n",
       "      <td>1.0</td>\n",
       "      <td>0.0</td>\n",
       "      <td>0.0</td>\n",
       "      <td>1.0</td>\n",
       "      <td>0.0</td>\n",
       "      <td>1.0</td>\n",
       "      <td>0.0</td>\n",
       "      <td>0.0</td>\n",
       "      <td>0.0</td>\n",
       "    </tr>\n",
       "    <tr>\n",
       "      <th>902</th>\n",
       "      <td>25.0</td>\n",
       "      <td>7</td>\n",
       "      <td>5</td>\n",
       "      <td>0.0</td>\n",
       "      <td>0.0</td>\n",
       "      <td>0.0</td>\n",
       "      <td>1.0</td>\n",
       "      <td>1.0</td>\n",
       "      <td>0.0</td>\n",
       "      <td>0.0</td>\n",
       "      <td>...</td>\n",
       "      <td>0.0</td>\n",
       "      <td>1.0</td>\n",
       "      <td>0.0</td>\n",
       "      <td>0.0</td>\n",
       "      <td>1.0</td>\n",
       "      <td>0.0</td>\n",
       "      <td>0.0</td>\n",
       "      <td>1.0</td>\n",
       "      <td>0.0</td>\n",
       "      <td>1.0</td>\n",
       "    </tr>\n",
       "    <tr>\n",
       "      <th>...</th>\n",
       "      <td>...</td>\n",
       "      <td>...</td>\n",
       "      <td>...</td>\n",
       "      <td>...</td>\n",
       "      <td>...</td>\n",
       "      <td>...</td>\n",
       "      <td>...</td>\n",
       "      <td>...</td>\n",
       "      <td>...</td>\n",
       "      <td>...</td>\n",
       "      <td>...</td>\n",
       "      <td>...</td>\n",
       "      <td>...</td>\n",
       "      <td>...</td>\n",
       "      <td>...</td>\n",
       "      <td>...</td>\n",
       "      <td>...</td>\n",
       "      <td>...</td>\n",
       "      <td>...</td>\n",
       "      <td>...</td>\n",
       "      <td>...</td>\n",
       "    </tr>\n",
       "    <tr>\n",
       "      <th>833</th>\n",
       "      <td>21.0</td>\n",
       "      <td>8</td>\n",
       "      <td>4</td>\n",
       "      <td>0.0</td>\n",
       "      <td>0.0</td>\n",
       "      <td>1.0</td>\n",
       "      <td>0.0</td>\n",
       "      <td>1.0</td>\n",
       "      <td>1.0</td>\n",
       "      <td>1.0</td>\n",
       "      <td>...</td>\n",
       "      <td>1.0</td>\n",
       "      <td>0.0</td>\n",
       "      <td>0.0</td>\n",
       "      <td>0.0</td>\n",
       "      <td>1.0</td>\n",
       "      <td>0.0</td>\n",
       "      <td>0.0</td>\n",
       "      <td>1.0</td>\n",
       "      <td>0.0</td>\n",
       "      <td>1.0</td>\n",
       "    </tr>\n",
       "    <tr>\n",
       "      <th>914</th>\n",
       "      <td>20.0</td>\n",
       "      <td>7</td>\n",
       "      <td>4</td>\n",
       "      <td>0.0</td>\n",
       "      <td>0.0</td>\n",
       "      <td>0.0</td>\n",
       "      <td>1.0</td>\n",
       "      <td>1.0</td>\n",
       "      <td>0.0</td>\n",
       "      <td>0.0</td>\n",
       "      <td>...</td>\n",
       "      <td>0.0</td>\n",
       "      <td>1.0</td>\n",
       "      <td>0.0</td>\n",
       "      <td>0.0</td>\n",
       "      <td>1.0</td>\n",
       "      <td>0.0</td>\n",
       "      <td>0.0</td>\n",
       "      <td>1.0</td>\n",
       "      <td>0.0</td>\n",
       "      <td>1.0</td>\n",
       "    </tr>\n",
       "    <tr>\n",
       "      <th>68</th>\n",
       "      <td>23.0</td>\n",
       "      <td>5</td>\n",
       "      <td>4</td>\n",
       "      <td>0.0</td>\n",
       "      <td>1.0</td>\n",
       "      <td>0.0</td>\n",
       "      <td>0.0</td>\n",
       "      <td>1.0</td>\n",
       "      <td>1.0</td>\n",
       "      <td>0.0</td>\n",
       "      <td>...</td>\n",
       "      <td>1.0</td>\n",
       "      <td>0.0</td>\n",
       "      <td>0.0</td>\n",
       "      <td>0.0</td>\n",
       "      <td>0.0</td>\n",
       "      <td>1.0</td>\n",
       "      <td>0.0</td>\n",
       "      <td>1.0</td>\n",
       "      <td>0.0</td>\n",
       "      <td>0.0</td>\n",
       "    </tr>\n",
       "    <tr>\n",
       "      <th>710</th>\n",
       "      <td>27.0</td>\n",
       "      <td>6</td>\n",
       "      <td>5</td>\n",
       "      <td>0.0</td>\n",
       "      <td>0.0</td>\n",
       "      <td>1.0</td>\n",
       "      <td>0.0</td>\n",
       "      <td>1.0</td>\n",
       "      <td>1.0</td>\n",
       "      <td>1.0</td>\n",
       "      <td>...</td>\n",
       "      <td>1.0</td>\n",
       "      <td>0.0</td>\n",
       "      <td>0.0</td>\n",
       "      <td>0.0</td>\n",
       "      <td>1.0</td>\n",
       "      <td>0.0</td>\n",
       "      <td>0.0</td>\n",
       "      <td>0.0</td>\n",
       "      <td>0.0</td>\n",
       "      <td>1.0</td>\n",
       "    </tr>\n",
       "    <tr>\n",
       "      <th>815</th>\n",
       "      <td>26.0</td>\n",
       "      <td>8</td>\n",
       "      <td>6</td>\n",
       "      <td>0.0</td>\n",
       "      <td>0.0</td>\n",
       "      <td>0.0</td>\n",
       "      <td>1.0</td>\n",
       "      <td>0.0</td>\n",
       "      <td>0.0</td>\n",
       "      <td>0.0</td>\n",
       "      <td>...</td>\n",
       "      <td>1.0</td>\n",
       "      <td>0.0</td>\n",
       "      <td>0.0</td>\n",
       "      <td>0.0</td>\n",
       "      <td>1.0</td>\n",
       "      <td>0.0</td>\n",
       "      <td>1.0</td>\n",
       "      <td>0.0</td>\n",
       "      <td>0.0</td>\n",
       "      <td>0.0</td>\n",
       "    </tr>\n",
       "  </tbody>\n",
       "</table>\n",
       "<p>286 rows × 26 columns</p>\n",
       "</div>"
      ],
      "text/plain": [
       "      BMI  Sleep  SoundSleep  Pregancies  Age_50-59  Age_60 or older  \\\n",
       "334  20.0      6           6         0.0        1.0              0.0   \n",
       "434  24.0      6           5         0.0        0.0              0.0   \n",
       "461  33.0      7           2         0.0        0.0              0.0   \n",
       "375  26.0      7           5         0.0        0.0              0.0   \n",
       "902  25.0      7           5         0.0        0.0              0.0   \n",
       "..    ...    ...         ...         ...        ...              ...   \n",
       "833  21.0      8           4         0.0        0.0              1.0   \n",
       "914  20.0      7           4         0.0        0.0              0.0   \n",
       "68   23.0      5           4         0.0        1.0              0.0   \n",
       "710  27.0      6           5         0.0        0.0              1.0   \n",
       "815  26.0      8           6         0.0        0.0              0.0   \n",
       "\n",
       "     Age_less than 40  Gender_Male  Family_Diabetes_yes  highBP_yes  ...  \\\n",
       "334               0.0          1.0                  0.0         1.0  ...   \n",
       "434               1.0          1.0                  1.0         0.0  ...   \n",
       "461               0.0          0.0                  1.0         1.0  ...   \n",
       "375               1.0          0.0                  1.0         0.0  ...   \n",
       "902               1.0          1.0                  0.0         0.0  ...   \n",
       "..                ...          ...                  ...         ...  ...   \n",
       "833               0.0          1.0                  1.0         1.0  ...   \n",
       "914               1.0          1.0                  0.0         0.0  ...   \n",
       "68                0.0          1.0                  1.0         0.0  ...   \n",
       "710               0.0          1.0                  1.0         1.0  ...   \n",
       "815               1.0          0.0                  0.0         0.0  ...   \n",
       "\n",
       "     JunkFood_occasionally  JunkFood_often  JunkFood_very often  \\\n",
       "334                    1.0             0.0                  0.0   \n",
       "434                    1.0             0.0                  0.0   \n",
       "461                    1.0             0.0                  0.0   \n",
       "375                    0.0             1.0                  0.0   \n",
       "902                    0.0             1.0                  0.0   \n",
       "..                     ...             ...                  ...   \n",
       "833                    1.0             0.0                  0.0   \n",
       "914                    0.0             1.0                  0.0   \n",
       "68                     1.0             0.0                  0.0   \n",
       "710                    1.0             0.0                  0.0   \n",
       "815                    1.0             0.0                  0.0   \n",
       "\n",
       "     Stress_not at all  Stress_sometimes  Stress_very often  BPLevel_low  \\\n",
       "334                0.0               0.0                1.0          0.0   \n",
       "434                0.0               1.0                0.0          0.0   \n",
       "461                0.0               1.0                0.0          0.0   \n",
       "375                0.0               1.0                0.0          1.0   \n",
       "902                0.0               1.0                0.0          0.0   \n",
       "..                 ...               ...                ...          ...   \n",
       "833                0.0               1.0                0.0          0.0   \n",
       "914                0.0               1.0                0.0          0.0   \n",
       "68                 0.0               0.0                1.0          0.0   \n",
       "710                0.0               1.0                0.0          0.0   \n",
       "815                0.0               1.0                0.0          1.0   \n",
       "\n",
       "     BPLevel_normal  Pdiabetes_yes  UriationFreq_quite often  \n",
       "334             0.0            0.0                       1.0  \n",
       "434             1.0            0.0                       0.0  \n",
       "461             0.0            0.0                       1.0  \n",
       "375             0.0            0.0                       0.0  \n",
       "902             1.0            0.0                       1.0  \n",
       "..              ...            ...                       ...  \n",
       "833             1.0            0.0                       1.0  \n",
       "914             1.0            0.0                       1.0  \n",
       "68              1.0            0.0                       0.0  \n",
       "710             0.0            0.0                       1.0  \n",
       "815             0.0            0.0                       0.0  \n",
       "\n",
       "[286 rows x 26 columns]"
      ]
     },
     "execution_count": 273,
     "metadata": {},
     "output_type": "execute_result"
    }
   ],
   "source": [
    "## dados de teste com encodig\n",
    "X_ts_encoded"
   ]
  },
  {
   "cell_type": "markdown",
   "id": "7a27ed73",
   "metadata": {},
   "source": [
    "### Sobre a <u>escala</u> das variáveis\n",
    "\n",
    "No uso da **Regressão Logística** temos uma <u>escolha</u> em termos da escala das variáveis\n",
    "\n",
    " - Caso escalemos as variáveis\n",
    "   - Os $\\beta$s passam a ser comparáveis, ou seja, se uma variável possui um $\\beta$ **maior em módulo**, quer dizer que ela é **mais relevante para a classificação**\n",
    "   - Entretanto a interpretação fica mais difícil, pois o $\\beta$ multiplica uma variável em uma escala diferente da original\n",
    "   \n",
    "Nessa análise optaremos por **não** escalar as variáveis."
   ]
  },
  {
   "cell_type": "markdown",
   "id": "508e6cc1",
   "metadata": {},
   "source": [
    "## TREINAMENTO DE MODELOS\n",
    "\n",
    "Uma boa estratégia a se seguir é a de testar modelos mais simples primeiro, e irmos aumentando a complexidade caso necessário.\n",
    "\n",
    "Como citamos anteriormente, uma boa escolha neste caso poderia ser uma regressão logítica:\n",
    "\n",
    " - Ela é interpretável (isso sempre é bom, mesmo quando o problema não tem essa demanda)\n",
    " - É um modelo simples de explicar para os usuários\n",
    " - Retorna probabilidades (estava na descrição do problema)\n",
    " \n",
    "Dessa forma vamos iniciar com ela"
   ]
  },
  {
   "cell_type": "markdown",
   "id": "07b43360",
   "metadata": {},
   "source": [
    " - penalty='none': O parâmetro penalty controla a regularização aplicada ao modelo de regressão logística. Quando definido como 'none', isso significa que nenhuma regularização está sendo aplicada. A regularização é usada para evitar overfitting, mas ao definir penalty como 'none', o modelo não está sujeito a nenhuma penalização nas ponderações, tornando-o uma regressão logística simples sem regularização.\n",
    "\n",
    "- random_state=61658: O parâmetro random_state é usado para definir a semente aleatória, o que garante que os resultados sejam reproduzíveis. Ao definir um valor fixo, como 61658, o modelo gerará os mesmos resultados sempre que for ajustado aos mesmos dados. Isso é útil para fins de reprodutibilidade.\n",
    "\n",
    "- max_iter=3_000: O parâmetro max_iter controla o número máximo de iterações que o otimizador utilizará para encontrar os parâmetros do modelo. Neste caso, o valor é definido como 3.000, o que significa que o otimizador tentará encontrar os parâmetros do modelo em até 3.000 iterações. Isso é importante para garantir que o otimizador tenha tempo suficiente para convergir para uma solução, especialmente se o problema for complexo."
   ]
  },
  {
   "cell_type": "code",
   "execution_count": 274,
   "id": "fc574e70",
   "metadata": {},
   "outputs": [],
   "source": [
    "from sklearn.linear_model import LogisticRegression\n",
    "from sklearn.model_selection import cross_val_score\n",
    "\n",
    "\n",
    "clf = LogisticRegression(penalty=None, random_state=61658, max_iter=3_000)"
   ]
  },
  {
   "cell_type": "markdown",
   "id": "dbfd8bd9",
   "metadata": {},
   "source": [
    "A variável scores conterá uma lista com os valores da métrica ROC AUC calculados para cada uma das 10 dobras da validação cruzada. Esses valores podem ser usados para avaliar o desempenho do modelo e, por exemplo, calcular a média ou o desvio padrão da métrica para obter uma medida geral do desempenho do modelo."
   ]
  },
  {
   "cell_type": "code",
   "execution_count": 275,
   "id": "553eed72",
   "metadata": {},
   "outputs": [
    {
     "name": "stdout",
     "output_type": "stream",
     "text": [
      "O valor médio da AUC foi de 0.94 com devio padrão de 0.04\n"
     ]
    }
   ],
   "source": [
    "# avaliando o medelo\n",
    "scores = cross_val_score(clf, X_tr_encoded, y_tr, cv=10, scoring='roc_auc')\n",
    "\n",
    "print(f\"O valor médio da AUC foi de {scores.mean():.2f} com devio padrão de {scores.std():.2f}\")"
   ]
  },
  {
   "cell_type": "markdown",
   "id": "4b718a75",
   "metadata": {},
   "source": [
    "## Sugestão\n",
    "\n",
    "Como o valor da métrica de comparação do modelo já ficou bastante bom, nós podemos utilizar o modelo com os hyperparâmetros default (definindo apenas o random_state) - lembrando que a regressão logística não possui nenhum parâmetro que podem levar a problemas, como por exemplo o overfiting que pode acontecer com árvores profundas.\n",
    "\n",
    "Outra opção seria realizar um  GridSearchCV no modelo, buscando no espaço de hyperparâmetros que retornem valores um pouco melhores de médio de AUC.\n",
    "\n",
    "No caso o método corr_val_score não retorna o modelo já fitado, então precisamos fitar o modelo dessa forma.\n",
    "Ainda, como a variação da AUC não foi grande entre os folds e o valor médio foi bom nós podemos utilizar todo o conjunto para treino para ter uma noção da performance do modelo no mundo real. "
   ]
  },
  {
   "cell_type": "code",
   "execution_count": 276,
   "id": "40591275",
   "metadata": {},
   "outputs": [
    {
     "data": {
      "text/html": [
       "<div>\n",
       "<style scoped>\n",
       "    .dataframe tbody tr th:only-of-type {\n",
       "        vertical-align: middle;\n",
       "    }\n",
       "\n",
       "    .dataframe tbody tr th {\n",
       "        vertical-align: top;\n",
       "    }\n",
       "\n",
       "    .dataframe thead th {\n",
       "        text-align: right;\n",
       "    }\n",
       "</style>\n",
       "<table border=\"1\" class=\"dataframe\">\n",
       "  <thead>\n",
       "    <tr style=\"text-align: right;\">\n",
       "      <th></th>\n",
       "      <th>Diabetic</th>\n",
       "      <th>pred</th>\n",
       "    </tr>\n",
       "  </thead>\n",
       "  <tbody>\n",
       "    <tr>\n",
       "      <th>334</th>\n",
       "      <td>1</td>\n",
       "      <td>0.050753</td>\n",
       "    </tr>\n",
       "    <tr>\n",
       "      <th>434</th>\n",
       "      <td>0</td>\n",
       "      <td>0.019757</td>\n",
       "    </tr>\n",
       "    <tr>\n",
       "      <th>461</th>\n",
       "      <td>1</td>\n",
       "      <td>0.636583</td>\n",
       "    </tr>\n",
       "    <tr>\n",
       "      <th>375</th>\n",
       "      <td>0</td>\n",
       "      <td>0.000009</td>\n",
       "    </tr>\n",
       "    <tr>\n",
       "      <th>902</th>\n",
       "      <td>0</td>\n",
       "      <td>0.016321</td>\n",
       "    </tr>\n",
       "    <tr>\n",
       "      <th>...</th>\n",
       "      <td>...</td>\n",
       "      <td>...</td>\n",
       "    </tr>\n",
       "    <tr>\n",
       "      <th>833</th>\n",
       "      <td>0</td>\n",
       "      <td>0.957375</td>\n",
       "    </tr>\n",
       "    <tr>\n",
       "      <th>914</th>\n",
       "      <td>0</td>\n",
       "      <td>0.002846</td>\n",
       "    </tr>\n",
       "    <tr>\n",
       "      <th>68</th>\n",
       "      <td>1</td>\n",
       "      <td>0.919457</td>\n",
       "    </tr>\n",
       "    <tr>\n",
       "      <th>710</th>\n",
       "      <td>1</td>\n",
       "      <td>0.993821</td>\n",
       "    </tr>\n",
       "    <tr>\n",
       "      <th>815</th>\n",
       "      <td>0</td>\n",
       "      <td>0.000001</td>\n",
       "    </tr>\n",
       "  </tbody>\n",
       "</table>\n",
       "<p>286 rows × 2 columns</p>\n",
       "</div>"
      ],
      "text/plain": [
       "     Diabetic      pred\n",
       "334         1  0.050753\n",
       "434         0  0.019757\n",
       "461         1  0.636583\n",
       "375         0  0.000009\n",
       "902         0  0.016321\n",
       "..        ...       ...\n",
       "833         0  0.957375\n",
       "914         0  0.002846\n",
       "68          1  0.919457\n",
       "710         1  0.993821\n",
       "815         0  0.000001\n",
       "\n",
       "[286 rows x 2 columns]"
      ]
     },
     "execution_count": 276,
     "metadata": {},
     "output_type": "execute_result"
    }
   ],
   "source": [
    "# treinando o modelo\n",
    "clf.fit(X_tr_encoded, y_tr)\n",
    "\n",
    "# criando o dataframe\n",
    "y_ts_df = pd.DataFrame(y_ts)\n",
    "\n",
    "# criando as predições\n",
    "y_ts_df.loc[:,'pred'] = clf.predict_proba(X_ts_encoded)[:,1]\n",
    "y_ts_df"
   ]
  },
  {
   "cell_type": "markdown",
   "id": "c8fc4256",
   "metadata": {},
   "source": [
    "Aqui criamos um dataframe com as predições de probabilidades de ser diabéticos '1'"
   ]
  },
  {
   "cell_type": "code",
   "execution_count": 277,
   "id": "36997d7d",
   "metadata": {},
   "outputs": [],
   "source": [
    "# os preditos sem probabilidades sãoa apenas scores do modelos\n",
    "#y_pred = clf.predict(X_ts_encoded)[:,1]"
   ]
  },
  {
   "cell_type": "markdown",
   "id": "962e4b6b",
   "metadata": {},
   "source": [
    "### Como os scores ficaram para cada uma das classes?"
   ]
  },
  {
   "cell_type": "code",
   "execution_count": 278,
   "id": "6d69d5d8",
   "metadata": {},
   "outputs": [
    {
     "data": {
      "text/plain": [
       "<matplotlib.legend.Legend at 0x237faafd190>"
      ]
     },
     "execution_count": 278,
     "metadata": {},
     "output_type": "execute_result"
    },
    {
     "data": {
      "image/png": "[encoded data removed]",
      "text/plain": [
       "<Figure size 1300x500 with 1 Axes>"
      ]
     },
     "metadata": {},
     "output_type": "display_data"
    }
   ],
   "source": [
    "# Gráfico dos predito diabético e não diabéticos\n",
    "\n",
    "plt.figure(figsize=(13,5))\n",
    "plt.hist(y_ts_df.loc[y_ts_df.Diabetic==0].pred,bins=np.linspace(0,1,13), color='C0', alpha=.3, density=True, rwidth=.8,label='Não-Diabético')\n",
    "plt.hist(y_ts_df.loc[y_ts_df.Diabetic==1].pred,bins=np.linspace(0,1,13), color='C3', alpha=.3, density=True, rwidth=.8,label='Diabético')\n",
    "plt.legend(fontsize=12)"
   ]
  },
  {
   "cell_type": "markdown",
   "id": "36b04aa8",
   "metadata": {},
   "source": [
    "## Aqui já percebemos que probabilidades de acima de 50% todos os pacientes tendem a ser diabéticos, iremos investigar mais profundamente."
   ]
  },
  {
   "cell_type": "markdown",
   "id": "6d6e5522",
   "metadata": {},
   "source": [
    "### Vamos verificar a curva ROC?\n"
   ]
  },
  {
   "cell_type": "code",
   "execution_count": 279,
   "id": "46637320",
   "metadata": {},
   "outputs": [
    {
     "name": "stdout",
     "output_type": "stream",
     "text": [
      "AUC - 0.9195121951219511\n"
     ]
    }
   ],
   "source": [
    "from sklearn.metrics import roc_curve, roc_auc_score\n",
    "\n",
    "print('AUC -', roc_auc_score(y_ts_df.Diabetic, y_ts_df.pred))"
   ]
  },
  {
   "cell_type": "code",
   "execution_count": 280,
   "id": "637e90cc",
   "metadata": {},
   "outputs": [
    {
     "data": {
      "text/plain": [
       "Text(0, 0.5, 'Taxa de Verdadeiros Positivos')"
      ]
     },
     "execution_count": 280,
     "metadata": {},
     "output_type": "execute_result"
    },
    {
     "data": {
      "image/png": "[encoded data removed]",
      "text/plain": [
       "<Figure size 800x800 with 1 Axes>"
      ]
     },
     "metadata": {},
     "output_type": "display_data"
    }
   ],
   "source": [
    "# Plotando grafico da curva ROC\n",
    "fpr, tpr, ths = roc_curve(y_ts_df.Diabetic, y_ts_df.pred)\n",
    "\n",
    "plt.figure(figsize=(8,8))\n",
    "plt.plot(fpr,tpr)\n",
    "plt.xlabel('Taxa de Falsos Positivos')\n",
    "plt.ylabel('Taxa de Verdadeiros Positivos')"
   ]
  },
  {
   "cell_type": "markdown",
   "id": "60daafea",
   "metadata": {},
   "source": [
    "### Ao limiar de 0,8 o modelo tem uma taxa de acerto alto levando em consideração os verdadeiros positivos, mas isso é uma  decisão de negócio"
   ]
  },
  {
   "cell_type": "code",
   "execution_count": 281,
   "id": "826afeba",
   "metadata": {},
   "outputs": [
    {
     "data": {
      "image/png": "[encoded data removed]",
      "text/plain": [
       "<Figure size 800x800 with 2 Axes>"
      ]
     },
     "metadata": {},
     "output_type": "display_data"
    }
   ],
   "source": [
    "fpr, tpr, ths = roc_curve(y_ts_df.Diabetic, y_ts_df.pred)\n",
    "\n",
    "plt.figure(figsize=(8,8))\n",
    "plt.scatter(fpr,tpr,c=ths, vmin=0, vmax=1, cmap='tab20c')\n",
    "plt.plot((0,1),(0,1),'k:')\n",
    "plt.colorbar()\n",
    "plt.xlabel('Taxa de Falsos Positivos')\n",
    "plt.ylabel('Taxa de Verdadeiros Positivos')\n",
    "plt.grid();"
   ]
  },
  {
   "cell_type": "markdown",
   "id": "718f7246",
   "metadata": {},
   "source": [
    "### Discussão: Como otimizar o limiar?\n",
    "\n",
    "A **AUC/ROC** nos dá uma medida <u>geral</u> sobre a performance do modelo.\n",
    "\n",
    "Mas, no fim do dia, **precisamos contactar alguns clientes com a opções de medicina preventiva**, enquanto outros **não são contactados**:\n",
    "\n",
    " - Se contactássemos todos, entraríamos em contato com muitos clientes não propensos desnecessariamente, gerando custos desnecessários\n",
    "   - Além disso, se falamos com <u>todo mundo</u>, não precisamos de modelo!\n",
    " - Por outro lado, não contactar ninguém é o que temos hoje: Alguns clientes gastando **muito** por contraírem diabetes\n",
    " \n",
    "##### Como encontrar o balanço?\n",
    "\n",
    " - Podemos testar diversas alternativas, e verificar como as métricas se comportam em cada uma delas, por exemplo:"
   ]
  },
  {
   "cell_type": "markdown",
   "id": "aa2a0e22",
   "metadata": {},
   "source": [
    "## Em conjunto com a área de negócio decidimos entrar em contato como todos clientes que têm probabilidades acima de 50% de contrair diábetes"
   ]
  },
  {
   "cell_type": "code",
   "execution_count": 282,
   "id": "315e187a",
   "metadata": {},
   "outputs": [
    {
     "data": {
      "text/plain": [
       "(286, 2)"
      ]
     },
     "execution_count": 282,
     "metadata": {},
     "output_type": "execute_result"
    }
   ],
   "source": [
    "# verificando números de linhas e colunas das predições\n",
    "y_ts_df.shape"
   ]
  },
  {
   "cell_type": "code",
   "execution_count": 283,
   "id": "772d066c",
   "metadata": {},
   "outputs": [
    {
     "name": "stdout",
     "output_type": "stream",
     "text": [
      "Vamos entrar em contato com 76 pessoas\n",
      "Deixamos de entrar em contato com 210 pessoas\n",
      "              precision    recall  f1-score   support\n",
      "\n",
      "           0       0.92      0.95      0.93       205\n",
      "           1       0.86      0.80      0.83        81\n",
      "\n",
      "    accuracy                           0.91       286\n",
      "   macro avg       0.89      0.87      0.88       286\n",
      "weighted avg       0.90      0.91      0.90       286\n",
      "\n"
     ]
    }
   ],
   "source": [
    "from sklearn.metrics import classification_report\n",
    "\n",
    "# Vamos entrar em contato com todos clientes com probabilidade acima de 50% de contraírem diabetes:\n",
    "prediction = y_ts_df.pred>0.50\n",
    "print( f\"Vamos entrar em contato com {prediction.sum()} pessoas\" )\n",
    "print( f\"Deixamos de entrar em contato com {(1-prediction).sum()} pessoas\" )\n",
    "print( classification_report(y_ts_df.Diabetic, prediction) )"
   ]
  },
  {
   "cell_type": "markdown",
   "id": "11705ecf",
   "metadata": {},
   "source": [
    "#### Vamos interpretar:\n",
    "\n",
    " - **Precision**\n",
    "   - 1: Das $76$ pessoas que entramos em contato, $86\\%$ eram realmente diabéticas\n",
    "   - 0: Das $210$ pessoas que deixamos de entrar em contato, $92\\%$ realmente não eram diabéticas\n",
    "   \n",
    " - **Recall**\n",
    "   - 1: Das $81$ pessoas que realmente são diabéticas, entramos em contato com $80\\%$ delas\n",
    "   - 0: Das $205$ pessoas que não são diabéticas, deixamos de entrar em contato com $95\\%$ delas\n",
    "   \n",
    " - **Acurácia**\n",
    "   - Isso corresponde a um acerto de $91\\%$\n",
    "\n",
    "<span style=\"font-size:8pt;\">\n",
    "Obs.:\n",
    "    \n",
    "  - Macro Avg: Média simples dos valores acima\n",
    "  - Weighted Avg: Média ponderada dos valores acima\n",
    "</span>"
   ]
  },
  {
   "cell_type": "markdown",
   "id": "f013eb88",
   "metadata": {},
   "source": [
    "### Não temos condições de entrar em contato com 50 pessoas, então decidimos entrar em contato com apenas OS 30 CLIENTES MAIS PROPENSOS EM TER DIÁBETES"
   ]
  },
  {
   "cell_type": "code",
   "execution_count": 284,
   "id": "7f651a30",
   "metadata": {},
   "outputs": [
    {
     "name": "stdout",
     "output_type": "stream",
     "text": [
      "Limiar:  0.9148709724213582\n",
      "Vamos entrar em contato com 30 pessoas\n",
      "Deixamos de entrar em contato com 256 pessoas\n",
      "              precision    recall  f1-score   support\n",
      "\n",
      "           0       0.78      0.98      0.87       205\n",
      "           1       0.83      0.31      0.45        81\n",
      "\n",
      "    accuracy                           0.79       286\n",
      "   macro avg       0.81      0.64      0.66       286\n",
      "weighted avg       0.80      0.79      0.75       286\n",
      "\n"
     ]
    }
   ],
   "source": [
    "prediction=y_ts_df.pred>y_ts_df.pred.sort_values(ascending=False).iloc[30]\n",
    "print('Limiar: ', y_ts_df.pred.sort_values(ascending=False).iloc[30])\n",
    "print( f\"Vamos entrar em contato com {prediction.sum()} pessoas\" )\n",
    "print( f\"Deixamos de entrar em contato com {(1-prediction).sum()} pessoas\" )\n",
    "print( classification_report(y_ts_df.Diabetic, prediction) )"
   ]
  },
  {
   "cell_type": "markdown",
   "id": "e9550935",
   "metadata": {},
   "source": [
    "#### Vamos interpretar:\n",
    "\n",
    " - **Precision**\n",
    "   - 1: Das $30$ pessoas que entramos em contato, $83\\%$ eram realmente diabéticas\n",
    "   - 0: Das $256$ pessoas que deixamos de entrar em contato, $78\\%$ realmente não eram diabéticas\n",
    "   \n",
    " - **Recall**\n",
    "   - 1: Das $81$ pessoas que realmente são diabéticas, entramos em contato com $31\\%$ delas\n",
    "   - 0: Das $205$ pessoas que não são diabéticas, deixamos de entrar em contato com $98\\%$ delas\n",
    "   \n",
    " - **Acurácia**\n",
    "   - Isso corresponde a um acerto de $79\\%$ de acurácia\n",
    "\n",
    "<span style=\"font-size:8pt;\">\n",
    "Obs.:\n",
    "    \n",
    "  - Macro Avg: Média simples dos valores acima\n",
    "  - Weighted Avg: Média ponderada dos valores acima\n",
    "</span>"
   ]
  },
  {
   "cell_type": "markdown",
   "id": "781c63e8",
   "metadata": {},
   "source": [
    "## VAMOS MELHORAR O MODELO?"
   ]
  },
  {
   "cell_type": "markdown",
   "id": "36014ac9",
   "metadata": {},
   "source": [
    "- Mas agora que temos um bom começo, vamos ver como podemos **melhorar** esse modelo?"
   ]
  },
  {
   "cell_type": "markdown",
   "id": "66ffab60",
   "metadata": {},
   "source": [
    "Neste caso, por sorte a curva roc já ficou muito boa com a abordagem escolhida e que o valor da métrica nos dados de teste está bastante próximo do observado no conjunto de treino (considendando média e os valores individuais dos folds)\n",
    "\n",
    "\n",
    "Lembrando que essa abordagem envolve:\n",
    "\n",
    " - O classificador escolhido\n",
    " - Os parâmetros do classificador\n",
    " - Preenchimento de valores faltantes\n",
    " - Criação de variáveis (Feature Engineering)\n",
    " - Escolha do Scaler das variáveis\n",
    " - Encoding das variáveis categóricas\n",
    "\n",
    "Todos os itens da lista acima podem ser modificados ou testados buscando uma melhor performance, mas sempre levando em conta __o tradeoff do tempo/esforço para realizar esses testes versus o ganho que pode trazer__ . \n",
    "\n",
    "Nesse caso, vamos tentar <u>reduzir nossa quantidade de variáveis</u> modificando o classificador para fazer de uma **regularização LASSO**"
   ]
  },
  {
   "cell_type": "markdown",
   "id": "dcbb6c7d",
   "metadata": {},
   "source": [
    "### Pra isso, primeiro temos que ver a <u>correlação das variáveis</u>"
   ]
  },
  {
   "cell_type": "code",
   "execution_count": 285,
   "id": "3341b8cb",
   "metadata": {},
   "outputs": [
    {
     "data": {
      "text/html": [
       "<div>\n",
       "<style scoped>\n",
       "    .dataframe tbody tr th:only-of-type {\n",
       "        vertical-align: middle;\n",
       "    }\n",
       "\n",
       "    .dataframe tbody tr th {\n",
       "        vertical-align: top;\n",
       "    }\n",
       "\n",
       "    .dataframe thead th {\n",
       "        text-align: right;\n",
       "    }\n",
       "</style>\n",
       "<table border=\"1\" class=\"dataframe\">\n",
       "  <thead>\n",
       "    <tr style=\"text-align: right;\">\n",
       "      <th></th>\n",
       "      <th>BMI</th>\n",
       "      <th>Sleep</th>\n",
       "      <th>SoundSleep</th>\n",
       "      <th>Pregancies</th>\n",
       "      <th>Age_50-59</th>\n",
       "      <th>Age_60 or older</th>\n",
       "      <th>Age_less than 40</th>\n",
       "      <th>Gender_Male</th>\n",
       "      <th>Family_Diabetes_yes</th>\n",
       "      <th>highBP_yes</th>\n",
       "      <th>...</th>\n",
       "      <th>JunkFood_occasionally</th>\n",
       "      <th>JunkFood_often</th>\n",
       "      <th>JunkFood_very often</th>\n",
       "      <th>Stress_not at all</th>\n",
       "      <th>Stress_sometimes</th>\n",
       "      <th>Stress_very often</th>\n",
       "      <th>BPLevel_low</th>\n",
       "      <th>BPLevel_normal</th>\n",
       "      <th>Pdiabetes_yes</th>\n",
       "      <th>UriationFreq_quite often</th>\n",
       "    </tr>\n",
       "  </thead>\n",
       "  <tbody>\n",
       "    <tr>\n",
       "      <th>BMI</th>\n",
       "      <td>1.000000</td>\n",
       "      <td>-0.090101</td>\n",
       "      <td>-0.329435</td>\n",
       "      <td>-0.076030</td>\n",
       "      <td>0.210675</td>\n",
       "      <td>0.022241</td>\n",
       "      <td>-0.245369</td>\n",
       "      <td>-0.065158</td>\n",
       "      <td>0.128787</td>\n",
       "      <td>0.173715</td>\n",
       "      <td>...</td>\n",
       "      <td>0.011065</td>\n",
       "      <td>-0.014960</td>\n",
       "      <td>-0.000702</td>\n",
       "      <td>-0.075697</td>\n",
       "      <td>-0.022117</td>\n",
       "      <td>0.061680</td>\n",
       "      <td>-0.032421</td>\n",
       "      <td>-0.150865</td>\n",
       "      <td>0.069626</td>\n",
       "      <td>0.244939</td>\n",
       "    </tr>\n",
       "    <tr>\n",
       "      <th>Sleep</th>\n",
       "      <td>-0.090101</td>\n",
       "      <td>1.000000</td>\n",
       "      <td>0.511992</td>\n",
       "      <td>0.043543</td>\n",
       "      <td>0.039892</td>\n",
       "      <td>-0.134768</td>\n",
       "      <td>0.087892</td>\n",
       "      <td>-0.083024</td>\n",
       "      <td>0.077679</td>\n",
       "      <td>-0.056185</td>\n",
       "      <td>...</td>\n",
       "      <td>-0.026574</td>\n",
       "      <td>0.014229</td>\n",
       "      <td>0.022725</td>\n",
       "      <td>-0.061416</td>\n",
       "      <td>0.056923</td>\n",
       "      <td>-0.033260</td>\n",
       "      <td>0.032224</td>\n",
       "      <td>0.082450</td>\n",
       "      <td>0.122379</td>\n",
       "      <td>-0.092448</td>\n",
       "    </tr>\n",
       "    <tr>\n",
       "      <th>SoundSleep</th>\n",
       "      <td>-0.329435</td>\n",
       "      <td>0.511992</td>\n",
       "      <td>1.000000</td>\n",
       "      <td>0.127888</td>\n",
       "      <td>-0.111038</td>\n",
       "      <td>0.050786</td>\n",
       "      <td>0.018754</td>\n",
       "      <td>0.018963</td>\n",
       "      <td>0.046006</td>\n",
       "      <td>-0.136200</td>\n",
       "      <td>...</td>\n",
       "      <td>0.041254</td>\n",
       "      <td>0.024432</td>\n",
       "      <td>-0.020982</td>\n",
       "      <td>0.002949</td>\n",
       "      <td>0.061077</td>\n",
       "      <td>-0.042938</td>\n",
       "      <td>0.083842</td>\n",
       "      <td>0.102759</td>\n",
       "      <td>0.044412</td>\n",
       "      <td>-0.298473</td>\n",
       "    </tr>\n",
       "    <tr>\n",
       "      <th>Pregancies</th>\n",
       "      <td>-0.076030</td>\n",
       "      <td>0.043543</td>\n",
       "      <td>0.127888</td>\n",
       "      <td>1.000000</td>\n",
       "      <td>0.065719</td>\n",
       "      <td>0.137054</td>\n",
       "      <td>-0.193896</td>\n",
       "      <td>-0.502741</td>\n",
       "      <td>0.083472</td>\n",
       "      <td>0.029867</td>\n",
       "      <td>...</td>\n",
       "      <td>0.005985</td>\n",
       "      <td>0.006762</td>\n",
       "      <td>0.060477</td>\n",
       "      <td>-0.078112</td>\n",
       "      <td>-0.004805</td>\n",
       "      <td>-0.091548</td>\n",
       "      <td>-0.014413</td>\n",
       "      <td>-0.041421</td>\n",
       "      <td>0.222013</td>\n",
       "      <td>-0.004924</td>\n",
       "    </tr>\n",
       "    <tr>\n",
       "      <th>Age_50-59</th>\n",
       "      <td>0.210675</td>\n",
       "      <td>0.039892</td>\n",
       "      <td>-0.111038</td>\n",
       "      <td>0.065719</td>\n",
       "      <td>1.000000</td>\n",
       "      <td>-0.186092</td>\n",
       "      <td>-0.450995</td>\n",
       "      <td>-0.043295</td>\n",
       "      <td>0.004733</td>\n",
       "      <td>0.219019</td>\n",
       "      <td>...</td>\n",
       "      <td>0.102746</td>\n",
       "      <td>-0.098388</td>\n",
       "      <td>0.049682</td>\n",
       "      <td>-0.154759</td>\n",
       "      <td>-0.067959</td>\n",
       "      <td>0.119596</td>\n",
       "      <td>-0.000112</td>\n",
       "      <td>-0.254489</td>\n",
       "      <td>0.087173</td>\n",
       "      <td>-0.022225</td>\n",
       "    </tr>\n",
       "    <tr>\n",
       "      <th>Age_60 or older</th>\n",
       "      <td>0.022241</td>\n",
       "      <td>-0.134768</td>\n",
       "      <td>0.050786</td>\n",
       "      <td>0.137054</td>\n",
       "      <td>-0.186092</td>\n",
       "      <td>1.000000</td>\n",
       "      <td>-0.418877</td>\n",
       "      <td>0.038874</td>\n",
       "      <td>0.049602</td>\n",
       "      <td>0.262086</td>\n",
       "      <td>...</td>\n",
       "      <td>0.182357</td>\n",
       "      <td>-0.106879</td>\n",
       "      <td>-0.100912</td>\n",
       "      <td>0.031963</td>\n",
       "      <td>-0.090858</td>\n",
       "      <td>0.015219</td>\n",
       "      <td>-0.069343</td>\n",
       "      <td>-0.310311</td>\n",
       "      <td>-0.011981</td>\n",
       "      <td>0.114479</td>\n",
       "    </tr>\n",
       "    <tr>\n",
       "      <th>Age_less than 40</th>\n",
       "      <td>-0.245369</td>\n",
       "      <td>0.087892</td>\n",
       "      <td>0.018754</td>\n",
       "      <td>-0.193896</td>\n",
       "      <td>-0.450995</td>\n",
       "      <td>-0.418877</td>\n",
       "      <td>1.000000</td>\n",
       "      <td>0.061363</td>\n",
       "      <td>-0.139670</td>\n",
       "      <td>-0.342040</td>\n",
       "      <td>...</td>\n",
       "      <td>-0.315492</td>\n",
       "      <td>0.267600</td>\n",
       "      <td>0.017856</td>\n",
       "      <td>0.123898</td>\n",
       "      <td>0.030705</td>\n",
       "      <td>-0.055455</td>\n",
       "      <td>0.054346</td>\n",
       "      <td>0.363072</td>\n",
       "      <td>-0.065955</td>\n",
       "      <td>-0.053772</td>\n",
       "    </tr>\n",
       "    <tr>\n",
       "      <th>Gender_Male</th>\n",
       "      <td>-0.065158</td>\n",
       "      <td>-0.083024</td>\n",
       "      <td>0.018963</td>\n",
       "      <td>-0.502741</td>\n",
       "      <td>-0.043295</td>\n",
       "      <td>0.038874</td>\n",
       "      <td>0.061363</td>\n",
       "      <td>1.000000</td>\n",
       "      <td>-0.104540</td>\n",
       "      <td>0.039012</td>\n",
       "      <td>...</td>\n",
       "      <td>-0.036049</td>\n",
       "      <td>0.016768</td>\n",
       "      <td>-0.027936</td>\n",
       "      <td>0.121974</td>\n",
       "      <td>-0.025039</td>\n",
       "      <td>-0.036408</td>\n",
       "      <td>0.023693</td>\n",
       "      <td>-0.038475</td>\n",
       "      <td>-0.142560</td>\n",
       "      <td>-0.209083</td>\n",
       "    </tr>\n",
       "    <tr>\n",
       "      <th>Family_Diabetes_yes</th>\n",
       "      <td>0.128787</td>\n",
       "      <td>0.077679</td>\n",
       "      <td>0.046006</td>\n",
       "      <td>0.083472</td>\n",
       "      <td>0.004733</td>\n",
       "      <td>0.049602</td>\n",
       "      <td>-0.139670</td>\n",
       "      <td>-0.104540</td>\n",
       "      <td>1.000000</td>\n",
       "      <td>0.108712</td>\n",
       "      <td>...</td>\n",
       "      <td>-0.051027</td>\n",
       "      <td>0.060091</td>\n",
       "      <td>0.041956</td>\n",
       "      <td>-0.050699</td>\n",
       "      <td>-0.012502</td>\n",
       "      <td>-0.003013</td>\n",
       "      <td>0.006275</td>\n",
       "      <td>-0.155759</td>\n",
       "      <td>0.017430</td>\n",
       "      <td>0.041542</td>\n",
       "    </tr>\n",
       "    <tr>\n",
       "      <th>highBP_yes</th>\n",
       "      <td>0.173715</td>\n",
       "      <td>-0.056185</td>\n",
       "      <td>-0.136200</td>\n",
       "      <td>0.029867</td>\n",
       "      <td>0.219019</td>\n",
       "      <td>0.262086</td>\n",
       "      <td>-0.342040</td>\n",
       "      <td>0.039012</td>\n",
       "      <td>0.108712</td>\n",
       "      <td>1.000000</td>\n",
       "      <td>...</td>\n",
       "      <td>0.137181</td>\n",
       "      <td>-0.163493</td>\n",
       "      <td>0.073202</td>\n",
       "      <td>-0.056516</td>\n",
       "      <td>-0.095849</td>\n",
       "      <td>0.027462</td>\n",
       "      <td>-0.095817</td>\n",
       "      <td>-0.637088</td>\n",
       "      <td>0.083372</td>\n",
       "      <td>0.095037</td>\n",
       "    </tr>\n",
       "    <tr>\n",
       "      <th>PhysicallyActive_more than half an hr</th>\n",
       "      <td>0.062692</td>\n",
       "      <td>0.073193</td>\n",
       "      <td>-0.096454</td>\n",
       "      <td>-0.089822</td>\n",
       "      <td>-0.084830</td>\n",
       "      <td>-0.055387</td>\n",
       "      <td>0.130300</td>\n",
       "      <td>0.023017</td>\n",
       "      <td>0.077096</td>\n",
       "      <td>0.030002</td>\n",
       "      <td>...</td>\n",
       "      <td>-0.063922</td>\n",
       "      <td>0.087608</td>\n",
       "      <td>0.012855</td>\n",
       "      <td>-0.048139</td>\n",
       "      <td>0.139913</td>\n",
       "      <td>-0.089144</td>\n",
       "      <td>-0.060820</td>\n",
       "      <td>-0.000806</td>\n",
       "      <td>0.044861</td>\n",
       "      <td>0.089943</td>\n",
       "    </tr>\n",
       "    <tr>\n",
       "      <th>PhysicallyActive_none</th>\n",
       "      <td>-0.180557</td>\n",
       "      <td>0.073185</td>\n",
       "      <td>0.271551</td>\n",
       "      <td>0.137586</td>\n",
       "      <td>0.013170</td>\n",
       "      <td>0.193971</td>\n",
       "      <td>-0.170671</td>\n",
       "      <td>-0.067586</td>\n",
       "      <td>0.071264</td>\n",
       "      <td>-0.045483</td>\n",
       "      <td>...</td>\n",
       "      <td>0.120144</td>\n",
       "      <td>-0.059199</td>\n",
       "      <td>-0.061599</td>\n",
       "      <td>0.012504</td>\n",
       "      <td>-0.050064</td>\n",
       "      <td>-0.013077</td>\n",
       "      <td>-0.068094</td>\n",
       "      <td>0.039036</td>\n",
       "      <td>-0.047818</td>\n",
       "      <td>-0.144522</td>\n",
       "    </tr>\n",
       "    <tr>\n",
       "      <th>PhysicallyActive_one hr or more</th>\n",
       "      <td>-0.121780</td>\n",
       "      <td>0.014412</td>\n",
       "      <td>0.052563</td>\n",
       "      <td>0.060415</td>\n",
       "      <td>0.026909</td>\n",
       "      <td>-0.154451</td>\n",
       "      <td>0.092843</td>\n",
       "      <td>0.035522</td>\n",
       "      <td>-0.033489</td>\n",
       "      <td>-0.086979</td>\n",
       "      <td>...</td>\n",
       "      <td>-0.086890</td>\n",
       "      <td>0.016789</td>\n",
       "      <td>0.056350</td>\n",
       "      <td>0.003518</td>\n",
       "      <td>-0.030339</td>\n",
       "      <td>-0.025410</td>\n",
       "      <td>-0.024048</td>\n",
       "      <td>0.111975</td>\n",
       "      <td>-0.032420</td>\n",
       "      <td>-0.147318</td>\n",
       "    </tr>\n",
       "    <tr>\n",
       "      <th>Smoking_yes</th>\n",
       "      <td>0.048077</td>\n",
       "      <td>-0.041015</td>\n",
       "      <td>-0.033440</td>\n",
       "      <td>-0.121765</td>\n",
       "      <td>-0.004663</td>\n",
       "      <td>-0.140310</td>\n",
       "      <td>0.146361</td>\n",
       "      <td>0.277293</td>\n",
       "      <td>-0.046903</td>\n",
       "      <td>0.012960</td>\n",
       "      <td>...</td>\n",
       "      <td>-0.208770</td>\n",
       "      <td>0.098062</td>\n",
       "      <td>0.026341</td>\n",
       "      <td>-0.033291</td>\n",
       "      <td>-0.167922</td>\n",
       "      <td>0.151249</td>\n",
       "      <td>-0.056293</td>\n",
       "      <td>-0.046270</td>\n",
       "      <td>-0.039531</td>\n",
       "      <td>-0.033947</td>\n",
       "    </tr>\n",
       "    <tr>\n",
       "      <th>Alcohol_yes</th>\n",
       "      <td>0.066848</td>\n",
       "      <td>-0.034884</td>\n",
       "      <td>0.058965</td>\n",
       "      <td>-0.178057</td>\n",
       "      <td>0.040106</td>\n",
       "      <td>0.048364</td>\n",
       "      <td>0.041500</td>\n",
       "      <td>0.316646</td>\n",
       "      <td>0.041358</td>\n",
       "      <td>0.115637</td>\n",
       "      <td>...</td>\n",
       "      <td>-0.081190</td>\n",
       "      <td>0.035478</td>\n",
       "      <td>0.027231</td>\n",
       "      <td>-0.044572</td>\n",
       "      <td>-0.159895</td>\n",
       "      <td>0.136220</td>\n",
       "      <td>-0.083006</td>\n",
       "      <td>-0.139238</td>\n",
       "      <td>-0.058290</td>\n",
       "      <td>-0.122859</td>\n",
       "    </tr>\n",
       "    <tr>\n",
       "      <th>RegularMedicine_yes</th>\n",
       "      <td>0.187002</td>\n",
       "      <td>-0.044084</td>\n",
       "      <td>-0.110772</td>\n",
       "      <td>0.197235</td>\n",
       "      <td>0.301774</td>\n",
       "      <td>0.332406</td>\n",
       "      <td>-0.437757</td>\n",
       "      <td>-0.135829</td>\n",
       "      <td>0.191204</td>\n",
       "      <td>0.430978</td>\n",
       "      <td>...</td>\n",
       "      <td>0.081037</td>\n",
       "      <td>-0.042144</td>\n",
       "      <td>-0.032146</td>\n",
       "      <td>-0.089667</td>\n",
       "      <td>-0.161363</td>\n",
       "      <td>0.085188</td>\n",
       "      <td>-0.067458</td>\n",
       "      <td>-0.354406</td>\n",
       "      <td>0.047474</td>\n",
       "      <td>0.150757</td>\n",
       "    </tr>\n",
       "    <tr>\n",
       "      <th>JunkFood_occasionally</th>\n",
       "      <td>0.011065</td>\n",
       "      <td>-0.026574</td>\n",
       "      <td>0.041254</td>\n",
       "      <td>0.005985</td>\n",
       "      <td>0.102746</td>\n",
       "      <td>0.182357</td>\n",
       "      <td>-0.315492</td>\n",
       "      <td>-0.036049</td>\n",
       "      <td>-0.051027</td>\n",
       "      <td>0.137181</td>\n",
       "      <td>...</td>\n",
       "      <td>1.000000</td>\n",
       "      <td>-0.771184</td>\n",
       "      <td>-0.367482</td>\n",
       "      <td>-0.022434</td>\n",
       "      <td>0.150611</td>\n",
       "      <td>-0.092944</td>\n",
       "      <td>-0.010726</td>\n",
       "      <td>-0.112558</td>\n",
       "      <td>-0.064132</td>\n",
       "      <td>0.020326</td>\n",
       "    </tr>\n",
       "    <tr>\n",
       "      <th>JunkFood_often</th>\n",
       "      <td>-0.014960</td>\n",
       "      <td>0.014229</td>\n",
       "      <td>0.024432</td>\n",
       "      <td>0.006762</td>\n",
       "      <td>-0.098388</td>\n",
       "      <td>-0.106879</td>\n",
       "      <td>0.267600</td>\n",
       "      <td>0.016768</td>\n",
       "      <td>0.060091</td>\n",
       "      <td>-0.163493</td>\n",
       "      <td>...</td>\n",
       "      <td>-0.771184</td>\n",
       "      <td>1.000000</td>\n",
       "      <td>-0.123642</td>\n",
       "      <td>0.046007</td>\n",
       "      <td>-0.127256</td>\n",
       "      <td>0.106131</td>\n",
       "      <td>0.052507</td>\n",
       "      <td>0.101768</td>\n",
       "      <td>-0.059664</td>\n",
       "      <td>0.010880</td>\n",
       "    </tr>\n",
       "    <tr>\n",
       "      <th>JunkFood_very often</th>\n",
       "      <td>-0.000702</td>\n",
       "      <td>0.022725</td>\n",
       "      <td>-0.020982</td>\n",
       "      <td>0.060477</td>\n",
       "      <td>0.049682</td>\n",
       "      <td>-0.100912</td>\n",
       "      <td>0.017856</td>\n",
       "      <td>-0.027936</td>\n",
       "      <td>0.041956</td>\n",
       "      <td>0.073202</td>\n",
       "      <td>...</td>\n",
       "      <td>-0.367482</td>\n",
       "      <td>-0.123642</td>\n",
       "      <td>1.000000</td>\n",
       "      <td>-0.001206</td>\n",
       "      <td>0.065686</td>\n",
       "      <td>-0.022485</td>\n",
       "      <td>-0.040486</td>\n",
       "      <td>0.025875</td>\n",
       "      <td>0.255451</td>\n",
       "      <td>-0.120677</td>\n",
       "    </tr>\n",
       "    <tr>\n",
       "      <th>Stress_not at all</th>\n",
       "      <td>-0.075697</td>\n",
       "      <td>-0.061416</td>\n",
       "      <td>0.002949</td>\n",
       "      <td>-0.078112</td>\n",
       "      <td>-0.154759</td>\n",
       "      <td>0.031963</td>\n",
       "      <td>0.123898</td>\n",
       "      <td>0.121974</td>\n",
       "      <td>-0.050699</td>\n",
       "      <td>-0.056516</td>\n",
       "      <td>...</td>\n",
       "      <td>-0.022434</td>\n",
       "      <td>0.046007</td>\n",
       "      <td>-0.001206</td>\n",
       "      <td>1.000000</td>\n",
       "      <td>-0.484610</td>\n",
       "      <td>-0.180150</td>\n",
       "      <td>-0.066412</td>\n",
       "      <td>0.098841</td>\n",
       "      <td>0.066966</td>\n",
       "      <td>-0.069233</td>\n",
       "    </tr>\n",
       "    <tr>\n",
       "      <th>Stress_sometimes</th>\n",
       "      <td>-0.022117</td>\n",
       "      <td>0.056923</td>\n",
       "      <td>0.061077</td>\n",
       "      <td>-0.004805</td>\n",
       "      <td>-0.067959</td>\n",
       "      <td>-0.090858</td>\n",
       "      <td>0.030705</td>\n",
       "      <td>-0.025039</td>\n",
       "      <td>-0.012502</td>\n",
       "      <td>-0.095849</td>\n",
       "      <td>...</td>\n",
       "      <td>0.150611</td>\n",
       "      <td>-0.127256</td>\n",
       "      <td>0.065686</td>\n",
       "      <td>-0.484610</td>\n",
       "      <td>1.000000</td>\n",
       "      <td>-0.550678</td>\n",
       "      <td>0.137043</td>\n",
       "      <td>0.107730</td>\n",
       "      <td>-0.009895</td>\n",
       "      <td>-0.017066</td>\n",
       "    </tr>\n",
       "    <tr>\n",
       "      <th>Stress_very often</th>\n",
       "      <td>0.061680</td>\n",
       "      <td>-0.033260</td>\n",
       "      <td>-0.042938</td>\n",
       "      <td>-0.091548</td>\n",
       "      <td>0.119596</td>\n",
       "      <td>0.015219</td>\n",
       "      <td>-0.055455</td>\n",
       "      <td>-0.036408</td>\n",
       "      <td>-0.003013</td>\n",
       "      <td>0.027462</td>\n",
       "      <td>...</td>\n",
       "      <td>-0.092944</td>\n",
       "      <td>0.106131</td>\n",
       "      <td>-0.022485</td>\n",
       "      <td>-0.180150</td>\n",
       "      <td>-0.550678</td>\n",
       "      <td>1.000000</td>\n",
       "      <td>-0.075466</td>\n",
       "      <td>-0.093320</td>\n",
       "      <td>-0.018343</td>\n",
       "      <td>0.076320</td>\n",
       "    </tr>\n",
       "    <tr>\n",
       "      <th>BPLevel_low</th>\n",
       "      <td>-0.032421</td>\n",
       "      <td>0.032224</td>\n",
       "      <td>0.083842</td>\n",
       "      <td>-0.014413</td>\n",
       "      <td>-0.000112</td>\n",
       "      <td>-0.069343</td>\n",
       "      <td>0.054346</td>\n",
       "      <td>0.023693</td>\n",
       "      <td>0.006275</td>\n",
       "      <td>-0.095817</td>\n",
       "      <td>...</td>\n",
       "      <td>-0.010726</td>\n",
       "      <td>0.052507</td>\n",
       "      <td>-0.040486</td>\n",
       "      <td>-0.066412</td>\n",
       "      <td>0.137043</td>\n",
       "      <td>-0.075466</td>\n",
       "      <td>1.000000</td>\n",
       "      <td>-0.279102</td>\n",
       "      <td>-0.019537</td>\n",
       "      <td>-0.112134</td>\n",
       "    </tr>\n",
       "    <tr>\n",
       "      <th>BPLevel_normal</th>\n",
       "      <td>-0.150865</td>\n",
       "      <td>0.082450</td>\n",
       "      <td>0.102759</td>\n",
       "      <td>-0.041421</td>\n",
       "      <td>-0.254489</td>\n",
       "      <td>-0.310311</td>\n",
       "      <td>0.363072</td>\n",
       "      <td>-0.038475</td>\n",
       "      <td>-0.155759</td>\n",
       "      <td>-0.637088</td>\n",
       "      <td>...</td>\n",
       "      <td>-0.112558</td>\n",
       "      <td>0.101768</td>\n",
       "      <td>0.025875</td>\n",
       "      <td>0.098841</td>\n",
       "      <td>0.107730</td>\n",
       "      <td>-0.093320</td>\n",
       "      <td>-0.279102</td>\n",
       "      <td>1.000000</td>\n",
       "      <td>-0.048221</td>\n",
       "      <td>-0.048134</td>\n",
       "    </tr>\n",
       "    <tr>\n",
       "      <th>Pdiabetes_yes</th>\n",
       "      <td>0.069626</td>\n",
       "      <td>0.122379</td>\n",
       "      <td>0.044412</td>\n",
       "      <td>0.222013</td>\n",
       "      <td>0.087173</td>\n",
       "      <td>-0.011981</td>\n",
       "      <td>-0.065955</td>\n",
       "      <td>-0.142560</td>\n",
       "      <td>0.017430</td>\n",
       "      <td>0.083372</td>\n",
       "      <td>...</td>\n",
       "      <td>-0.064132</td>\n",
       "      <td>-0.059664</td>\n",
       "      <td>0.255451</td>\n",
       "      <td>0.066966</td>\n",
       "      <td>-0.009895</td>\n",
       "      <td>-0.018343</td>\n",
       "      <td>-0.019537</td>\n",
       "      <td>-0.048221</td>\n",
       "      <td>1.000000</td>\n",
       "      <td>-0.078745</td>\n",
       "    </tr>\n",
       "    <tr>\n",
       "      <th>UriationFreq_quite often</th>\n",
       "      <td>0.244939</td>\n",
       "      <td>-0.092448</td>\n",
       "      <td>-0.298473</td>\n",
       "      <td>-0.004924</td>\n",
       "      <td>-0.022225</td>\n",
       "      <td>0.114479</td>\n",
       "      <td>-0.053772</td>\n",
       "      <td>-0.209083</td>\n",
       "      <td>0.041542</td>\n",
       "      <td>0.095037</td>\n",
       "      <td>...</td>\n",
       "      <td>0.020326</td>\n",
       "      <td>0.010880</td>\n",
       "      <td>-0.120677</td>\n",
       "      <td>-0.069233</td>\n",
       "      <td>-0.017066</td>\n",
       "      <td>0.076320</td>\n",
       "      <td>-0.112134</td>\n",
       "      <td>-0.048134</td>\n",
       "      <td>-0.078745</td>\n",
       "      <td>1.000000</td>\n",
       "    </tr>\n",
       "  </tbody>\n",
       "</table>\n",
       "<p>26 rows × 26 columns</p>\n",
       "</div>"
      ],
      "text/plain": [
       "                                            BMI     Sleep  SoundSleep  \\\n",
       "BMI                                    1.000000 -0.090101   -0.329435   \n",
       "Sleep                                 -0.090101  1.000000    0.511992   \n",
       "SoundSleep                            -0.329435  0.511992    1.000000   \n",
       "Pregancies                            -0.076030  0.043543    0.127888   \n",
       "Age_50-59                              0.210675  0.039892   -0.111038   \n",
       "Age_60 or older                        0.022241 -0.134768    0.050786   \n",
       "Age_less than 40                      -0.245369  0.087892    0.018754   \n",
       "Gender_Male                           -0.065158 -0.083024    0.018963   \n",
       "Family_Diabetes_yes                    0.128787  0.077679    0.046006   \n",
       "highBP_yes                             0.173715 -0.056185   -0.136200   \n",
       "PhysicallyActive_more than half an hr  0.062692  0.073193   -0.096454   \n",
       "PhysicallyActive_none                 -0.180557  0.073185    0.271551   \n",
       "PhysicallyActive_one hr or more       -0.121780  0.014412    0.052563   \n",
       "Smoking_yes                            0.048077 -0.041015   -0.033440   \n",
       "Alcohol_yes                            0.066848 -0.034884    0.058965   \n",
       "RegularMedicine_yes                    0.187002 -0.044084   -0.110772   \n",
       "JunkFood_occasionally                  0.011065 -0.026574    0.041254   \n",
       "JunkFood_often                        -0.014960  0.014229    0.024432   \n",
       "JunkFood_very often                   -0.000702  0.022725   -0.020982   \n",
       "Stress_not at all                     -0.075697 -0.061416    0.002949   \n",
       "Stress_sometimes                      -0.022117  0.056923    0.061077   \n",
       "Stress_very often                      0.061680 -0.033260   -0.042938   \n",
       "BPLevel_low                           -0.032421  0.032224    0.083842   \n",
       "BPLevel_normal                        -0.150865  0.082450    0.102759   \n",
       "Pdiabetes_yes                          0.069626  0.122379    0.044412   \n",
       "UriationFreq_quite often               0.244939 -0.092448   -0.298473   \n",
       "\n",
       "                                       Pregancies  Age_50-59  Age_60 or older  \\\n",
       "BMI                                     -0.076030   0.210675         0.022241   \n",
       "Sleep                                    0.043543   0.039892        -0.134768   \n",
       "SoundSleep                               0.127888  -0.111038         0.050786   \n",
       "Pregancies                               1.000000   0.065719         0.137054   \n",
       "Age_50-59                                0.065719   1.000000        -0.186092   \n",
       "Age_60 or older                          0.137054  -0.186092         1.000000   \n",
       "Age_less than 40                        -0.193896  -0.450995        -0.418877   \n",
       "Gender_Male                             -0.502741  -0.043295         0.038874   \n",
       "Family_Diabetes_yes                      0.083472   0.004733         0.049602   \n",
       "highBP_yes                               0.029867   0.219019         0.262086   \n",
       "PhysicallyActive_more than half an hr   -0.089822  -0.084830        -0.055387   \n",
       "PhysicallyActive_none                    0.137586   0.013170         0.193971   \n",
       "PhysicallyActive_one hr or more          0.060415   0.026909        -0.154451   \n",
       "Smoking_yes                             -0.121765  -0.004663        -0.140310   \n",
       "Alcohol_yes                             -0.178057   0.040106         0.048364   \n",
       "RegularMedicine_yes                      0.197235   0.301774         0.332406   \n",
       "JunkFood_occasionally                    0.005985   0.102746         0.182357   \n",
       "JunkFood_often                           0.006762  -0.098388        -0.106879   \n",
       "JunkFood_very often                      0.060477   0.049682        -0.100912   \n",
       "Stress_not at all                       -0.078112  -0.154759         0.031963   \n",
       "Stress_sometimes                        -0.004805  -0.067959        -0.090858   \n",
       "Stress_very often                       -0.091548   0.119596         0.015219   \n",
       "BPLevel_low                             -0.014413  -0.000112        -0.069343   \n",
       "BPLevel_normal                          -0.041421  -0.254489        -0.310311   \n",
       "Pdiabetes_yes                            0.222013   0.087173        -0.011981   \n",
       "UriationFreq_quite often                -0.004924  -0.022225         0.114479   \n",
       "\n",
       "                                       Age_less than 40  Gender_Male  \\\n",
       "BMI                                           -0.245369    -0.065158   \n",
       "Sleep                                          0.087892    -0.083024   \n",
       "SoundSleep                                     0.018754     0.018963   \n",
       "Pregancies                                    -0.193896    -0.502741   \n",
       "Age_50-59                                     -0.450995    -0.043295   \n",
       "Age_60 or older                               -0.418877     0.038874   \n",
       "Age_less than 40                               1.000000     0.061363   \n",
       "Gender_Male                                    0.061363     1.000000   \n",
       "Family_Diabetes_yes                           -0.139670    -0.104540   \n",
       "highBP_yes                                    -0.342040     0.039012   \n",
       "PhysicallyActive_more than half an hr          0.130300     0.023017   \n",
       "PhysicallyActive_none                         -0.170671    -0.067586   \n",
       "PhysicallyActive_one hr or more                0.092843     0.035522   \n",
       "Smoking_yes                                    0.146361     0.277293   \n",
       "Alcohol_yes                                    0.041500     0.316646   \n",
       "RegularMedicine_yes                           -0.437757    -0.135829   \n",
       "JunkFood_occasionally                         -0.315492    -0.036049   \n",
       "JunkFood_often                                 0.267600     0.016768   \n",
       "JunkFood_very often                            0.017856    -0.027936   \n",
       "Stress_not at all                              0.123898     0.121974   \n",
       "Stress_sometimes                               0.030705    -0.025039   \n",
       "Stress_very often                             -0.055455    -0.036408   \n",
       "BPLevel_low                                    0.054346     0.023693   \n",
       "BPLevel_normal                                 0.363072    -0.038475   \n",
       "Pdiabetes_yes                                 -0.065955    -0.142560   \n",
       "UriationFreq_quite often                      -0.053772    -0.209083   \n",
       "\n",
       "                                       Family_Diabetes_yes  highBP_yes  ...  \\\n",
       "BMI                                               0.128787    0.173715  ...   \n",
       "Sleep                                             0.077679   -0.056185  ...   \n",
       "SoundSleep                                        0.046006   -0.136200  ...   \n",
       "Pregancies                                        0.083472    0.029867  ...   \n",
       "Age_50-59                                         0.004733    0.219019  ...   \n",
       "Age_60 or older                                   0.049602    0.262086  ...   \n",
       "Age_less than 40                                 -0.139670   -0.342040  ...   \n",
       "Gender_Male                                      -0.104540    0.039012  ...   \n",
       "Family_Diabetes_yes                               1.000000    0.108712  ...   \n",
       "highBP_yes                                        0.108712    1.000000  ...   \n",
       "PhysicallyActive_more than half an hr             0.077096    0.030002  ...   \n",
       "PhysicallyActive_none                             0.071264   -0.045483  ...   \n",
       "PhysicallyActive_one hr or more                  -0.033489   -0.086979  ...   \n",
       "Smoking_yes                                      -0.046903    0.012960  ...   \n",
       "Alcohol_yes                                       0.041358    0.115637  ...   \n",
       "RegularMedicine_yes                               0.191204    0.430978  ...   \n",
       "JunkFood_occasionally                            -0.051027    0.137181  ...   \n",
       "JunkFood_often                                    0.060091   -0.163493  ...   \n",
       "JunkFood_very often                               0.041956    0.073202  ...   \n",
       "Stress_not at all                                -0.050699   -0.056516  ...   \n",
       "Stress_sometimes                                 -0.012502   -0.095849  ...   \n",
       "Stress_very often                                -0.003013    0.027462  ...   \n",
       "BPLevel_low                                       0.006275   -0.095817  ...   \n",
       "BPLevel_normal                                   -0.155759   -0.637088  ...   \n",
       "Pdiabetes_yes                                     0.017430    0.083372  ...   \n",
       "UriationFreq_quite often                          0.041542    0.095037  ...   \n",
       "\n",
       "                                       JunkFood_occasionally  JunkFood_often  \\\n",
       "BMI                                                 0.011065       -0.014960   \n",
       "Sleep                                              -0.026574        0.014229   \n",
       "SoundSleep                                          0.041254        0.024432   \n",
       "Pregancies                                          0.005985        0.006762   \n",
       "Age_50-59                                           0.102746       -0.098388   \n",
       "Age_60 or older                                     0.182357       -0.106879   \n",
       "Age_less than 40                                   -0.315492        0.267600   \n",
       "Gender_Male                                        -0.036049        0.016768   \n",
       "Family_Diabetes_yes                                -0.051027        0.060091   \n",
       "highBP_yes                                          0.137181       -0.163493   \n",
       "PhysicallyActive_more than half an hr              -0.063922        0.087608   \n",
       "PhysicallyActive_none                               0.120144       -0.059199   \n",
       "PhysicallyActive_one hr or more                    -0.086890        0.016789   \n",
       "Smoking_yes                                        -0.208770        0.098062   \n",
       "Alcohol_yes                                        -0.081190        0.035478   \n",
       "RegularMedicine_yes                                 0.081037       -0.042144   \n",
       "JunkFood_occasionally                               1.000000       -0.771184   \n",
       "JunkFood_often                                     -0.771184        1.000000   \n",
       "JunkFood_very often                                -0.367482       -0.123642   \n",
       "Stress_not at all                                  -0.022434        0.046007   \n",
       "Stress_sometimes                                    0.150611       -0.127256   \n",
       "Stress_very often                                  -0.092944        0.106131   \n",
       "BPLevel_low                                        -0.010726        0.052507   \n",
       "BPLevel_normal                                     -0.112558        0.101768   \n",
       "Pdiabetes_yes                                      -0.064132       -0.059664   \n",
       "UriationFreq_quite often                            0.020326        0.010880   \n",
       "\n",
       "                                       JunkFood_very often  Stress_not at all  \\\n",
       "BMI                                              -0.000702          -0.075697   \n",
       "Sleep                                             0.022725          -0.061416   \n",
       "SoundSleep                                       -0.020982           0.002949   \n",
       "Pregancies                                        0.060477          -0.078112   \n",
       "Age_50-59                                         0.049682          -0.154759   \n",
       "Age_60 or older                                  -0.100912           0.031963   \n",
       "Age_less than 40                                  0.017856           0.123898   \n",
       "Gender_Male                                      -0.027936           0.121974   \n",
       "Family_Diabetes_yes                               0.041956          -0.050699   \n",
       "highBP_yes                                        0.073202          -0.056516   \n",
       "PhysicallyActive_more than half an hr             0.012855          -0.048139   \n",
       "PhysicallyActive_none                            -0.061599           0.012504   \n",
       "PhysicallyActive_one hr or more                   0.056350           0.003518   \n",
       "Smoking_yes                                       0.026341          -0.033291   \n",
       "Alcohol_yes                                       0.027231          -0.044572   \n",
       "RegularMedicine_yes                              -0.032146          -0.089667   \n",
       "JunkFood_occasionally                            -0.367482          -0.022434   \n",
       "JunkFood_often                                   -0.123642           0.046007   \n",
       "JunkFood_very often                               1.000000          -0.001206   \n",
       "Stress_not at all                                -0.001206           1.000000   \n",
       "Stress_sometimes                                  0.065686          -0.484610   \n",
       "Stress_very often                                -0.022485          -0.180150   \n",
       "BPLevel_low                                      -0.040486          -0.066412   \n",
       "BPLevel_normal                                    0.025875           0.098841   \n",
       "Pdiabetes_yes                                     0.255451           0.066966   \n",
       "UriationFreq_quite often                         -0.120677          -0.069233   \n",
       "\n",
       "                                       Stress_sometimes  Stress_very often  \\\n",
       "BMI                                           -0.022117           0.061680   \n",
       "Sleep                                          0.056923          -0.033260   \n",
       "SoundSleep                                     0.061077          -0.042938   \n",
       "Pregancies                                    -0.004805          -0.091548   \n",
       "Age_50-59                                     -0.067959           0.119596   \n",
       "Age_60 or older                               -0.090858           0.015219   \n",
       "Age_less than 40                               0.030705          -0.055455   \n",
       "Gender_Male                                   -0.025039          -0.036408   \n",
       "Family_Diabetes_yes                           -0.012502          -0.003013   \n",
       "highBP_yes                                    -0.095849           0.027462   \n",
       "PhysicallyActive_more than half an hr          0.139913          -0.089144   \n",
       "PhysicallyActive_none                         -0.050064          -0.013077   \n",
       "PhysicallyActive_one hr or more               -0.030339          -0.025410   \n",
       "Smoking_yes                                   -0.167922           0.151249   \n",
       "Alcohol_yes                                   -0.159895           0.136220   \n",
       "RegularMedicine_yes                           -0.161363           0.085188   \n",
       "JunkFood_occasionally                          0.150611          -0.092944   \n",
       "JunkFood_often                                -0.127256           0.106131   \n",
       "JunkFood_very often                            0.065686          -0.022485   \n",
       "Stress_not at all                             -0.484610          -0.180150   \n",
       "Stress_sometimes                               1.000000          -0.550678   \n",
       "Stress_very often                             -0.550678           1.000000   \n",
       "BPLevel_low                                    0.137043          -0.075466   \n",
       "BPLevel_normal                                 0.107730          -0.093320   \n",
       "Pdiabetes_yes                                 -0.009895          -0.018343   \n",
       "UriationFreq_quite often                      -0.017066           0.076320   \n",
       "\n",
       "                                       BPLevel_low  BPLevel_normal  \\\n",
       "BMI                                      -0.032421       -0.150865   \n",
       "Sleep                                     0.032224        0.082450   \n",
       "SoundSleep                                0.083842        0.102759   \n",
       "Pregancies                               -0.014413       -0.041421   \n",
       "Age_50-59                                -0.000112       -0.254489   \n",
       "Age_60 or older                          -0.069343       -0.310311   \n",
       "Age_less than 40                          0.054346        0.363072   \n",
       "Gender_Male                               0.023693       -0.038475   \n",
       "Family_Diabetes_yes                       0.006275       -0.155759   \n",
       "highBP_yes                               -0.095817       -0.637088   \n",
       "PhysicallyActive_more than half an hr    -0.060820       -0.000806   \n",
       "PhysicallyActive_none                    -0.068094        0.039036   \n",
       "PhysicallyActive_one hr or more          -0.024048        0.111975   \n",
       "Smoking_yes                              -0.056293       -0.046270   \n",
       "Alcohol_yes                              -0.083006       -0.139238   \n",
       "RegularMedicine_yes                      -0.067458       -0.354406   \n",
       "JunkFood_occasionally                    -0.010726       -0.112558   \n",
       "JunkFood_often                            0.052507        0.101768   \n",
       "JunkFood_very often                      -0.040486        0.025875   \n",
       "Stress_not at all                        -0.066412        0.098841   \n",
       "Stress_sometimes                          0.137043        0.107730   \n",
       "Stress_very often                        -0.075466       -0.093320   \n",
       "BPLevel_low                               1.000000       -0.279102   \n",
       "BPLevel_normal                           -0.279102        1.000000   \n",
       "Pdiabetes_yes                            -0.019537       -0.048221   \n",
       "UriationFreq_quite often                 -0.112134       -0.048134   \n",
       "\n",
       "                                       Pdiabetes_yes  UriationFreq_quite often  \n",
       "BMI                                         0.069626                  0.244939  \n",
       "Sleep                                       0.122379                 -0.092448  \n",
       "SoundSleep                                  0.044412                 -0.298473  \n",
       "Pregancies                                  0.222013                 -0.004924  \n",
       "Age_50-59                                   0.087173                 -0.022225  \n",
       "Age_60 or older                            -0.011981                  0.114479  \n",
       "Age_less than 40                           -0.065955                 -0.053772  \n",
       "Gender_Male                                -0.142560                 -0.209083  \n",
       "Family_Diabetes_yes                         0.017430                  0.041542  \n",
       "highBP_yes                                  0.083372                  0.095037  \n",
       "PhysicallyActive_more than half an hr       0.044861                  0.089943  \n",
       "PhysicallyActive_none                      -0.047818                 -0.144522  \n",
       "PhysicallyActive_one hr or more            -0.032420                 -0.147318  \n",
       "Smoking_yes                                -0.039531                 -0.033947  \n",
       "Alcohol_yes                                -0.058290                 -0.122859  \n",
       "RegularMedicine_yes                         0.047474                  0.150757  \n",
       "JunkFood_occasionally                      -0.064132                  0.020326  \n",
       "JunkFood_often                             -0.059664                  0.010880  \n",
       "JunkFood_very often                         0.255451                 -0.120677  \n",
       "Stress_not at all                           0.066966                 -0.069233  \n",
       "Stress_sometimes                           -0.009895                 -0.017066  \n",
       "Stress_very often                          -0.018343                  0.076320  \n",
       "BPLevel_low                                -0.019537                 -0.112134  \n",
       "BPLevel_normal                             -0.048221                 -0.048134  \n",
       "Pdiabetes_yes                               1.000000                 -0.078745  \n",
       "UriationFreq_quite often                   -0.078745                  1.000000  \n",
       "\n",
       "[26 rows x 26 columns]"
      ]
     },
     "execution_count": 285,
     "metadata": {},
     "output_type": "execute_result"
    }
   ],
   "source": [
    "#Vrificando a correlação de variáveis\n",
    "corr = X_tr_encoded.corr(method='spearman')\n",
    "corr"
   ]
  },
  {
   "cell_type": "markdown",
   "id": "ba85b125",
   "metadata": {},
   "source": [
    "### A visualização em números fica dificultada, então usaremos mapas de correlação"
   ]
  },
  {
   "cell_type": "code",
   "execution_count": 286,
   "id": "8bb4df54",
   "metadata": {},
   "outputs": [
    {
     "data": {
      "text/plain": [
       "<matplotlib.colorbar.Colorbar at 0x237fbb5e090>"
      ]
     },
     "execution_count": 286,
     "metadata": {},
     "output_type": "execute_result"
    },
    {
     "data": {
      "image/png": "[encoded data removed]",
      "text/plain": [
       "<Figure size 1000x800 with 2 Axes>"
      ]
     },
     "metadata": {},
     "output_type": "display_data"
    }
   ],
   "source": [
    "plt.figure(figsize=(10,8))\n",
    "plt.pcolormesh(corr, vmin=-1, vmax=1, cmap='seismic_r')\n",
    "plt.xticks(np.arange(corr.shape[1])+.5, corr.columns,rotation=90)\n",
    "plt.yticks(np.arange(corr.shape[1])+.5, corr.index,rotation=0)\n",
    "plt.colorbar()"
   ]
  },
  {
   "cell_type": "markdown",
   "id": "a2d39842",
   "metadata": {},
   "source": [
    "#### A execução completa deste código, a lista \"correlated\" conterá todos os pares de variáveis que têm uma correlação maior do que 0,7. Isso pode ser útil para identificar variáveis que estão fortemente relacionadas em um conjunto de dados, o que pode afetar análises e modelagem de dados. O código finalmente retorna a lista \"correlated\" que contém esses pares de variáveis."
   ]
  },
  {
   "cell_type": "code",
   "execution_count": 287,
   "id": "58cbb1a0",
   "metadata": {},
   "outputs": [
    {
     "data": {
      "text/plain": [
       "[['JunkFood_occasionally', 'JunkFood_often']]"
      ]
     },
     "execution_count": 287,
     "metadata": {},
     "output_type": "execute_result"
    }
   ],
   "source": [
    "# Buscando variáveis que são altamente correlacionadas a nivel maior que 70 %\n",
    "\n",
    "correlated = []\n",
    "for num,cat in enumerate(corr.index):\n",
    "    series = corr.loc[cat].iloc[num+1:]\n",
    "    cols = series.loc[ series.abs()>0.7 ].index\n",
    "    for col in cols:\n",
    "        correlated.append([cat,col])\n",
    "correlated"
   ]
  },
  {
   "cell_type": "markdown",
   "id": "8419f484",
   "metadata": {},
   "source": [
    "Essa duas variáveis são altamente correlacionadas e podem prejudicar o modelo, sendo assim é necessãrio a exclusão"
   ]
  },
  {
   "cell_type": "markdown",
   "id": "5f080014",
   "metadata": {},
   "source": [
    "#### Após o loop, o código retorna a lista \"drops\", que contém os nomes das variáveis a serem descartadas, ou seja, as variáveis que não são consideradas importantes em relação ao problema de classificação.\n",
    "#### Este código é útil para selecionar variáveis mais relevantes em um problema de classificação, mantendo aquelas que têm uma importância mútua maior em relação à variável de destino e descartando as menos importantes, especialmente quando há multicolinearidade entre variáveis altamente correlacionadas."
   ]
  },
  {
   "cell_type": "code",
   "execution_count": 288,
   "id": "365f115b",
   "metadata": {},
   "outputs": [
    {
     "data": {
      "text/plain": [
       "['JunkFood_often']"
      ]
     },
     "execution_count": 288,
     "metadata": {},
     "output_type": "execute_result"
    }
   ],
   "source": [
    "# dropando a variável(s) não importante para o modelo segundo critérios da multicolinearidade \n",
    "from sklearn.feature_selection import mutual_info_classif\n",
    "drops = []\n",
    "for col1, col2 in correlated:\n",
    "    info1, info2 = mutual_info_classif(X_tr_encoded[[col1,col2]],y_tr)\n",
    "    if info1 > info2:\n",
    "        drops.append( col2 )\n",
    "    else:\n",
    "        drops.append( col1 )\n",
    "drops"
   ]
  },
  {
   "cell_type": "code",
   "execution_count": 289,
   "id": "c1220446",
   "metadata": {},
   "outputs": [
    {
     "data": {
      "text/html": [
       "<div>\n",
       "<style scoped>\n",
       "    .dataframe tbody tr th:only-of-type {\n",
       "        vertical-align: middle;\n",
       "    }\n",
       "\n",
       "    .dataframe tbody tr th {\n",
       "        vertical-align: top;\n",
       "    }\n",
       "\n",
       "    .dataframe thead th {\n",
       "        text-align: right;\n",
       "    }\n",
       "</style>\n",
       "<table border=\"1\" class=\"dataframe\">\n",
       "  <thead>\n",
       "    <tr style=\"text-align: right;\">\n",
       "      <th></th>\n",
       "      <th>BMI</th>\n",
       "      <th>Sleep</th>\n",
       "      <th>SoundSleep</th>\n",
       "      <th>Pregancies</th>\n",
       "      <th>Age_50-59</th>\n",
       "      <th>Age_60 or older</th>\n",
       "      <th>Age_less than 40</th>\n",
       "      <th>Gender_Male</th>\n",
       "      <th>Family_Diabetes_yes</th>\n",
       "      <th>highBP_yes</th>\n",
       "      <th>...</th>\n",
       "      <th>RegularMedicine_yes</th>\n",
       "      <th>JunkFood_occasionally</th>\n",
       "      <th>JunkFood_very often</th>\n",
       "      <th>Stress_not at all</th>\n",
       "      <th>Stress_sometimes</th>\n",
       "      <th>Stress_very often</th>\n",
       "      <th>BPLevel_low</th>\n",
       "      <th>BPLevel_normal</th>\n",
       "      <th>Pdiabetes_yes</th>\n",
       "      <th>UriationFreq_quite often</th>\n",
       "    </tr>\n",
       "  </thead>\n",
       "  <tbody>\n",
       "    <tr>\n",
       "      <th>260</th>\n",
       "      <td>24.0</td>\n",
       "      <td>4</td>\n",
       "      <td>4</td>\n",
       "      <td>3.0</td>\n",
       "      <td>0.0</td>\n",
       "      <td>0.0</td>\n",
       "      <td>1.0</td>\n",
       "      <td>0.0</td>\n",
       "      <td>1.0</td>\n",
       "      <td>0.0</td>\n",
       "      <td>...</td>\n",
       "      <td>1.0</td>\n",
       "      <td>0.0</td>\n",
       "      <td>0.0</td>\n",
       "      <td>0.0</td>\n",
       "      <td>0.0</td>\n",
       "      <td>0.0</td>\n",
       "      <td>0.0</td>\n",
       "      <td>1.0</td>\n",
       "      <td>0.0</td>\n",
       "      <td>0.0</td>\n",
       "    </tr>\n",
       "    <tr>\n",
       "      <th>643</th>\n",
       "      <td>33.0</td>\n",
       "      <td>7</td>\n",
       "      <td>4</td>\n",
       "      <td>0.0</td>\n",
       "      <td>0.0</td>\n",
       "      <td>0.0</td>\n",
       "      <td>1.0</td>\n",
       "      <td>0.0</td>\n",
       "      <td>0.0</td>\n",
       "      <td>0.0</td>\n",
       "      <td>...</td>\n",
       "      <td>0.0</td>\n",
       "      <td>0.0</td>\n",
       "      <td>0.0</td>\n",
       "      <td>1.0</td>\n",
       "      <td>0.0</td>\n",
       "      <td>0.0</td>\n",
       "      <td>0.0</td>\n",
       "      <td>1.0</td>\n",
       "      <td>0.0</td>\n",
       "      <td>1.0</td>\n",
       "    </tr>\n",
       "    <tr>\n",
       "      <th>97</th>\n",
       "      <td>24.0</td>\n",
       "      <td>8</td>\n",
       "      <td>5</td>\n",
       "      <td>0.0</td>\n",
       "      <td>0.0</td>\n",
       "      <td>0.0</td>\n",
       "      <td>1.0</td>\n",
       "      <td>1.0</td>\n",
       "      <td>0.0</td>\n",
       "      <td>0.0</td>\n",
       "      <td>...</td>\n",
       "      <td>0.0</td>\n",
       "      <td>0.0</td>\n",
       "      <td>0.0</td>\n",
       "      <td>1.0</td>\n",
       "      <td>0.0</td>\n",
       "      <td>0.0</td>\n",
       "      <td>0.0</td>\n",
       "      <td>1.0</td>\n",
       "      <td>0.0</td>\n",
       "      <td>0.0</td>\n",
       "    </tr>\n",
       "    <tr>\n",
       "      <th>392</th>\n",
       "      <td>33.0</td>\n",
       "      <td>7</td>\n",
       "      <td>5</td>\n",
       "      <td>0.0</td>\n",
       "      <td>1.0</td>\n",
       "      <td>0.0</td>\n",
       "      <td>0.0</td>\n",
       "      <td>0.0</td>\n",
       "      <td>0.0</td>\n",
       "      <td>0.0</td>\n",
       "      <td>...</td>\n",
       "      <td>1.0</td>\n",
       "      <td>1.0</td>\n",
       "      <td>0.0</td>\n",
       "      <td>0.0</td>\n",
       "      <td>1.0</td>\n",
       "      <td>0.0</td>\n",
       "      <td>0.0</td>\n",
       "      <td>1.0</td>\n",
       "      <td>0.0</td>\n",
       "      <td>1.0</td>\n",
       "    </tr>\n",
       "    <tr>\n",
       "      <th>258</th>\n",
       "      <td>30.0</td>\n",
       "      <td>9</td>\n",
       "      <td>8</td>\n",
       "      <td>0.0</td>\n",
       "      <td>0.0</td>\n",
       "      <td>0.0</td>\n",
       "      <td>1.0</td>\n",
       "      <td>1.0</td>\n",
       "      <td>1.0</td>\n",
       "      <td>0.0</td>\n",
       "      <td>...</td>\n",
       "      <td>0.0</td>\n",
       "      <td>1.0</td>\n",
       "      <td>0.0</td>\n",
       "      <td>0.0</td>\n",
       "      <td>1.0</td>\n",
       "      <td>0.0</td>\n",
       "      <td>0.0</td>\n",
       "      <td>1.0</td>\n",
       "      <td>0.0</td>\n",
       "      <td>0.0</td>\n",
       "    </tr>\n",
       "    <tr>\n",
       "      <th>...</th>\n",
       "      <td>...</td>\n",
       "      <td>...</td>\n",
       "      <td>...</td>\n",
       "      <td>...</td>\n",
       "      <td>...</td>\n",
       "      <td>...</td>\n",
       "      <td>...</td>\n",
       "      <td>...</td>\n",
       "      <td>...</td>\n",
       "      <td>...</td>\n",
       "      <td>...</td>\n",
       "      <td>...</td>\n",
       "      <td>...</td>\n",
       "      <td>...</td>\n",
       "      <td>...</td>\n",
       "      <td>...</td>\n",
       "      <td>...</td>\n",
       "      <td>...</td>\n",
       "      <td>...</td>\n",
       "      <td>...</td>\n",
       "      <td>...</td>\n",
       "    </tr>\n",
       "    <tr>\n",
       "      <th>743</th>\n",
       "      <td>18.0</td>\n",
       "      <td>6</td>\n",
       "      <td>6</td>\n",
       "      <td>3.0</td>\n",
       "      <td>0.0</td>\n",
       "      <td>1.0</td>\n",
       "      <td>0.0</td>\n",
       "      <td>0.0</td>\n",
       "      <td>0.0</td>\n",
       "      <td>0.0</td>\n",
       "      <td>...</td>\n",
       "      <td>1.0</td>\n",
       "      <td>1.0</td>\n",
       "      <td>0.0</td>\n",
       "      <td>0.0</td>\n",
       "      <td>1.0</td>\n",
       "      <td>0.0</td>\n",
       "      <td>0.0</td>\n",
       "      <td>1.0</td>\n",
       "      <td>0.0</td>\n",
       "      <td>1.0</td>\n",
       "    </tr>\n",
       "    <tr>\n",
       "      <th>529</th>\n",
       "      <td>26.0</td>\n",
       "      <td>8</td>\n",
       "      <td>6</td>\n",
       "      <td>0.0</td>\n",
       "      <td>0.0</td>\n",
       "      <td>0.0</td>\n",
       "      <td>1.0</td>\n",
       "      <td>1.0</td>\n",
       "      <td>0.0</td>\n",
       "      <td>0.0</td>\n",
       "      <td>...</td>\n",
       "      <td>0.0</td>\n",
       "      <td>1.0</td>\n",
       "      <td>0.0</td>\n",
       "      <td>0.0</td>\n",
       "      <td>1.0</td>\n",
       "      <td>0.0</td>\n",
       "      <td>0.0</td>\n",
       "      <td>1.0</td>\n",
       "      <td>0.0</td>\n",
       "      <td>0.0</td>\n",
       "    </tr>\n",
       "    <tr>\n",
       "      <th>74</th>\n",
       "      <td>31.0</td>\n",
       "      <td>7</td>\n",
       "      <td>6</td>\n",
       "      <td>0.0</td>\n",
       "      <td>1.0</td>\n",
       "      <td>0.0</td>\n",
       "      <td>0.0</td>\n",
       "      <td>1.0</td>\n",
       "      <td>1.0</td>\n",
       "      <td>1.0</td>\n",
       "      <td>...</td>\n",
       "      <td>1.0</td>\n",
       "      <td>1.0</td>\n",
       "      <td>0.0</td>\n",
       "      <td>0.0</td>\n",
       "      <td>0.0</td>\n",
       "      <td>0.0</td>\n",
       "      <td>0.0</td>\n",
       "      <td>0.0</td>\n",
       "      <td>0.0</td>\n",
       "      <td>0.0</td>\n",
       "    </tr>\n",
       "    <tr>\n",
       "      <th>177</th>\n",
       "      <td>33.0</td>\n",
       "      <td>8</td>\n",
       "      <td>3</td>\n",
       "      <td>0.0</td>\n",
       "      <td>0.0</td>\n",
       "      <td>0.0</td>\n",
       "      <td>1.0</td>\n",
       "      <td>1.0</td>\n",
       "      <td>0.0</td>\n",
       "      <td>0.0</td>\n",
       "      <td>...</td>\n",
       "      <td>0.0</td>\n",
       "      <td>0.0</td>\n",
       "      <td>0.0</td>\n",
       "      <td>0.0</td>\n",
       "      <td>1.0</td>\n",
       "      <td>0.0</td>\n",
       "      <td>0.0</td>\n",
       "      <td>1.0</td>\n",
       "      <td>0.0</td>\n",
       "      <td>1.0</td>\n",
       "    </tr>\n",
       "    <tr>\n",
       "      <th>339</th>\n",
       "      <td>26.0</td>\n",
       "      <td>8</td>\n",
       "      <td>6</td>\n",
       "      <td>0.0</td>\n",
       "      <td>0.0</td>\n",
       "      <td>0.0</td>\n",
       "      <td>1.0</td>\n",
       "      <td>0.0</td>\n",
       "      <td>0.0</td>\n",
       "      <td>0.0</td>\n",
       "      <td>...</td>\n",
       "      <td>0.0</td>\n",
       "      <td>1.0</td>\n",
       "      <td>0.0</td>\n",
       "      <td>0.0</td>\n",
       "      <td>1.0</td>\n",
       "      <td>0.0</td>\n",
       "      <td>1.0</td>\n",
       "      <td>0.0</td>\n",
       "      <td>0.0</td>\n",
       "      <td>0.0</td>\n",
       "    </tr>\n",
       "  </tbody>\n",
       "</table>\n",
       "<p>665 rows × 25 columns</p>\n",
       "</div>"
      ],
      "text/plain": [
       "      BMI  Sleep  SoundSleep  Pregancies  Age_50-59  Age_60 or older  \\\n",
       "260  24.0      4           4         3.0        0.0              0.0   \n",
       "643  33.0      7           4         0.0        0.0              0.0   \n",
       "97   24.0      8           5         0.0        0.0              0.0   \n",
       "392  33.0      7           5         0.0        1.0              0.0   \n",
       "258  30.0      9           8         0.0        0.0              0.0   \n",
       "..    ...    ...         ...         ...        ...              ...   \n",
       "743  18.0      6           6         3.0        0.0              1.0   \n",
       "529  26.0      8           6         0.0        0.0              0.0   \n",
       "74   31.0      7           6         0.0        1.0              0.0   \n",
       "177  33.0      8           3         0.0        0.0              0.0   \n",
       "339  26.0      8           6         0.0        0.0              0.0   \n",
       "\n",
       "     Age_less than 40  Gender_Male  Family_Diabetes_yes  highBP_yes  ...  \\\n",
       "260               1.0          0.0                  1.0         0.0  ...   \n",
       "643               1.0          0.0                  0.0         0.0  ...   \n",
       "97                1.0          1.0                  0.0         0.0  ...   \n",
       "392               0.0          0.0                  0.0         0.0  ...   \n",
       "258               1.0          1.0                  1.0         0.0  ...   \n",
       "..                ...          ...                  ...         ...  ...   \n",
       "743               0.0          0.0                  0.0         0.0  ...   \n",
       "529               1.0          1.0                  0.0         0.0  ...   \n",
       "74                0.0          1.0                  1.0         1.0  ...   \n",
       "177               1.0          1.0                  0.0         0.0  ...   \n",
       "339               1.0          0.0                  0.0         0.0  ...   \n",
       "\n",
       "     RegularMedicine_yes  JunkFood_occasionally  JunkFood_very often  \\\n",
       "260                  1.0                    0.0                  0.0   \n",
       "643                  0.0                    0.0                  0.0   \n",
       "97                   0.0                    0.0                  0.0   \n",
       "392                  1.0                    1.0                  0.0   \n",
       "258                  0.0                    1.0                  0.0   \n",
       "..                   ...                    ...                  ...   \n",
       "743                  1.0                    1.0                  0.0   \n",
       "529                  0.0                    1.0                  0.0   \n",
       "74                   1.0                    1.0                  0.0   \n",
       "177                  0.0                    0.0                  0.0   \n",
       "339                  0.0                    1.0                  0.0   \n",
       "\n",
       "     Stress_not at all  Stress_sometimes  Stress_very often  BPLevel_low  \\\n",
       "260                0.0               0.0                0.0          0.0   \n",
       "643                1.0               0.0                0.0          0.0   \n",
       "97                 1.0               0.0                0.0          0.0   \n",
       "392                0.0               1.0                0.0          0.0   \n",
       "258                0.0               1.0                0.0          0.0   \n",
       "..                 ...               ...                ...          ...   \n",
       "743                0.0               1.0                0.0          0.0   \n",
       "529                0.0               1.0                0.0          0.0   \n",
       "74                 0.0               0.0                0.0          0.0   \n",
       "177                0.0               1.0                0.0          0.0   \n",
       "339                0.0               1.0                0.0          1.0   \n",
       "\n",
       "     BPLevel_normal  Pdiabetes_yes  UriationFreq_quite often  \n",
       "260             1.0            0.0                       0.0  \n",
       "643             1.0            0.0                       1.0  \n",
       "97              1.0            0.0                       0.0  \n",
       "392             1.0            0.0                       1.0  \n",
       "258             1.0            0.0                       0.0  \n",
       "..              ...            ...                       ...  \n",
       "743             1.0            0.0                       1.0  \n",
       "529             1.0            0.0                       0.0  \n",
       "74              0.0            0.0                       0.0  \n",
       "177             1.0            0.0                       1.0  \n",
       "339             0.0            0.0                       0.0  \n",
       "\n",
       "[665 rows x 25 columns]"
      ]
     },
     "execution_count": 289,
     "metadata": {},
     "output_type": "execute_result"
    }
   ],
   "source": [
    "# Criando os dados de treino e teste dropando as variaveis correlacionadas\n",
    "X_tr_encoded_drop = X_tr_encoded.drop(drops,axis=1)\n",
    "X_ts_encoded_drop = X_ts_encoded.drop(drops,axis=1)\n",
    "X_tr_encoded_drop"
   ]
  },
  {
   "cell_type": "markdown",
   "id": "4a8242e4",
   "metadata": {},
   "source": [
    "Temos os dados de treino e teste sem as variáveis altamente correlacionadas"
   ]
  },
  {
   "cell_type": "markdown",
   "id": "718e25e8",
   "metadata": {},
   "source": [
    "#### O LogisticRegressionCV serve  para treinar um modelo de regressão logística com validação cruzada incorporada para selecionar o valor ideal do hiperparâmetro de regularização C. Isso é útil para tarefas de classificação onde você deseja um modelo de regressão logística e deseja otimizar a regularização para obter o melhor desempenho do modelo.\n",
    "\n",
    "\n",
    "\n",
    "\n",
    "\n"
   ]
  },
  {
   "cell_type": "markdown",
   "id": "3f4c2f0d",
   "metadata": {},
   "source": [
    "LogisticRegressionCV: Esta é a classe do modelo de regressão logística com validação cruzada incorporada. Isso significa que o modelo ajusta a regularização automaticamente através da validação cruzada, selecionando o melhor valor do hiperparâmetro C, que controla a força da regularização.\n",
    "\n",
    "Cs=100: O argumento Cs é o conjunto de valores para o hiperparâmetro C que o modelo vai considerar durante a validação cruzada. Neste caso, Cs é configurado com 100 valores, o que significa que o modelo avaliará 100 valores diferentes de C para determinar o melhor.\n",
    "\n",
    "penalty='l1': O argumento penalty define o tipo de regularização a ser aplicada. 'l1' indica regularização L1 (também conhecida como regularização Lasso), que ajuda a selecionar recursos importantes ao forçar alguns coeficientes a zero.\n",
    "\n",
    "random_state=13: O argumento random_state define a semente do gerador de números aleatórios. Isso garante que o modelo seja reproduzível, ou seja, ele dará os mesmos resultados sempre que for treinado com os mesmos dados.\n",
    "\n",
    "solver='saga': O argumento solver especifica o algoritmo a ser usado para otimizar a função de custo da regressão logística. 'saga' é um dos solucionadores disponíveis no Scikit-Learn que é adequado para problemas com regularização L1.\n",
    "\n",
    "max_iter=20_000: O argumento max_iter define o número máximo de iterações que o otimizador utilizará para ajustar o modelo. Neste caso, o limite máximo é definido em 20.000 iterações.\n",
    "\n",
    "\n",
    "\n",
    "\n",
    "\n",
    "\n",
    "\n"
   ]
  },
  {
   "cell_type": "markdown",
   "id": "b364d03f",
   "metadata": {},
   "source": [
    "### Nota: \n",
    "\n",
    "Lembre-se que como não reescalamos as variáveis numéricas, seus $\\beta$ não são comparáveis: \n",
    " - eles podem ser pequenos se a variável tem uma escala grande!"
   ]
  },
  {
   "cell_type": "code",
   "execution_count": 301,
   "id": "fc65c7c0",
   "metadata": {},
   "outputs": [],
   "source": [
    "from sklearn.linear_model import LogisticRegressionCV\n",
    "\n",
    "#criando o modelo\n",
    "\n",
    "clf = LogisticRegressionCV(Cs=100, penalty='l1',random_state=13, solver='saga', max_iter=20_000)"
   ]
  },
  {
   "cell_type": "code",
   "execution_count": 302,
   "id": "44e76f31",
   "metadata": {},
   "outputs": [
    {
     "data": {
      "text/html": [
       "<style>#sk-container-id-8 {color: black;}#sk-container-id-8 pre{padding: 0;}#sk-container-id-8 div.sk-toggleable {background-color: white;}#sk-container-id-8 label.sk-toggleable__label {cursor: pointer;display: block;width: 100%;margin-bottom: 0;padding: 0.3em;box-sizing: border-box;text-align: center;}#sk-container-id-8 label.sk-toggleable__label-arrow:before {content: \"▸\";float: left;margin-right: 0.25em;color: #696969;}#sk-container-id-8 label.sk-toggleable__label-arrow:hover:before {color: black;}#sk-container-id-8 div.sk-estimator:hover label.sk-toggleable__label-arrow:before {color: black;}#sk-container-id-8 div.sk-toggleable__content {max-height: 0;max-width: 0;overflow: hidden;text-align: left;background-color: #f0f8ff;}#sk-container-id-8 div.sk-toggleable__content pre {margin: 0.2em;color: black;border-radius: 0.25em;background-color: #f0f8ff;}#sk-container-id-8 input.sk-toggleable__control:checked~div.sk-toggleable__content {max-height: 200px;max-width: 100%;overflow: auto;}#sk-container-id-8 input.sk-toggleable__control:checked~label.sk-toggleable__label-arrow:before {content: \"▾\";}#sk-container-id-8 div.sk-estimator input.sk-toggleable__control:checked~label.sk-toggleable__label {background-color: #d4ebff;}#sk-container-id-8 div.sk-label input.sk-toggleable__control:checked~label.sk-toggleable__label {background-color: #d4ebff;}#sk-container-id-8 input.sk-hidden--visually {border: 0;clip: rect(1px 1px 1px 1px);clip: rect(1px, 1px, 1px, 1px);height: 1px;margin: -1px;overflow: hidden;padding: 0;position: absolute;width: 1px;}#sk-container-id-8 div.sk-estimator {font-family: monospace;background-color: #f0f8ff;border: 1px dotted black;border-radius: 0.25em;box-sizing: border-box;margin-bottom: 0.5em;}#sk-container-id-8 div.sk-estimator:hover {background-color: #d4ebff;}#sk-container-id-8 div.sk-parallel-item::after {content: \"\";width: 100%;border-bottom: 1px solid gray;flex-grow: 1;}#sk-container-id-8 div.sk-label:hover label.sk-toggleable__label {background-color: #d4ebff;}#sk-container-id-8 div.sk-serial::before {content: \"\";position: absolute;border-left: 1px solid gray;box-sizing: border-box;top: 0;bottom: 0;left: 50%;z-index: 0;}#sk-container-id-8 div.sk-serial {display: flex;flex-direction: column;align-items: center;background-color: white;padding-right: 0.2em;padding-left: 0.2em;position: relative;}#sk-container-id-8 div.sk-item {position: relative;z-index: 1;}#sk-container-id-8 div.sk-parallel {display: flex;align-items: stretch;justify-content: center;background-color: white;position: relative;}#sk-container-id-8 div.sk-item::before, #sk-container-id-8 div.sk-parallel-item::before {content: \"\";position: absolute;border-left: 1px solid gray;box-sizing: border-box;top: 0;bottom: 0;left: 50%;z-index: -1;}#sk-container-id-8 div.sk-parallel-item {display: flex;flex-direction: column;z-index: 1;position: relative;background-color: white;}#sk-container-id-8 div.sk-parallel-item:first-child::after {align-self: flex-end;width: 50%;}#sk-container-id-8 div.sk-parallel-item:last-child::after {align-self: flex-start;width: 50%;}#sk-container-id-8 div.sk-parallel-item:only-child::after {width: 0;}#sk-container-id-8 div.sk-dashed-wrapped {border: 1px dashed gray;margin: 0 0.4em 0.5em 0.4em;box-sizing: border-box;padding-bottom: 0.4em;background-color: white;}#sk-container-id-8 div.sk-label label {font-family: monospace;font-weight: bold;display: inline-block;line-height: 1.2em;}#sk-container-id-8 div.sk-label-container {text-align: center;}#sk-container-id-8 div.sk-container {/* jupyter's `normalize.less` sets `[hidden] { display: none; }` but bootstrap.min.css set `[hidden] { display: none !important; }` so we also need the `!important` here to be able to override the default hidden behavior on the sphinx rendered scikit-learn.org. See: https://github.com/scikit-learn/scikit-learn/issues/21755 */display: inline-block !important;position: relative;}#sk-container-id-8 div.sk-text-repr-fallback {display: none;}</style><div id=\"sk-container-id-8\" class=\"sk-top-container\"><div class=\"sk-text-repr-fallback\"><pre>LogisticRegressionCV(Cs=100, max_iter=20000, penalty=&#x27;l1&#x27;, random_state=13,\n",
       "                     solver=&#x27;saga&#x27;)</pre><b>In a Jupyter environment, please rerun this cell to show the HTML representation or trust the notebook. <br />On GitHub, the HTML representation is unable to render, please try loading this page with nbviewer.org.</b></div><div class=\"sk-container\" hidden><div class=\"sk-item\"><div class=\"sk-estimator sk-toggleable\"><input class=\"sk-toggleable__control sk-hidden--visually\" id=\"sk-estimator-id-8\" type=\"checkbox\" checked><label for=\"sk-estimator-id-8\" class=\"sk-toggleable__label sk-toggleable__label-arrow\">LogisticRegressionCV</label><div class=\"sk-toggleable__content\"><pre>LogisticRegressionCV(Cs=100, max_iter=20000, penalty=&#x27;l1&#x27;, random_state=13,\n",
       "                     solver=&#x27;saga&#x27;)</pre></div></div></div></div></div>"
      ],
      "text/plain": [
       "LogisticRegressionCV(Cs=100, max_iter=20000, penalty='l1', random_state=13,\n",
       "                     solver='saga')"
      ]
     },
     "execution_count": 302,
     "metadata": {},
     "output_type": "execute_result"
    }
   ],
   "source": [
    "# treinando o modelo\n",
    "clf.fit(X_tr_encoded_drop, y_tr)"
   ]
  },
  {
   "cell_type": "markdown",
   "id": "badfb18a",
   "metadata": {},
   "source": [
    "No geral, esse código é usado para identificar e listar as colunas de características que não têm um impacto significativo na previsão do modelo de regressão logística, com base nos coeficientes calculados. Essas colunas podem ser candidatas à remoção ou à redução de dimensionamento no conjunto de dados, a fim de simplificar o modelo sem perder muita informação preditiva."
   ]
  },
  {
   "cell_type": "code",
   "execution_count": 303,
   "id": "ef45f0ff",
   "metadata": {},
   "outputs": [
    {
     "name": "stdout",
     "output_type": "stream",
     "text": [
      "BMI                                               \t-0.004\n",
      "Sleep                                             \t0.053\n",
      "SoundSleep                                        \t0.048\n",
      "Pregancies                                        \t0.365\n",
      "Age_50-59                                         \t0.000\n",
      "Age_60 or older                                   \t1.723\n",
      "Age_less than 40                                  \t-1.759\n",
      "Gender_Male                                       \t1.097\n",
      "Family_Diabetes_yes                               \t1.092\n",
      "highBP_yes                                        \t0.000\n",
      "PhysicallyActive_more than half an hr             \t0.792\n",
      "PhysicallyActive_none                             \t0.933\n",
      "PhysicallyActive_one hr or more                   \t1.276\n",
      "Smoking_yes                                       \t0.000\n",
      "Alcohol_yes                                       \t0.000\n",
      "RegularMedicine_yes                               \t2.655\n",
      "JunkFood_occasionally                             \t-0.405\n",
      "JunkFood_very often                               \t0.000\n",
      "Stress_not at all                                 \t-0.558\n",
      "Stress_sometimes                                  \t-0.464\n",
      "Stress_very often                                 \t0.000\n",
      "BPLevel_low                                       \t-0.106\n",
      "BPLevel_normal                                    \t-0.678\n",
      "Pdiabetes_yes                                     \t3.460\n",
      "UriationFreq_quite often                          \t0.185\n"
     ]
    },
    {
     "data": {
      "text/plain": [
       "['Age_50-59',\n",
       " 'highBP_yes',\n",
       " 'Smoking_yes',\n",
       " 'Alcohol_yes',\n",
       " 'JunkFood_very often',\n",
       " 'Stress_very often']"
      ]
     },
     "execution_count": 303,
     "metadata": {},
     "output_type": "execute_result"
    }
   ],
   "source": [
    "# buscando os coeficientes das colunas  e identificando as zerada, ou seja, que não contribua  com o modelo\n",
    "zero_col = []\n",
    "for col,coef in zip(X_tr_encoded_drop.columns, clf.coef_[0]):\n",
    "    print(f'{col:50s}\\t{coef:.3f}')\n",
    "    if np.abs(coef)<=0.001:\n",
    "        zero_col.append(col)\n",
    "        \n",
    "zero_col"
   ]
  },
  {
   "cell_type": "markdown",
   "id": "9a00a024",
   "metadata": {},
   "source": [
    " as variaveis zeradas e que não contribui com o modelo, sendo assim podem ser excluidas, podemos observar os valore de C_, (valore baixos significa modelos generalizando bem, valore muito altos, temos que tomar cuidado, pode está ocorrendo sobreajuste."
   ]
  },
  {
   "cell_type": "code",
   "execution_count": 304,
   "id": "a2b4b58b",
   "metadata": {},
   "outputs": [
    {
     "data": {
      "text/plain": [
       "array([0.91116276])"
      ]
     },
     "execution_count": 304,
     "metadata": {},
     "output_type": "execute_result"
    }
   ],
   "source": [
    "# verificando o C_, o valor alto sinal de alerta!\n",
    "clf.C_"
   ]
  },
  {
   "cell_type": "markdown",
   "id": "4bc00fb4",
   "metadata": {},
   "source": [
    "### Vamos então refazer nossa Regressão Logística, tendo removido as correlações!\n"
   ]
  },
  {
   "cell_type": "code",
   "execution_count": 305,
   "id": "9c1af585",
   "metadata": {},
   "outputs": [
    {
     "name": "stdout",
     "output_type": "stream",
     "text": [
      "O valor médio da AUC foi de 0.94 com devio padrão de 0.04\n"
     ]
    }
   ],
   "source": [
    "clf = LogisticRegression(penalty= None,random_state=61658, max_iter=3_000)\n",
    "\n",
    "scores = cross_val_score(clf, X_tr_encoded_drop, y_tr, cv=10, scoring='roc_auc')\n",
    "\n",
    "print(f\"O valor médio da AUC foi de {scores.mean():.2f} com devio padrão de {scores.std():.2f}\")"
   ]
  },
  {
   "cell_type": "code",
   "execution_count": 306,
   "id": "5a255d5f",
   "metadata": {},
   "outputs": [
    {
     "name": "stdout",
     "output_type": "stream",
     "text": [
      "AUC - 0.9196928635953027\n"
     ]
    },
    {
     "data": {
      "image/png": "[encoded data removed]",
      "text/plain": [
       "<Figure size 800x800 with 1 Axes>"
      ]
     },
     "metadata": {},
     "output_type": "display_data"
    }
   ],
   "source": [
    "clf.fit(X_tr_encoded_drop, y_tr)\n",
    "\n",
    "# y_pred = clf.predict(X_ts_encoded_scaled)\n",
    "y_pred_proba = clf.predict_proba(X_ts_encoded_drop)[:,1]\n",
    "\n",
    "print('AUC -', roc_auc_score(y_ts, y_pred_proba))\n",
    "\n",
    "fpr, tpr, ths = roc_curve(y_ts, y_pred_proba)\n",
    "plt.figure(figsize=(8,8))\n",
    "plt.plot(fpr,tpr)\n",
    "plt.show()"
   ]
  },
  {
   "cell_type": "code",
   "execution_count": 307,
   "id": "36976392",
   "metadata": {},
   "outputs": [
    {
     "data": {
      "text/plain": [
       "1.0"
      ]
     },
     "execution_count": 307,
     "metadata": {},
     "output_type": "execute_result"
    }
   ],
   "source": [
    "# verificando o C_, o valor alto sinal de alerta! VERIFICAR A VALIDAÇÃO!\n",
    "clf.C"
   ]
  },
  {
   "cell_type": "code",
   "execution_count": 308,
   "id": "005b565b",
   "metadata": {},
   "outputs": [
    {
     "data": {
      "text/html": [
       "<div>\n",
       "<style scoped>\n",
       "    .dataframe tbody tr th:only-of-type {\n",
       "        vertical-align: middle;\n",
       "    }\n",
       "\n",
       "    .dataframe tbody tr th {\n",
       "        vertical-align: top;\n",
       "    }\n",
       "\n",
       "    .dataframe thead th {\n",
       "        text-align: right;\n",
       "    }\n",
       "</style>\n",
       "<table border=\"1\" class=\"dataframe\">\n",
       "  <thead>\n",
       "    <tr style=\"text-align: right;\">\n",
       "      <th></th>\n",
       "      <th>Diabetic</th>\n",
       "      <th>pred</th>\n",
       "    </tr>\n",
       "  </thead>\n",
       "  <tbody>\n",
       "    <tr>\n",
       "      <th>334</th>\n",
       "      <td>1</td>\n",
       "      <td>0.052578</td>\n",
       "    </tr>\n",
       "    <tr>\n",
       "      <th>434</th>\n",
       "      <td>0</td>\n",
       "      <td>0.019257</td>\n",
       "    </tr>\n",
       "    <tr>\n",
       "      <th>461</th>\n",
       "      <td>1</td>\n",
       "      <td>0.644012</td>\n",
       "    </tr>\n",
       "    <tr>\n",
       "      <th>375</th>\n",
       "      <td>0</td>\n",
       "      <td>0.000011</td>\n",
       "    </tr>\n",
       "    <tr>\n",
       "      <th>902</th>\n",
       "      <td>0</td>\n",
       "      <td>0.017603</td>\n",
       "    </tr>\n",
       "    <tr>\n",
       "      <th>...</th>\n",
       "      <td>...</td>\n",
       "      <td>...</td>\n",
       "    </tr>\n",
       "    <tr>\n",
       "      <th>833</th>\n",
       "      <td>0</td>\n",
       "      <td>0.958347</td>\n",
       "    </tr>\n",
       "    <tr>\n",
       "      <th>914</th>\n",
       "      <td>0</td>\n",
       "      <td>0.003027</td>\n",
       "    </tr>\n",
       "    <tr>\n",
       "      <th>68</th>\n",
       "      <td>1</td>\n",
       "      <td>0.923005</td>\n",
       "    </tr>\n",
       "    <tr>\n",
       "      <th>710</th>\n",
       "      <td>1</td>\n",
       "      <td>0.993751</td>\n",
       "    </tr>\n",
       "    <tr>\n",
       "      <th>815</th>\n",
       "      <td>0</td>\n",
       "      <td>0.000001</td>\n",
       "    </tr>\n",
       "  </tbody>\n",
       "</table>\n",
       "<p>286 rows × 2 columns</p>\n",
       "</div>"
      ],
      "text/plain": [
       "     Diabetic      pred\n",
       "334         1  0.052578\n",
       "434         0  0.019257\n",
       "461         1  0.644012\n",
       "375         0  0.000011\n",
       "902         0  0.017603\n",
       "..        ...       ...\n",
       "833         0  0.958347\n",
       "914         0  0.003027\n",
       "68          1  0.923005\n",
       "710         1  0.993751\n",
       "815         0  0.000001\n",
       "\n",
       "[286 rows x 2 columns]"
      ]
     },
     "execution_count": 308,
     "metadata": {},
     "output_type": "execute_result"
    }
   ],
   "source": [
    "\n",
    "\n",
    "# criando o dataframe\n",
    "y_ts_df_2 = pd.DataFrame(y_ts)\n",
    "\n",
    "# criando as predições\n",
    "y_ts_df_2.loc[:,'pred'] = y_pred_proba\n",
    "y_ts_df_2"
   ]
  },
  {
   "cell_type": "markdown",
   "id": "a3850118",
   "metadata": {},
   "source": [
    "## VALIDANDO O MODELO "
   ]
  },
  {
   "cell_type": "code",
   "execution_count": 309,
   "id": "016d4954",
   "metadata": {},
   "outputs": [
    {
     "data": {
      "text/plain": [
       "<matplotlib.legend.Legend at 0x237fbbe0990>"
      ]
     },
     "execution_count": 309,
     "metadata": {},
     "output_type": "execute_result"
    },
    {
     "data": {
      "image/png": "[encoded data removed]",
      "text/plain": [
       "<Figure size 1300x500 with 1 Axes>"
      ]
     },
     "metadata": {},
     "output_type": "display_data"
    }
   ],
   "source": [
    "plt.figure(figsize=(13,5))\n",
    "plt.hist(y_ts_df_2.loc[y_ts_df_2.Diabetic==0].pred,bins=np.linspace(0,1,13), color='C0', alpha=.3, density=True, rwidth=.8,label='Não-Diabético')\n",
    "plt.hist(y_ts_df_2.loc[y_ts_df_2.Diabetic==1].pred,bins=np.linspace(0,1,13), color='C3', alpha=.3, density=True, rwidth=.8,label='Diabético')\n",
    "plt.legend(fontsize=12)"
   ]
  },
  {
   "cell_type": "markdown",
   "id": "b69d8bcc",
   "metadata": {},
   "source": [
    "Parece que os modelos têm comportamentos muitos parecidos, tanto com regularização quanto sem regularização"
   ]
  },
  {
   "cell_type": "code",
   "execution_count": 311,
   "id": "127d9a0c",
   "metadata": {},
   "outputs": [
    {
     "name": "stdout",
     "output_type": "stream",
     "text": [
      "Intercepto                                      \t-5.015\n",
      "BMI                                               \t 0.004\n",
      "Sleep                                             \t 0.065\n",
      "SoundSleep                                        \t 0.117\n",
      "Pregancies                                        \t 0.383\n",
      "Age_50-59                                         \t 0.433\n",
      "Age_60 or older                                   \t 2.305\n",
      "Age_less than 40                                  \t-2.025\n",
      "Gender_Male                                       \t 1.913\n",
      "Family_Diabetes_yes                               \t 1.393\n",
      "highBP_yes                                        \t-0.515\n",
      "PhysicallyActive_more than half an hr             \t 1.626\n",
      "PhysicallyActive_none                             \t 1.760\n",
      "PhysicallyActive_one hr or more                   \t 2.121\n",
      "Smoking_yes                                       \t 0.535\n",
      "Alcohol_yes                                       \t-0.525\n",
      "RegularMedicine_yes                               \t 3.402\n",
      "JunkFood_occasionally                             \t-0.848\n",
      "JunkFood_very often                               \t-0.296\n",
      "Stress_not at all                                 \t-1.776\n",
      "Stress_sometimes                                  \t-0.662\n",
      "Stress_very often                                 \t-0.426\n",
      "BPLevel_low                                       \t-8.349\n",
      "BPLevel_normal                                    \t-1.395\n",
      "Pdiabetes_yes                                     \t 8.561\n",
      "UriationFreq_quite often                          \t 0.374\n"
     ]
    }
   ],
   "source": [
    "# verificando o intercepto de cada variáveis\n",
    "print(f'Intercepto                                      \\t{clf.intercept_[0]:6.3f}')\n",
    "for col,coef in zip(X_tr_encoded_drop.columns, clf.coef_[0]):\n",
    "    print(f'{col:50s}\\t{coef:6.3f}')"
   ]
  },
  {
   "cell_type": "markdown",
   "id": "c29a7bfe",
   "metadata": {},
   "source": [
    "## Entendo as variáveis do modelo"
   ]
  },
  {
   "cell_type": "markdown",
   "id": "e614c72a",
   "metadata": {},
   "source": [
    "- O intercepto é -5,015. Isso significa que se todas as outras variáveis forem iguais a zero, então a probabilidade prevista de ter diabetes é -5,015. Este é um valor negativo, o que significa que o modelo prevê que é menos provável ter diabetes do que não ter diabetes.\n",
    "\n",
    "- O coeficiente de Pdiabetes_yes, 8.561, indica que um indivíduo com Pdiabetes_yes (pré-diabetes) tem uma probabilidade 8.561 vezes maior de ter diabetes do que um indivíduo com Pdiabetes_no (sem pré-diabetes).\n",
    "\n",
    "- O coeficiente de RegularMedicine_yes, 3.402, indica que um indivíduo que toma medicamentos regularmente tem uma probabilidade 3.402 vezes maior de ter diabetes do que um indivíduo que não toma medicamentos regularmente.\n",
    "\n",
    "- O coeficiente de BPLevel_low, -8.349, indica que um indivíduo com pressão arterial baixa tem uma probabilidade -8.349 vezes menor de ter diabetes do que um indivíduo com pressão arterial normal. \n",
    "\n",
    "- O coeficiente de Alcohol_yes, -0.525, indica que um indivíduo que ingere álcool tem uma probabilidade -0.525 vezes menor de ter diabetes do que um indivíduo que não ingere álcool. \n",
    "\n",
    "- O coeficiente para Idade_60 ou mais é 2,305. Isso significa que para cada aumento de uma unidade em Idade_60 ou mais, a probabilidade prevista de ter diabetes aumenta em 2,305. Este é um valor positivo, o que significa que o modelo prevê que as pessoas que têm 60 anos de idade ou mais são mais propensas a ter diabetes do que as pessoas mais jovens.\n",
    "\n",
    "- O coeficiente de Pregancies,  0.383, indica que um indivíduo com um ou mais gestações tem uma probabilidade  0.383 vezes maior de ter diabetes do que um indivíduo sem gestações. Em outras palavras, a probabilidade de um indivíduo com um ou mais gestações ter diabetes é de cerca de 38,3%.\n",
    "\n",
    "Isso significa que a gravidez é um fator de risco para o diabetes. Estudos têm mostrado que o risco de desenvolver diabetes aumenta após a gravidez, mesmo em mulheres que não tinham diabetes antes da gravidez. Isso ocorre porque a gravidez pode causar alterações no corpo que podem levar à resistência à insulina e ao diabetes."
   ]
  },
  {
   "cell_type": "markdown",
   "id": "e50969ac",
   "metadata": {},
   "source": [
    "# Interpretando o modelo"
   ]
  },
  {
   "cell_type": "markdown",
   "id": "d1b23d2c",
   "metadata": {},
   "source": [
    "De acordo com a informação fornecida, a probabilidade de um indivíduo pertencer à classe 1 (indivíduos com diabetes) é de 0,01% na ausência de qualquer outra variável. Isso significa que, para cada 100.000 indivíduos, apenas 1 indivíduo é esperado ter diabetes na ausência de qualquer outra variável.\n",
    "\n",
    "Os padrões de indivíduos sem diabetes são aqueles que se afastam dos padrões que são associados ao diabetes. Esses padrões incluem:\n",
    "\n",
    "- Idade: Indivíduos mais jovens são menos propensos a ter diabetes do que indivíduos mais velhos.\n",
    "\n",
    "- Sexo: Indivíduos do sexo masculino são mais propensos a ter diabetes do que indivíduos do sexo feminino.\n",
    "\n",
    "- História familiar: Indivíduos com histórico familiar de diabetes são mais propensos a ter diabetes.\n",
    "\n",
    "- Fatores de risco comportamentais: Indivíduos com fatores de risco comportamentais, como obesidade, sedentarismo e má alimentação, são mais propensos a ter diabetes.\n",
    "\n",
    "Portanto, indivíduos sem diabetes são mais propensos a:\n",
    "\n",
    "Ser mais jovens.\n",
    "\n",
    "Ser do sexo feminino.\n",
    "\n",
    "Não ter histórico familiar de diabetes.\n",
    "\n",
    "Não ter fatores de risco comportamentais.\n",
    "\n",
    "Aqui estão alguns exemplos específicos de padrões de indivíduos sem diabetes:\n",
    "\n",
    "- Indivíduos com idade inferior a 40 anos são muito menos propensos a ter diabetes do que indivíduos com idade superior a 60 anos.\n",
    "- Indivíduos do sexo feminino são cerca de 20% menos propensos a ter diabetes do que indivíduos do sexo masculino.\n",
    "- Indivíduos sem histórico familiar de diabetes são cerca de 50% menos propensos a ter diabetes do que indivíduos com histórico familiar de diabetes.\n",
    "- Indivíduos com Índice de Massa Corporal (IMC) inferior a 25 são menos propensos a ter diabetes do que indivíduos com IMC superior a 30.\n",
    "- Indivíduos que praticam atividade física regularmente são menos propensos a ter diabetes do que indivíduos que são sedentários.\n",
    "- Indivíduos que seguem uma dieta saudável são menos propensos a ter diabetes do que indivíduos que seguem uma dieta não saudável."
   ]
  }
 ],
 "metadata": {
  "kernelspec": {
   "display_name": "Python 3 (ipykernel)",
   "language": "python",
   "name": "python3"
  },
  "language_info": {
   "codemirror_mode": {
    "name": "ipython",
    "version": 3
   },
   "file_extension": ".py",
   "mimetype": "text/x-python",
   "name": "python",
   "nbconvert_exporter": "python",
   "pygments_lexer": "ipython3",
   "version": "3.11.4"
  }
 },
 "nbformat": 4,
 "nbformat_minor": 5
}
